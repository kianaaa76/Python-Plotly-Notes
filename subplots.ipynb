{
 "cells": [
  {
   "cell_type": "code",
   "execution_count": 1,
   "id": "5ff94d22",
   "metadata": {},
   "outputs": [],
   "source": [
    "import plotly.express as px"
   ]
  },
  {
   "cell_type": "code",
   "execution_count": 14,
   "id": "6910d165",
   "metadata": {},
   "outputs": [
    {
     "data": {
      "text/html": [
       "<div>\n",
       "<style scoped>\n",
       "    .dataframe tbody tr th:only-of-type {\n",
       "        vertical-align: middle;\n",
       "    }\n",
       "\n",
       "    .dataframe tbody tr th {\n",
       "        vertical-align: top;\n",
       "    }\n",
       "\n",
       "    .dataframe thead th {\n",
       "        text-align: right;\n",
       "    }\n",
       "</style>\n",
       "<table border=\"1\" class=\"dataframe\">\n",
       "  <thead>\n",
       "    <tr style=\"text-align: right;\">\n",
       "      <th></th>\n",
       "      <th>country</th>\n",
       "      <th>continent</th>\n",
       "      <th>year</th>\n",
       "      <th>lifeExp</th>\n",
       "      <th>pop</th>\n",
       "      <th>gdpPercap</th>\n",
       "      <th>iso_alpha</th>\n",
       "      <th>iso_num</th>\n",
       "    </tr>\n",
       "  </thead>\n",
       "  <tbody>\n",
       "    <tr>\n",
       "      <th>11</th>\n",
       "      <td>Afghanistan</td>\n",
       "      <td>Asia</td>\n",
       "      <td>2007</td>\n",
       "      <td>43.828</td>\n",
       "      <td>31889923</td>\n",
       "      <td>974.580338</td>\n",
       "      <td>AFG</td>\n",
       "      <td>4</td>\n",
       "    </tr>\n",
       "    <tr>\n",
       "      <th>23</th>\n",
       "      <td>Albania</td>\n",
       "      <td>Europe</td>\n",
       "      <td>2007</td>\n",
       "      <td>76.423</td>\n",
       "      <td>3600523</td>\n",
       "      <td>5937.029526</td>\n",
       "      <td>ALB</td>\n",
       "      <td>8</td>\n",
       "    </tr>\n",
       "    <tr>\n",
       "      <th>35</th>\n",
       "      <td>Algeria</td>\n",
       "      <td>Africa</td>\n",
       "      <td>2007</td>\n",
       "      <td>72.301</td>\n",
       "      <td>33333216</td>\n",
       "      <td>6223.367465</td>\n",
       "      <td>DZA</td>\n",
       "      <td>12</td>\n",
       "    </tr>\n",
       "    <tr>\n",
       "      <th>47</th>\n",
       "      <td>Angola</td>\n",
       "      <td>Africa</td>\n",
       "      <td>2007</td>\n",
       "      <td>42.731</td>\n",
       "      <td>12420476</td>\n",
       "      <td>4797.231267</td>\n",
       "      <td>AGO</td>\n",
       "      <td>24</td>\n",
       "    </tr>\n",
       "    <tr>\n",
       "      <th>59</th>\n",
       "      <td>Argentina</td>\n",
       "      <td>Americas</td>\n",
       "      <td>2007</td>\n",
       "      <td>75.320</td>\n",
       "      <td>40301927</td>\n",
       "      <td>12779.379640</td>\n",
       "      <td>ARG</td>\n",
       "      <td>32</td>\n",
       "    </tr>\n",
       "    <tr>\n",
       "      <th>...</th>\n",
       "      <td>...</td>\n",
       "      <td>...</td>\n",
       "      <td>...</td>\n",
       "      <td>...</td>\n",
       "      <td>...</td>\n",
       "      <td>...</td>\n",
       "      <td>...</td>\n",
       "      <td>...</td>\n",
       "    </tr>\n",
       "    <tr>\n",
       "      <th>1655</th>\n",
       "      <td>Vietnam</td>\n",
       "      <td>Asia</td>\n",
       "      <td>2007</td>\n",
       "      <td>74.249</td>\n",
       "      <td>85262356</td>\n",
       "      <td>2441.576404</td>\n",
       "      <td>VNM</td>\n",
       "      <td>704</td>\n",
       "    </tr>\n",
       "    <tr>\n",
       "      <th>1667</th>\n",
       "      <td>West Bank and Gaza</td>\n",
       "      <td>Asia</td>\n",
       "      <td>2007</td>\n",
       "      <td>73.422</td>\n",
       "      <td>4018332</td>\n",
       "      <td>3025.349798</td>\n",
       "      <td>PSE</td>\n",
       "      <td>275</td>\n",
       "    </tr>\n",
       "    <tr>\n",
       "      <th>1679</th>\n",
       "      <td>Yemen, Rep.</td>\n",
       "      <td>Asia</td>\n",
       "      <td>2007</td>\n",
       "      <td>62.698</td>\n",
       "      <td>22211743</td>\n",
       "      <td>2280.769906</td>\n",
       "      <td>YEM</td>\n",
       "      <td>887</td>\n",
       "    </tr>\n",
       "    <tr>\n",
       "      <th>1691</th>\n",
       "      <td>Zambia</td>\n",
       "      <td>Africa</td>\n",
       "      <td>2007</td>\n",
       "      <td>42.384</td>\n",
       "      <td>11746035</td>\n",
       "      <td>1271.211593</td>\n",
       "      <td>ZMB</td>\n",
       "      <td>894</td>\n",
       "    </tr>\n",
       "    <tr>\n",
       "      <th>1703</th>\n",
       "      <td>Zimbabwe</td>\n",
       "      <td>Africa</td>\n",
       "      <td>2007</td>\n",
       "      <td>43.487</td>\n",
       "      <td>12311143</td>\n",
       "      <td>469.709298</td>\n",
       "      <td>ZWE</td>\n",
       "      <td>716</td>\n",
       "    </tr>\n",
       "  </tbody>\n",
       "</table>\n",
       "<p>142 rows × 8 columns</p>\n",
       "</div>"
      ],
      "text/plain": [
       "                 country continent  year  lifeExp       pop     gdpPercap  \\\n",
       "11           Afghanistan      Asia  2007   43.828  31889923    974.580338   \n",
       "23               Albania    Europe  2007   76.423   3600523   5937.029526   \n",
       "35               Algeria    Africa  2007   72.301  33333216   6223.367465   \n",
       "47                Angola    Africa  2007   42.731  12420476   4797.231267   \n",
       "59             Argentina  Americas  2007   75.320  40301927  12779.379640   \n",
       "...                  ...       ...   ...      ...       ...           ...   \n",
       "1655             Vietnam      Asia  2007   74.249  85262356   2441.576404   \n",
       "1667  West Bank and Gaza      Asia  2007   73.422   4018332   3025.349798   \n",
       "1679         Yemen, Rep.      Asia  2007   62.698  22211743   2280.769906   \n",
       "1691              Zambia    Africa  2007   42.384  11746035   1271.211593   \n",
       "1703            Zimbabwe    Africa  2007   43.487  12311143    469.709298   \n",
       "\n",
       "     iso_alpha  iso_num  \n",
       "11         AFG        4  \n",
       "23         ALB        8  \n",
       "35         DZA       12  \n",
       "47         AGO       24  \n",
       "59         ARG       32  \n",
       "...        ...      ...  \n",
       "1655       VNM      704  \n",
       "1667       PSE      275  \n",
       "1679       YEM      887  \n",
       "1691       ZMB      894  \n",
       "1703       ZWE      716  \n",
       "\n",
       "[142 rows x 8 columns]"
      ]
     },
     "execution_count": 14,
     "metadata": {},
     "output_type": "execute_result"
    }
   ],
   "source": [
    "data = px.data.gapminder()\n",
    "data = data[data['year'] == 2007] \n",
    "data                 "
   ]
  },
  {
   "cell_type": "code",
   "execution_count": 18,
   "id": "a7e6b12d",
   "metadata": {},
   "outputs": [
    {
     "data": {
      "application/vnd.plotly.v1+json": {
       "config": {
        "plotlyServerURL": "https://plot.ly"
       },
       "data": [
        {
         "hovertemplate": "country=Afghanistan<br>continent=Asia<br>lifeExp=%{x}<br>gdpPercap=%{y}<extra></extra>",
         "legendgroup": "Afghanistan",
         "marker": {
          "color": "#636efa",
          "symbol": "circle"
         },
         "mode": "markers",
         "name": "Afghanistan",
         "orientation": "v",
         "showlegend": true,
         "type": "scatter",
         "x": [
          43.828
         ],
         "xaxis": "x4",
         "y": [
          974.5803384
         ],
         "yaxis": "y4"
        },
        {
         "hovertemplate": "country=Albania<br>continent=Europe<br>lifeExp=%{x}<br>gdpPercap=%{y}<extra></extra>",
         "legendgroup": "Albania",
         "marker": {
          "color": "#EF553B",
          "symbol": "circle"
         },
         "mode": "markers",
         "name": "Albania",
         "orientation": "v",
         "showlegend": true,
         "type": "scatter",
         "x": [
          76.423
         ],
         "xaxis": "x5",
         "y": [
          5937.029525999998
         ],
         "yaxis": "y5"
        },
        {
         "hovertemplate": "country=Algeria<br>continent=Africa<br>lifeExp=%{x}<br>gdpPercap=%{y}<extra></extra>",
         "legendgroup": "Algeria",
         "marker": {
          "color": "#00cc96",
          "symbol": "circle"
         },
         "mode": "markers",
         "name": "Algeria",
         "orientation": "v",
         "showlegend": true,
         "type": "scatter",
         "x": [
          72.301
         ],
         "xaxis": "x6",
         "y": [
          6223.367465
         ],
         "yaxis": "y6"
        },
        {
         "hovertemplate": "country=Angola<br>continent=Africa<br>lifeExp=%{x}<br>gdpPercap=%{y}<extra></extra>",
         "legendgroup": "Angola",
         "marker": {
          "color": "#ab63fa",
          "symbol": "circle"
         },
         "mode": "markers",
         "name": "Angola",
         "orientation": "v",
         "showlegend": true,
         "type": "scatter",
         "x": [
          42.731
         ],
         "xaxis": "x6",
         "y": [
          4797.231267
         ],
         "yaxis": "y6"
        },
        {
         "hovertemplate": "country=Argentina<br>continent=Americas<br>lifeExp=%{x}<br>gdpPercap=%{y}<extra></extra>",
         "legendgroup": "Argentina",
         "marker": {
          "color": "#FFA15A",
          "symbol": "circle"
         },
         "mode": "markers",
         "name": "Argentina",
         "orientation": "v",
         "showlegend": true,
         "type": "scatter",
         "x": [
          75.32
         ],
         "xaxis": "x",
         "y": [
          12779.37964
         ],
         "yaxis": "y"
        },
        {
         "hovertemplate": "country=Australia<br>continent=Oceania<br>lifeExp=%{x}<br>gdpPercap=%{y}<extra></extra>",
         "legendgroup": "Australia",
         "marker": {
          "color": "#19d3f3",
          "symbol": "circle"
         },
         "mode": "markers",
         "name": "Australia",
         "orientation": "v",
         "showlegend": true,
         "type": "scatter",
         "x": [
          81.235
         ],
         "xaxis": "x2",
         "y": [
          34435.367439999995
         ],
         "yaxis": "y2"
        },
        {
         "hovertemplate": "country=Austria<br>continent=Europe<br>lifeExp=%{x}<br>gdpPercap=%{y}<extra></extra>",
         "legendgroup": "Austria",
         "marker": {
          "color": "#FF6692",
          "symbol": "circle"
         },
         "mode": "markers",
         "name": "Austria",
         "orientation": "v",
         "showlegend": true,
         "type": "scatter",
         "x": [
          79.829
         ],
         "xaxis": "x5",
         "y": [
          36126.4927
         ],
         "yaxis": "y5"
        },
        {
         "hovertemplate": "country=Bahrain<br>continent=Asia<br>lifeExp=%{x}<br>gdpPercap=%{y}<extra></extra>",
         "legendgroup": "Bahrain",
         "marker": {
          "color": "#B6E880",
          "symbol": "circle"
         },
         "mode": "markers",
         "name": "Bahrain",
         "orientation": "v",
         "showlegend": true,
         "type": "scatter",
         "x": [
          75.635
         ],
         "xaxis": "x4",
         "y": [
          29796.04834
         ],
         "yaxis": "y4"
        },
        {
         "hovertemplate": "country=Bangladesh<br>continent=Asia<br>lifeExp=%{x}<br>gdpPercap=%{y}<extra></extra>",
         "legendgroup": "Bangladesh",
         "marker": {
          "color": "#FF97FF",
          "symbol": "circle"
         },
         "mode": "markers",
         "name": "Bangladesh",
         "orientation": "v",
         "showlegend": true,
         "type": "scatter",
         "x": [
          64.062
         ],
         "xaxis": "x4",
         "y": [
          1391.253792
         ],
         "yaxis": "y4"
        },
        {
         "hovertemplate": "country=Belgium<br>continent=Europe<br>lifeExp=%{x}<br>gdpPercap=%{y}<extra></extra>",
         "legendgroup": "Belgium",
         "marker": {
          "color": "#FECB52",
          "symbol": "circle"
         },
         "mode": "markers",
         "name": "Belgium",
         "orientation": "v",
         "showlegend": true,
         "type": "scatter",
         "x": [
          79.441
         ],
         "xaxis": "x5",
         "y": [
          33692.60508
         ],
         "yaxis": "y5"
        },
        {
         "hovertemplate": "country=Benin<br>continent=Africa<br>lifeExp=%{x}<br>gdpPercap=%{y}<extra></extra>",
         "legendgroup": "Benin",
         "marker": {
          "color": "#636efa",
          "symbol": "circle"
         },
         "mode": "markers",
         "name": "Benin",
         "orientation": "v",
         "showlegend": true,
         "type": "scatter",
         "x": [
          56.728
         ],
         "xaxis": "x6",
         "y": [
          1441.284873
         ],
         "yaxis": "y6"
        },
        {
         "hovertemplate": "country=Bolivia<br>continent=Americas<br>lifeExp=%{x}<br>gdpPercap=%{y}<extra></extra>",
         "legendgroup": "Bolivia",
         "marker": {
          "color": "#EF553B",
          "symbol": "circle"
         },
         "mode": "markers",
         "name": "Bolivia",
         "orientation": "v",
         "showlegend": true,
         "type": "scatter",
         "x": [
          65.554
         ],
         "xaxis": "x",
         "y": [
          3822.137084
         ],
         "yaxis": "y"
        },
        {
         "hovertemplate": "country=Bosnia and Herzegovina<br>continent=Europe<br>lifeExp=%{x}<br>gdpPercap=%{y}<extra></extra>",
         "legendgroup": "Bosnia and Herzegovina",
         "marker": {
          "color": "#00cc96",
          "symbol": "circle"
         },
         "mode": "markers",
         "name": "Bosnia and Herzegovina",
         "orientation": "v",
         "showlegend": true,
         "type": "scatter",
         "x": [
          74.852
         ],
         "xaxis": "x5",
         "y": [
          7446.298803
         ],
         "yaxis": "y5"
        },
        {
         "hovertemplate": "country=Botswana<br>continent=Africa<br>lifeExp=%{x}<br>gdpPercap=%{y}<extra></extra>",
         "legendgroup": "Botswana",
         "marker": {
          "color": "#ab63fa",
          "symbol": "circle"
         },
         "mode": "markers",
         "name": "Botswana",
         "orientation": "v",
         "showlegend": true,
         "type": "scatter",
         "x": [
          50.728
         ],
         "xaxis": "x6",
         "y": [
          12569.85177
         ],
         "yaxis": "y6"
        },
        {
         "hovertemplate": "country=Brazil<br>continent=Americas<br>lifeExp=%{x}<br>gdpPercap=%{y}<extra></extra>",
         "legendgroup": "Brazil",
         "marker": {
          "color": "#FFA15A",
          "symbol": "circle"
         },
         "mode": "markers",
         "name": "Brazil",
         "orientation": "v",
         "showlegend": true,
         "type": "scatter",
         "x": [
          72.39
         ],
         "xaxis": "x",
         "y": [
          9065.800825
         ],
         "yaxis": "y"
        },
        {
         "hovertemplate": "country=Bulgaria<br>continent=Europe<br>lifeExp=%{x}<br>gdpPercap=%{y}<extra></extra>",
         "legendgroup": "Bulgaria",
         "marker": {
          "color": "#19d3f3",
          "symbol": "circle"
         },
         "mode": "markers",
         "name": "Bulgaria",
         "orientation": "v",
         "showlegend": true,
         "type": "scatter",
         "x": [
          73.005
         ],
         "xaxis": "x5",
         "y": [
          10680.79282
         ],
         "yaxis": "y5"
        },
        {
         "hovertemplate": "country=Burkina Faso<br>continent=Africa<br>lifeExp=%{x}<br>gdpPercap=%{y}<extra></extra>",
         "legendgroup": "Burkina Faso",
         "marker": {
          "color": "#FF6692",
          "symbol": "circle"
         },
         "mode": "markers",
         "name": "Burkina Faso",
         "orientation": "v",
         "showlegend": true,
         "type": "scatter",
         "x": [
          52.295
         ],
         "xaxis": "x6",
         "y": [
          1217.032994
         ],
         "yaxis": "y6"
        },
        {
         "hovertemplate": "country=Burundi<br>continent=Africa<br>lifeExp=%{x}<br>gdpPercap=%{y}<extra></extra>",
         "legendgroup": "Burundi",
         "marker": {
          "color": "#B6E880",
          "symbol": "circle"
         },
         "mode": "markers",
         "name": "Burundi",
         "orientation": "v",
         "showlegend": true,
         "type": "scatter",
         "x": [
          49.58
         ],
         "xaxis": "x6",
         "y": [
          430.0706916
         ],
         "yaxis": "y6"
        },
        {
         "hovertemplate": "country=Cambodia<br>continent=Asia<br>lifeExp=%{x}<br>gdpPercap=%{y}<extra></extra>",
         "legendgroup": "Cambodia",
         "marker": {
          "color": "#FF97FF",
          "symbol": "circle"
         },
         "mode": "markers",
         "name": "Cambodia",
         "orientation": "v",
         "showlegend": true,
         "type": "scatter",
         "x": [
          59.723
         ],
         "xaxis": "x4",
         "y": [
          1713.778686
         ],
         "yaxis": "y4"
        },
        {
         "hovertemplate": "country=Cameroon<br>continent=Africa<br>lifeExp=%{x}<br>gdpPercap=%{y}<extra></extra>",
         "legendgroup": "Cameroon",
         "marker": {
          "color": "#FECB52",
          "symbol": "circle"
         },
         "mode": "markers",
         "name": "Cameroon",
         "orientation": "v",
         "showlegend": true,
         "type": "scatter",
         "x": [
          50.43
         ],
         "xaxis": "x6",
         "y": [
          2042.09524
         ],
         "yaxis": "y6"
        },
        {
         "hovertemplate": "country=Canada<br>continent=Americas<br>lifeExp=%{x}<br>gdpPercap=%{y}<extra></extra>",
         "legendgroup": "Canada",
         "marker": {
          "color": "#636efa",
          "symbol": "circle"
         },
         "mode": "markers",
         "name": "Canada",
         "orientation": "v",
         "showlegend": true,
         "type": "scatter",
         "x": [
          80.653
         ],
         "xaxis": "x",
         "y": [
          36319.23501
         ],
         "yaxis": "y"
        },
        {
         "hovertemplate": "country=Central African Republic<br>continent=Africa<br>lifeExp=%{x}<br>gdpPercap=%{y}<extra></extra>",
         "legendgroup": "Central African Republic",
         "marker": {
          "color": "#EF553B",
          "symbol": "circle"
         },
         "mode": "markers",
         "name": "Central African Republic",
         "orientation": "v",
         "showlegend": true,
         "type": "scatter",
         "x": [
          44.74100000000001
         ],
         "xaxis": "x6",
         "y": [
          706.016537
         ],
         "yaxis": "y6"
        },
        {
         "hovertemplate": "country=Chad<br>continent=Africa<br>lifeExp=%{x}<br>gdpPercap=%{y}<extra></extra>",
         "legendgroup": "Chad",
         "marker": {
          "color": "#00cc96",
          "symbol": "circle"
         },
         "mode": "markers",
         "name": "Chad",
         "orientation": "v",
         "showlegend": true,
         "type": "scatter",
         "x": [
          50.651
         ],
         "xaxis": "x6",
         "y": [
          1704.063724
         ],
         "yaxis": "y6"
        },
        {
         "hovertemplate": "country=Chile<br>continent=Americas<br>lifeExp=%{x}<br>gdpPercap=%{y}<extra></extra>",
         "legendgroup": "Chile",
         "marker": {
          "color": "#ab63fa",
          "symbol": "circle"
         },
         "mode": "markers",
         "name": "Chile",
         "orientation": "v",
         "showlegend": true,
         "type": "scatter",
         "x": [
          78.553
         ],
         "xaxis": "x",
         "y": [
          13171.63885
         ],
         "yaxis": "y"
        },
        {
         "hovertemplate": "country=China<br>continent=Asia<br>lifeExp=%{x}<br>gdpPercap=%{y}<extra></extra>",
         "legendgroup": "China",
         "marker": {
          "color": "#FFA15A",
          "symbol": "circle"
         },
         "mode": "markers",
         "name": "China",
         "orientation": "v",
         "showlegend": true,
         "type": "scatter",
         "x": [
          72.961
         ],
         "xaxis": "x4",
         "y": [
          4959.114854
         ],
         "yaxis": "y4"
        },
        {
         "hovertemplate": "country=Colombia<br>continent=Americas<br>lifeExp=%{x}<br>gdpPercap=%{y}<extra></extra>",
         "legendgroup": "Colombia",
         "marker": {
          "color": "#19d3f3",
          "symbol": "circle"
         },
         "mode": "markers",
         "name": "Colombia",
         "orientation": "v",
         "showlegend": true,
         "type": "scatter",
         "x": [
          72.889
         ],
         "xaxis": "x",
         "y": [
          7006.580419
         ],
         "yaxis": "y"
        },
        {
         "hovertemplate": "country=Comoros<br>continent=Africa<br>lifeExp=%{x}<br>gdpPercap=%{y}<extra></extra>",
         "legendgroup": "Comoros",
         "marker": {
          "color": "#FF6692",
          "symbol": "circle"
         },
         "mode": "markers",
         "name": "Comoros",
         "orientation": "v",
         "showlegend": true,
         "type": "scatter",
         "x": [
          65.152
         ],
         "xaxis": "x6",
         "y": [
          986.1478792
         ],
         "yaxis": "y6"
        },
        {
         "hovertemplate": "country=Congo, Dem. Rep.<br>continent=Africa<br>lifeExp=%{x}<br>gdpPercap=%{y}<extra></extra>",
         "legendgroup": "Congo, Dem. Rep.",
         "marker": {
          "color": "#B6E880",
          "symbol": "circle"
         },
         "mode": "markers",
         "name": "Congo, Dem. Rep.",
         "orientation": "v",
         "showlegend": true,
         "type": "scatter",
         "x": [
          46.462
         ],
         "xaxis": "x6",
         "y": [
          277.5518587
         ],
         "yaxis": "y6"
        },
        {
         "hovertemplate": "country=Congo, Rep.<br>continent=Africa<br>lifeExp=%{x}<br>gdpPercap=%{y}<extra></extra>",
         "legendgroup": "Congo, Rep.",
         "marker": {
          "color": "#FF97FF",
          "symbol": "circle"
         },
         "mode": "markers",
         "name": "Congo, Rep.",
         "orientation": "v",
         "showlegend": true,
         "type": "scatter",
         "x": [
          55.322
         ],
         "xaxis": "x6",
         "y": [
          3632.557798
         ],
         "yaxis": "y6"
        },
        {
         "hovertemplate": "country=Costa Rica<br>continent=Americas<br>lifeExp=%{x}<br>gdpPercap=%{y}<extra></extra>",
         "legendgroup": "Costa Rica",
         "marker": {
          "color": "#FECB52",
          "symbol": "circle"
         },
         "mode": "markers",
         "name": "Costa Rica",
         "orientation": "v",
         "showlegend": true,
         "type": "scatter",
         "x": [
          78.782
         ],
         "xaxis": "x",
         "y": [
          9645.06142
         ],
         "yaxis": "y"
        },
        {
         "hovertemplate": "country=Cote d'Ivoire<br>continent=Africa<br>lifeExp=%{x}<br>gdpPercap=%{y}<extra></extra>",
         "legendgroup": "Cote d'Ivoire",
         "marker": {
          "color": "#636efa",
          "symbol": "circle"
         },
         "mode": "markers",
         "name": "Cote d'Ivoire",
         "orientation": "v",
         "showlegend": true,
         "type": "scatter",
         "x": [
          48.328
         ],
         "xaxis": "x6",
         "y": [
          1544.750112
         ],
         "yaxis": "y6"
        },
        {
         "hovertemplate": "country=Croatia<br>continent=Europe<br>lifeExp=%{x}<br>gdpPercap=%{y}<extra></extra>",
         "legendgroup": "Croatia",
         "marker": {
          "color": "#EF553B",
          "symbol": "circle"
         },
         "mode": "markers",
         "name": "Croatia",
         "orientation": "v",
         "showlegend": true,
         "type": "scatter",
         "x": [
          75.748
         ],
         "xaxis": "x5",
         "y": [
          14619.222719999998
         ],
         "yaxis": "y5"
        },
        {
         "hovertemplate": "country=Cuba<br>continent=Americas<br>lifeExp=%{x}<br>gdpPercap=%{y}<extra></extra>",
         "legendgroup": "Cuba",
         "marker": {
          "color": "#00cc96",
          "symbol": "circle"
         },
         "mode": "markers",
         "name": "Cuba",
         "orientation": "v",
         "showlegend": true,
         "type": "scatter",
         "x": [
          78.273
         ],
         "xaxis": "x",
         "y": [
          8948.102923
         ],
         "yaxis": "y"
        },
        {
         "hovertemplate": "country=Czech Republic<br>continent=Europe<br>lifeExp=%{x}<br>gdpPercap=%{y}<extra></extra>",
         "legendgroup": "Czech Republic",
         "marker": {
          "color": "#ab63fa",
          "symbol": "circle"
         },
         "mode": "markers",
         "name": "Czech Republic",
         "orientation": "v",
         "showlegend": true,
         "type": "scatter",
         "x": [
          76.486
         ],
         "xaxis": "x5",
         "y": [
          22833.30851
         ],
         "yaxis": "y5"
        },
        {
         "hovertemplate": "country=Denmark<br>continent=Europe<br>lifeExp=%{x}<br>gdpPercap=%{y}<extra></extra>",
         "legendgroup": "Denmark",
         "marker": {
          "color": "#FFA15A",
          "symbol": "circle"
         },
         "mode": "markers",
         "name": "Denmark",
         "orientation": "v",
         "showlegend": true,
         "type": "scatter",
         "x": [
          78.332
         ],
         "xaxis": "x5",
         "y": [
          35278.41874
         ],
         "yaxis": "y5"
        },
        {
         "hovertemplate": "country=Djibouti<br>continent=Africa<br>lifeExp=%{x}<br>gdpPercap=%{y}<extra></extra>",
         "legendgroup": "Djibouti",
         "marker": {
          "color": "#19d3f3",
          "symbol": "circle"
         },
         "mode": "markers",
         "name": "Djibouti",
         "orientation": "v",
         "showlegend": true,
         "type": "scatter",
         "x": [
          54.791
         ],
         "xaxis": "x6",
         "y": [
          2082.4815670000007
         ],
         "yaxis": "y6"
        },
        {
         "hovertemplate": "country=Dominican Republic<br>continent=Americas<br>lifeExp=%{x}<br>gdpPercap=%{y}<extra></extra>",
         "legendgroup": "Dominican Republic",
         "marker": {
          "color": "#FF6692",
          "symbol": "circle"
         },
         "mode": "markers",
         "name": "Dominican Republic",
         "orientation": "v",
         "showlegend": true,
         "type": "scatter",
         "x": [
          72.235
         ],
         "xaxis": "x",
         "y": [
          6025.3747520000015
         ],
         "yaxis": "y"
        },
        {
         "hovertemplate": "country=Ecuador<br>continent=Americas<br>lifeExp=%{x}<br>gdpPercap=%{y}<extra></extra>",
         "legendgroup": "Ecuador",
         "marker": {
          "color": "#B6E880",
          "symbol": "circle"
         },
         "mode": "markers",
         "name": "Ecuador",
         "orientation": "v",
         "showlegend": true,
         "type": "scatter",
         "x": [
          74.994
         ],
         "xaxis": "x",
         "y": [
          6873.262326000001
         ],
         "yaxis": "y"
        },
        {
         "hovertemplate": "country=Egypt<br>continent=Africa<br>lifeExp=%{x}<br>gdpPercap=%{y}<extra></extra>",
         "legendgroup": "Egypt",
         "marker": {
          "color": "#FF97FF",
          "symbol": "circle"
         },
         "mode": "markers",
         "name": "Egypt",
         "orientation": "v",
         "showlegend": true,
         "type": "scatter",
         "x": [
          71.33800000000002
         ],
         "xaxis": "x6",
         "y": [
          5581.180998
         ],
         "yaxis": "y6"
        },
        {
         "hovertemplate": "country=El Salvador<br>continent=Americas<br>lifeExp=%{x}<br>gdpPercap=%{y}<extra></extra>",
         "legendgroup": "El Salvador",
         "marker": {
          "color": "#FECB52",
          "symbol": "circle"
         },
         "mode": "markers",
         "name": "El Salvador",
         "orientation": "v",
         "showlegend": true,
         "type": "scatter",
         "x": [
          71.878
         ],
         "xaxis": "x",
         "y": [
          5728.353514
         ],
         "yaxis": "y"
        },
        {
         "hovertemplate": "country=Equatorial Guinea<br>continent=Africa<br>lifeExp=%{x}<br>gdpPercap=%{y}<extra></extra>",
         "legendgroup": "Equatorial Guinea",
         "marker": {
          "color": "#636efa",
          "symbol": "circle"
         },
         "mode": "markers",
         "name": "Equatorial Guinea",
         "orientation": "v",
         "showlegend": true,
         "type": "scatter",
         "x": [
          51.57899999999999
         ],
         "xaxis": "x6",
         "y": [
          12154.08975
         ],
         "yaxis": "y6"
        },
        {
         "hovertemplate": "country=Eritrea<br>continent=Africa<br>lifeExp=%{x}<br>gdpPercap=%{y}<extra></extra>",
         "legendgroup": "Eritrea",
         "marker": {
          "color": "#EF553B",
          "symbol": "circle"
         },
         "mode": "markers",
         "name": "Eritrea",
         "orientation": "v",
         "showlegend": true,
         "type": "scatter",
         "x": [
          58.04
         ],
         "xaxis": "x6",
         "y": [
          641.3695236000002
         ],
         "yaxis": "y6"
        },
        {
         "hovertemplate": "country=Ethiopia<br>continent=Africa<br>lifeExp=%{x}<br>gdpPercap=%{y}<extra></extra>",
         "legendgroup": "Ethiopia",
         "marker": {
          "color": "#00cc96",
          "symbol": "circle"
         },
         "mode": "markers",
         "name": "Ethiopia",
         "orientation": "v",
         "showlegend": true,
         "type": "scatter",
         "x": [
          52.947
         ],
         "xaxis": "x6",
         "y": [
          690.8055759
         ],
         "yaxis": "y6"
        },
        {
         "hovertemplate": "country=Finland<br>continent=Europe<br>lifeExp=%{x}<br>gdpPercap=%{y}<extra></extra>",
         "legendgroup": "Finland",
         "marker": {
          "color": "#ab63fa",
          "symbol": "circle"
         },
         "mode": "markers",
         "name": "Finland",
         "orientation": "v",
         "showlegend": true,
         "type": "scatter",
         "x": [
          79.313
         ],
         "xaxis": "x5",
         "y": [
          33207.0844
         ],
         "yaxis": "y5"
        },
        {
         "hovertemplate": "country=France<br>continent=Europe<br>lifeExp=%{x}<br>gdpPercap=%{y}<extra></extra>",
         "legendgroup": "France",
         "marker": {
          "color": "#FFA15A",
          "symbol": "circle"
         },
         "mode": "markers",
         "name": "France",
         "orientation": "v",
         "showlegend": true,
         "type": "scatter",
         "x": [
          80.657
         ],
         "xaxis": "x5",
         "y": [
          30470.0167
         ],
         "yaxis": "y5"
        },
        {
         "hovertemplate": "country=Gabon<br>continent=Africa<br>lifeExp=%{x}<br>gdpPercap=%{y}<extra></extra>",
         "legendgroup": "Gabon",
         "marker": {
          "color": "#19d3f3",
          "symbol": "circle"
         },
         "mode": "markers",
         "name": "Gabon",
         "orientation": "v",
         "showlegend": true,
         "type": "scatter",
         "x": [
          56.735
         ],
         "xaxis": "x6",
         "y": [
          13206.48452
         ],
         "yaxis": "y6"
        },
        {
         "hovertemplate": "country=Gambia<br>continent=Africa<br>lifeExp=%{x}<br>gdpPercap=%{y}<extra></extra>",
         "legendgroup": "Gambia",
         "marker": {
          "color": "#FF6692",
          "symbol": "circle"
         },
         "mode": "markers",
         "name": "Gambia",
         "orientation": "v",
         "showlegend": true,
         "type": "scatter",
         "x": [
          59.448
         ],
         "xaxis": "x6",
         "y": [
          752.7497265
         ],
         "yaxis": "y6"
        },
        {
         "hovertemplate": "country=Germany<br>continent=Europe<br>lifeExp=%{x}<br>gdpPercap=%{y}<extra></extra>",
         "legendgroup": "Germany",
         "marker": {
          "color": "#B6E880",
          "symbol": "circle"
         },
         "mode": "markers",
         "name": "Germany",
         "orientation": "v",
         "showlegend": true,
         "type": "scatter",
         "x": [
          79.406
         ],
         "xaxis": "x5",
         "y": [
          32170.37442
         ],
         "yaxis": "y5"
        },
        {
         "hovertemplate": "country=Ghana<br>continent=Africa<br>lifeExp=%{x}<br>gdpPercap=%{y}<extra></extra>",
         "legendgroup": "Ghana",
         "marker": {
          "color": "#FF97FF",
          "symbol": "circle"
         },
         "mode": "markers",
         "name": "Ghana",
         "orientation": "v",
         "showlegend": true,
         "type": "scatter",
         "x": [
          60.022
         ],
         "xaxis": "x6",
         "y": [
          1327.60891
         ],
         "yaxis": "y6"
        },
        {
         "hovertemplate": "country=Greece<br>continent=Europe<br>lifeExp=%{x}<br>gdpPercap=%{y}<extra></extra>",
         "legendgroup": "Greece",
         "marker": {
          "color": "#FECB52",
          "symbol": "circle"
         },
         "mode": "markers",
         "name": "Greece",
         "orientation": "v",
         "showlegend": true,
         "type": "scatter",
         "x": [
          79.483
         ],
         "xaxis": "x5",
         "y": [
          27538.41188
         ],
         "yaxis": "y5"
        },
        {
         "hovertemplate": "country=Guatemala<br>continent=Americas<br>lifeExp=%{x}<br>gdpPercap=%{y}<extra></extra>",
         "legendgroup": "Guatemala",
         "marker": {
          "color": "#636efa",
          "symbol": "circle"
         },
         "mode": "markers",
         "name": "Guatemala",
         "orientation": "v",
         "showlegend": true,
         "type": "scatter",
         "x": [
          70.259
         ],
         "xaxis": "x",
         "y": [
          5186.050003
         ],
         "yaxis": "y"
        },
        {
         "hovertemplate": "country=Guinea<br>continent=Africa<br>lifeExp=%{x}<br>gdpPercap=%{y}<extra></extra>",
         "legendgroup": "Guinea",
         "marker": {
          "color": "#EF553B",
          "symbol": "circle"
         },
         "mode": "markers",
         "name": "Guinea",
         "orientation": "v",
         "showlegend": true,
         "type": "scatter",
         "x": [
          56.007
         ],
         "xaxis": "x6",
         "y": [
          942.6542111
         ],
         "yaxis": "y6"
        },
        {
         "hovertemplate": "country=Guinea-Bissau<br>continent=Africa<br>lifeExp=%{x}<br>gdpPercap=%{y}<extra></extra>",
         "legendgroup": "Guinea-Bissau",
         "marker": {
          "color": "#00cc96",
          "symbol": "circle"
         },
         "mode": "markers",
         "name": "Guinea-Bissau",
         "orientation": "v",
         "showlegend": true,
         "type": "scatter",
         "x": [
          46.38800000000001
         ],
         "xaxis": "x6",
         "y": [
          579.2317429999998
         ],
         "yaxis": "y6"
        },
        {
         "hovertemplate": "country=Haiti<br>continent=Americas<br>lifeExp=%{x}<br>gdpPercap=%{y}<extra></extra>",
         "legendgroup": "Haiti",
         "marker": {
          "color": "#ab63fa",
          "symbol": "circle"
         },
         "mode": "markers",
         "name": "Haiti",
         "orientation": "v",
         "showlegend": true,
         "type": "scatter",
         "x": [
          60.916
         ],
         "xaxis": "x",
         "y": [
          1201.637154
         ],
         "yaxis": "y"
        },
        {
         "hovertemplate": "country=Honduras<br>continent=Americas<br>lifeExp=%{x}<br>gdpPercap=%{y}<extra></extra>",
         "legendgroup": "Honduras",
         "marker": {
          "color": "#FFA15A",
          "symbol": "circle"
         },
         "mode": "markers",
         "name": "Honduras",
         "orientation": "v",
         "showlegend": true,
         "type": "scatter",
         "x": [
          70.19800000000001
         ],
         "xaxis": "x",
         "y": [
          3548.3308460000007
         ],
         "yaxis": "y"
        },
        {
         "hovertemplate": "country=Hong Kong, China<br>continent=Asia<br>lifeExp=%{x}<br>gdpPercap=%{y}<extra></extra>",
         "legendgroup": "Hong Kong, China",
         "marker": {
          "color": "#19d3f3",
          "symbol": "circle"
         },
         "mode": "markers",
         "name": "Hong Kong, China",
         "orientation": "v",
         "showlegend": true,
         "type": "scatter",
         "x": [
          82.208
         ],
         "xaxis": "x4",
         "y": [
          39724.97867
         ],
         "yaxis": "y4"
        },
        {
         "hovertemplate": "country=Hungary<br>continent=Europe<br>lifeExp=%{x}<br>gdpPercap=%{y}<extra></extra>",
         "legendgroup": "Hungary",
         "marker": {
          "color": "#FF6692",
          "symbol": "circle"
         },
         "mode": "markers",
         "name": "Hungary",
         "orientation": "v",
         "showlegend": true,
         "type": "scatter",
         "x": [
          73.33800000000002
         ],
         "xaxis": "x5",
         "y": [
          18008.94444
         ],
         "yaxis": "y5"
        },
        {
         "hovertemplate": "country=Iceland<br>continent=Europe<br>lifeExp=%{x}<br>gdpPercap=%{y}<extra></extra>",
         "legendgroup": "Iceland",
         "marker": {
          "color": "#B6E880",
          "symbol": "circle"
         },
         "mode": "markers",
         "name": "Iceland",
         "orientation": "v",
         "showlegend": true,
         "type": "scatter",
         "x": [
          81.757
         ],
         "xaxis": "x5",
         "y": [
          36180.78919
         ],
         "yaxis": "y5"
        },
        {
         "hovertemplate": "country=India<br>continent=Asia<br>lifeExp=%{x}<br>gdpPercap=%{y}<extra></extra>",
         "legendgroup": "India",
         "marker": {
          "color": "#FF97FF",
          "symbol": "circle"
         },
         "mode": "markers",
         "name": "India",
         "orientation": "v",
         "showlegend": true,
         "type": "scatter",
         "x": [
          64.69800000000001
         ],
         "xaxis": "x4",
         "y": [
          2452.210407
         ],
         "yaxis": "y4"
        },
        {
         "hovertemplate": "country=Indonesia<br>continent=Asia<br>lifeExp=%{x}<br>gdpPercap=%{y}<extra></extra>",
         "legendgroup": "Indonesia",
         "marker": {
          "color": "#FECB52",
          "symbol": "circle"
         },
         "mode": "markers",
         "name": "Indonesia",
         "orientation": "v",
         "showlegend": true,
         "type": "scatter",
         "x": [
          70.65
         ],
         "xaxis": "x4",
         "y": [
          3540.651564
         ],
         "yaxis": "y4"
        },
        {
         "hovertemplate": "country=Iran<br>continent=Asia<br>lifeExp=%{x}<br>gdpPercap=%{y}<extra></extra>",
         "legendgroup": "Iran",
         "marker": {
          "color": "#636efa",
          "symbol": "circle"
         },
         "mode": "markers",
         "name": "Iran",
         "orientation": "v",
         "showlegend": true,
         "type": "scatter",
         "x": [
          70.964
         ],
         "xaxis": "x4",
         "y": [
          11605.71449
         ],
         "yaxis": "y4"
        },
        {
         "hovertemplate": "country=Iraq<br>continent=Asia<br>lifeExp=%{x}<br>gdpPercap=%{y}<extra></extra>",
         "legendgroup": "Iraq",
         "marker": {
          "color": "#EF553B",
          "symbol": "circle"
         },
         "mode": "markers",
         "name": "Iraq",
         "orientation": "v",
         "showlegend": true,
         "type": "scatter",
         "x": [
          59.545
         ],
         "xaxis": "x4",
         "y": [
          4471.061906
         ],
         "yaxis": "y4"
        },
        {
         "hovertemplate": "country=Ireland<br>continent=Europe<br>lifeExp=%{x}<br>gdpPercap=%{y}<extra></extra>",
         "legendgroup": "Ireland",
         "marker": {
          "color": "#00cc96",
          "symbol": "circle"
         },
         "mode": "markers",
         "name": "Ireland",
         "orientation": "v",
         "showlegend": true,
         "type": "scatter",
         "x": [
          78.885
         ],
         "xaxis": "x5",
         "y": [
          40675.99635
         ],
         "yaxis": "y5"
        },
        {
         "hovertemplate": "country=Israel<br>continent=Asia<br>lifeExp=%{x}<br>gdpPercap=%{y}<extra></extra>",
         "legendgroup": "Israel",
         "marker": {
          "color": "#ab63fa",
          "symbol": "circle"
         },
         "mode": "markers",
         "name": "Israel",
         "orientation": "v",
         "showlegend": true,
         "type": "scatter",
         "x": [
          80.745
         ],
         "xaxis": "x4",
         "y": [
          25523.2771
         ],
         "yaxis": "y4"
        },
        {
         "hovertemplate": "country=Italy<br>continent=Europe<br>lifeExp=%{x}<br>gdpPercap=%{y}<extra></extra>",
         "legendgroup": "Italy",
         "marker": {
          "color": "#FFA15A",
          "symbol": "circle"
         },
         "mode": "markers",
         "name": "Italy",
         "orientation": "v",
         "showlegend": true,
         "type": "scatter",
         "x": [
          80.546
         ],
         "xaxis": "x5",
         "y": [
          28569.7197
         ],
         "yaxis": "y5"
        },
        {
         "hovertemplate": "country=Jamaica<br>continent=Americas<br>lifeExp=%{x}<br>gdpPercap=%{y}<extra></extra>",
         "legendgroup": "Jamaica",
         "marker": {
          "color": "#19d3f3",
          "symbol": "circle"
         },
         "mode": "markers",
         "name": "Jamaica",
         "orientation": "v",
         "showlegend": true,
         "type": "scatter",
         "x": [
          72.567
         ],
         "xaxis": "x",
         "y": [
          7320.8802620000015
         ],
         "yaxis": "y"
        },
        {
         "hovertemplate": "country=Japan<br>continent=Asia<br>lifeExp=%{x}<br>gdpPercap=%{y}<extra></extra>",
         "legendgroup": "Japan",
         "marker": {
          "color": "#FF6692",
          "symbol": "circle"
         },
         "mode": "markers",
         "name": "Japan",
         "orientation": "v",
         "showlegend": true,
         "type": "scatter",
         "x": [
          82.603
         ],
         "xaxis": "x4",
         "y": [
          31656.06806
         ],
         "yaxis": "y4"
        },
        {
         "hovertemplate": "country=Jordan<br>continent=Asia<br>lifeExp=%{x}<br>gdpPercap=%{y}<extra></extra>",
         "legendgroup": "Jordan",
         "marker": {
          "color": "#B6E880",
          "symbol": "circle"
         },
         "mode": "markers",
         "name": "Jordan",
         "orientation": "v",
         "showlegend": true,
         "type": "scatter",
         "x": [
          72.535
         ],
         "xaxis": "x4",
         "y": [
          4519.461171
         ],
         "yaxis": "y4"
        },
        {
         "hovertemplate": "country=Kenya<br>continent=Africa<br>lifeExp=%{x}<br>gdpPercap=%{y}<extra></extra>",
         "legendgroup": "Kenya",
         "marker": {
          "color": "#FF97FF",
          "symbol": "circle"
         },
         "mode": "markers",
         "name": "Kenya",
         "orientation": "v",
         "showlegend": true,
         "type": "scatter",
         "x": [
          54.11
         ],
         "xaxis": "x6",
         "y": [
          1463.249282
         ],
         "yaxis": "y6"
        },
        {
         "hovertemplate": "country=Korea, Dem. Rep.<br>continent=Asia<br>lifeExp=%{x}<br>gdpPercap=%{y}<extra></extra>",
         "legendgroup": "Korea, Dem. Rep.",
         "marker": {
          "color": "#FECB52",
          "symbol": "circle"
         },
         "mode": "markers",
         "name": "Korea, Dem. Rep.",
         "orientation": "v",
         "showlegend": true,
         "type": "scatter",
         "x": [
          67.297
         ],
         "xaxis": "x4",
         "y": [
          1593.06548
         ],
         "yaxis": "y4"
        },
        {
         "hovertemplate": "country=Korea, Rep.<br>continent=Asia<br>lifeExp=%{x}<br>gdpPercap=%{y}<extra></extra>",
         "legendgroup": "Korea, Rep.",
         "marker": {
          "color": "#636efa",
          "symbol": "circle"
         },
         "mode": "markers",
         "name": "Korea, Rep.",
         "orientation": "v",
         "showlegend": true,
         "type": "scatter",
         "x": [
          78.623
         ],
         "xaxis": "x4",
         "y": [
          23348.139730000006
         ],
         "yaxis": "y4"
        },
        {
         "hovertemplate": "country=Kuwait<br>continent=Asia<br>lifeExp=%{x}<br>gdpPercap=%{y}<extra></extra>",
         "legendgroup": "Kuwait",
         "marker": {
          "color": "#EF553B",
          "symbol": "circle"
         },
         "mode": "markers",
         "name": "Kuwait",
         "orientation": "v",
         "showlegend": true,
         "type": "scatter",
         "x": [
          77.58800000000002
         ],
         "xaxis": "x4",
         "y": [
          47306.98978
         ],
         "yaxis": "y4"
        },
        {
         "hovertemplate": "country=Lebanon<br>continent=Asia<br>lifeExp=%{x}<br>gdpPercap=%{y}<extra></extra>",
         "legendgroup": "Lebanon",
         "marker": {
          "color": "#00cc96",
          "symbol": "circle"
         },
         "mode": "markers",
         "name": "Lebanon",
         "orientation": "v",
         "showlegend": true,
         "type": "scatter",
         "x": [
          71.993
         ],
         "xaxis": "x4",
         "y": [
          10461.05868
         ],
         "yaxis": "y4"
        },
        {
         "hovertemplate": "country=Lesotho<br>continent=Africa<br>lifeExp=%{x}<br>gdpPercap=%{y}<extra></extra>",
         "legendgroup": "Lesotho",
         "marker": {
          "color": "#ab63fa",
          "symbol": "circle"
         },
         "mode": "markers",
         "name": "Lesotho",
         "orientation": "v",
         "showlegend": true,
         "type": "scatter",
         "x": [
          42.592
         ],
         "xaxis": "x6",
         "y": [
          1569.331442
         ],
         "yaxis": "y6"
        },
        {
         "hovertemplate": "country=Liberia<br>continent=Africa<br>lifeExp=%{x}<br>gdpPercap=%{y}<extra></extra>",
         "legendgroup": "Liberia",
         "marker": {
          "color": "#FFA15A",
          "symbol": "circle"
         },
         "mode": "markers",
         "name": "Liberia",
         "orientation": "v",
         "showlegend": true,
         "type": "scatter",
         "x": [
          45.678
         ],
         "xaxis": "x6",
         "y": [
          414.5073415
         ],
         "yaxis": "y6"
        },
        {
         "hovertemplate": "country=Libya<br>continent=Africa<br>lifeExp=%{x}<br>gdpPercap=%{y}<extra></extra>",
         "legendgroup": "Libya",
         "marker": {
          "color": "#19d3f3",
          "symbol": "circle"
         },
         "mode": "markers",
         "name": "Libya",
         "orientation": "v",
         "showlegend": true,
         "type": "scatter",
         "x": [
          73.952
         ],
         "xaxis": "x6",
         "y": [
          12057.49928
         ],
         "yaxis": "y6"
        },
        {
         "hovertemplate": "country=Madagascar<br>continent=Africa<br>lifeExp=%{x}<br>gdpPercap=%{y}<extra></extra>",
         "legendgroup": "Madagascar",
         "marker": {
          "color": "#FF6692",
          "symbol": "circle"
         },
         "mode": "markers",
         "name": "Madagascar",
         "orientation": "v",
         "showlegend": true,
         "type": "scatter",
         "x": [
          59.44300000000001
         ],
         "xaxis": "x6",
         "y": [
          1044.770126
         ],
         "yaxis": "y6"
        },
        {
         "hovertemplate": "country=Malawi<br>continent=Africa<br>lifeExp=%{x}<br>gdpPercap=%{y}<extra></extra>",
         "legendgroup": "Malawi",
         "marker": {
          "color": "#B6E880",
          "symbol": "circle"
         },
         "mode": "markers",
         "name": "Malawi",
         "orientation": "v",
         "showlegend": true,
         "type": "scatter",
         "x": [
          48.303
         ],
         "xaxis": "x6",
         "y": [
          759.3499101
         ],
         "yaxis": "y6"
        },
        {
         "hovertemplate": "country=Malaysia<br>continent=Asia<br>lifeExp=%{x}<br>gdpPercap=%{y}<extra></extra>",
         "legendgroup": "Malaysia",
         "marker": {
          "color": "#FF97FF",
          "symbol": "circle"
         },
         "mode": "markers",
         "name": "Malaysia",
         "orientation": "v",
         "showlegend": true,
         "type": "scatter",
         "x": [
          74.241
         ],
         "xaxis": "x4",
         "y": [
          12451.6558
         ],
         "yaxis": "y4"
        },
        {
         "hovertemplate": "country=Mali<br>continent=Africa<br>lifeExp=%{x}<br>gdpPercap=%{y}<extra></extra>",
         "legendgroup": "Mali",
         "marker": {
          "color": "#FECB52",
          "symbol": "circle"
         },
         "mode": "markers",
         "name": "Mali",
         "orientation": "v",
         "showlegend": true,
         "type": "scatter",
         "x": [
          54.467
         ],
         "xaxis": "x6",
         "y": [
          1042.581557
         ],
         "yaxis": "y6"
        },
        {
         "hovertemplate": "country=Mauritania<br>continent=Africa<br>lifeExp=%{x}<br>gdpPercap=%{y}<extra></extra>",
         "legendgroup": "Mauritania",
         "marker": {
          "color": "#636efa",
          "symbol": "circle"
         },
         "mode": "markers",
         "name": "Mauritania",
         "orientation": "v",
         "showlegend": true,
         "type": "scatter",
         "x": [
          64.164
         ],
         "xaxis": "x6",
         "y": [
          1803.151496
         ],
         "yaxis": "y6"
        },
        {
         "hovertemplate": "country=Mauritius<br>continent=Africa<br>lifeExp=%{x}<br>gdpPercap=%{y}<extra></extra>",
         "legendgroup": "Mauritius",
         "marker": {
          "color": "#EF553B",
          "symbol": "circle"
         },
         "mode": "markers",
         "name": "Mauritius",
         "orientation": "v",
         "showlegend": true,
         "type": "scatter",
         "x": [
          72.801
         ],
         "xaxis": "x6",
         "y": [
          10956.99112
         ],
         "yaxis": "y6"
        },
        {
         "hovertemplate": "country=Mexico<br>continent=Americas<br>lifeExp=%{x}<br>gdpPercap=%{y}<extra></extra>",
         "legendgroup": "Mexico",
         "marker": {
          "color": "#00cc96",
          "symbol": "circle"
         },
         "mode": "markers",
         "name": "Mexico",
         "orientation": "v",
         "showlegend": true,
         "type": "scatter",
         "x": [
          76.195
         ],
         "xaxis": "x",
         "y": [
          11977.57496
         ],
         "yaxis": "y"
        },
        {
         "hovertemplate": "country=Mongolia<br>continent=Asia<br>lifeExp=%{x}<br>gdpPercap=%{y}<extra></extra>",
         "legendgroup": "Mongolia",
         "marker": {
          "color": "#ab63fa",
          "symbol": "circle"
         },
         "mode": "markers",
         "name": "Mongolia",
         "orientation": "v",
         "showlegend": true,
         "type": "scatter",
         "x": [
          66.803
         ],
         "xaxis": "x4",
         "y": [
          3095.7722710000007
         ],
         "yaxis": "y4"
        },
        {
         "hovertemplate": "country=Montenegro<br>continent=Europe<br>lifeExp=%{x}<br>gdpPercap=%{y}<extra></extra>",
         "legendgroup": "Montenegro",
         "marker": {
          "color": "#FFA15A",
          "symbol": "circle"
         },
         "mode": "markers",
         "name": "Montenegro",
         "orientation": "v",
         "showlegend": true,
         "type": "scatter",
         "x": [
          74.543
         ],
         "xaxis": "x5",
         "y": [
          9253.896111
         ],
         "yaxis": "y5"
        },
        {
         "hovertemplate": "country=Morocco<br>continent=Africa<br>lifeExp=%{x}<br>gdpPercap=%{y}<extra></extra>",
         "legendgroup": "Morocco",
         "marker": {
          "color": "#19d3f3",
          "symbol": "circle"
         },
         "mode": "markers",
         "name": "Morocco",
         "orientation": "v",
         "showlegend": true,
         "type": "scatter",
         "x": [
          71.164
         ],
         "xaxis": "x6",
         "y": [
          3820.17523
         ],
         "yaxis": "y6"
        },
        {
         "hovertemplate": "country=Mozambique<br>continent=Africa<br>lifeExp=%{x}<br>gdpPercap=%{y}<extra></extra>",
         "legendgroup": "Mozambique",
         "marker": {
          "color": "#FF6692",
          "symbol": "circle"
         },
         "mode": "markers",
         "name": "Mozambique",
         "orientation": "v",
         "showlegend": true,
         "type": "scatter",
         "x": [
          42.082
         ],
         "xaxis": "x6",
         "y": [
          823.6856205
         ],
         "yaxis": "y6"
        },
        {
         "hovertemplate": "country=Myanmar<br>continent=Asia<br>lifeExp=%{x}<br>gdpPercap=%{y}<extra></extra>",
         "legendgroup": "Myanmar",
         "marker": {
          "color": "#B6E880",
          "symbol": "circle"
         },
         "mode": "markers",
         "name": "Myanmar",
         "orientation": "v",
         "showlegend": true,
         "type": "scatter",
         "x": [
          62.069
         ],
         "xaxis": "x4",
         "y": [
          944
         ],
         "yaxis": "y4"
        },
        {
         "hovertemplate": "country=Namibia<br>continent=Africa<br>lifeExp=%{x}<br>gdpPercap=%{y}<extra></extra>",
         "legendgroup": "Namibia",
         "marker": {
          "color": "#FF97FF",
          "symbol": "circle"
         },
         "mode": "markers",
         "name": "Namibia",
         "orientation": "v",
         "showlegend": true,
         "type": "scatter",
         "x": [
          52.90600000000001
         ],
         "xaxis": "x6",
         "y": [
          4811.060429
         ],
         "yaxis": "y6"
        },
        {
         "hovertemplate": "country=Nepal<br>continent=Asia<br>lifeExp=%{x}<br>gdpPercap=%{y}<extra></extra>",
         "legendgroup": "Nepal",
         "marker": {
          "color": "#FECB52",
          "symbol": "circle"
         },
         "mode": "markers",
         "name": "Nepal",
         "orientation": "v",
         "showlegend": true,
         "type": "scatter",
         "x": [
          63.785
         ],
         "xaxis": "x4",
         "y": [
          1091.359778
         ],
         "yaxis": "y4"
        },
        {
         "hovertemplate": "country=Netherlands<br>continent=Europe<br>lifeExp=%{x}<br>gdpPercap=%{y}<extra></extra>",
         "legendgroup": "Netherlands",
         "marker": {
          "color": "#636efa",
          "symbol": "circle"
         },
         "mode": "markers",
         "name": "Netherlands",
         "orientation": "v",
         "showlegend": true,
         "type": "scatter",
         "x": [
          79.762
         ],
         "xaxis": "x5",
         "y": [
          36797.93332
         ],
         "yaxis": "y5"
        },
        {
         "hovertemplate": "country=New Zealand<br>continent=Oceania<br>lifeExp=%{x}<br>gdpPercap=%{y}<extra></extra>",
         "legendgroup": "New Zealand",
         "marker": {
          "color": "#EF553B",
          "symbol": "circle"
         },
         "mode": "markers",
         "name": "New Zealand",
         "orientation": "v",
         "showlegend": true,
         "type": "scatter",
         "x": [
          80.204
         ],
         "xaxis": "x2",
         "y": [
          25185.00911
         ],
         "yaxis": "y2"
        },
        {
         "hovertemplate": "country=Nicaragua<br>continent=Americas<br>lifeExp=%{x}<br>gdpPercap=%{y}<extra></extra>",
         "legendgroup": "Nicaragua",
         "marker": {
          "color": "#00cc96",
          "symbol": "circle"
         },
         "mode": "markers",
         "name": "Nicaragua",
         "orientation": "v",
         "showlegend": true,
         "type": "scatter",
         "x": [
          72.899
         ],
         "xaxis": "x",
         "y": [
          2749.320965
         ],
         "yaxis": "y"
        },
        {
         "hovertemplate": "country=Niger<br>continent=Africa<br>lifeExp=%{x}<br>gdpPercap=%{y}<extra></extra>",
         "legendgroup": "Niger",
         "marker": {
          "color": "#ab63fa",
          "symbol": "circle"
         },
         "mode": "markers",
         "name": "Niger",
         "orientation": "v",
         "showlegend": true,
         "type": "scatter",
         "x": [
          56.867
         ],
         "xaxis": "x6",
         "y": [
          619.6768923999998
         ],
         "yaxis": "y6"
        },
        {
         "hovertemplate": "country=Nigeria<br>continent=Africa<br>lifeExp=%{x}<br>gdpPercap=%{y}<extra></extra>",
         "legendgroup": "Nigeria",
         "marker": {
          "color": "#FFA15A",
          "symbol": "circle"
         },
         "mode": "markers",
         "name": "Nigeria",
         "orientation": "v",
         "showlegend": true,
         "type": "scatter",
         "x": [
          46.859
         ],
         "xaxis": "x6",
         "y": [
          2013.977305
         ],
         "yaxis": "y6"
        },
        {
         "hovertemplate": "country=Norway<br>continent=Europe<br>lifeExp=%{x}<br>gdpPercap=%{y}<extra></extra>",
         "legendgroup": "Norway",
         "marker": {
          "color": "#19d3f3",
          "symbol": "circle"
         },
         "mode": "markers",
         "name": "Norway",
         "orientation": "v",
         "showlegend": true,
         "type": "scatter",
         "x": [
          80.196
         ],
         "xaxis": "x5",
         "y": [
          49357.19017
         ],
         "yaxis": "y5"
        },
        {
         "hovertemplate": "country=Oman<br>continent=Asia<br>lifeExp=%{x}<br>gdpPercap=%{y}<extra></extra>",
         "legendgroup": "Oman",
         "marker": {
          "color": "#FF6692",
          "symbol": "circle"
         },
         "mode": "markers",
         "name": "Oman",
         "orientation": "v",
         "showlegend": true,
         "type": "scatter",
         "x": [
          75.64
         ],
         "xaxis": "x4",
         "y": [
          22316.19287
         ],
         "yaxis": "y4"
        },
        {
         "hovertemplate": "country=Pakistan<br>continent=Asia<br>lifeExp=%{x}<br>gdpPercap=%{y}<extra></extra>",
         "legendgroup": "Pakistan",
         "marker": {
          "color": "#B6E880",
          "symbol": "circle"
         },
         "mode": "markers",
         "name": "Pakistan",
         "orientation": "v",
         "showlegend": true,
         "type": "scatter",
         "x": [
          65.483
         ],
         "xaxis": "x4",
         "y": [
          2605.94758
         ],
         "yaxis": "y4"
        },
        {
         "hovertemplate": "country=Panama<br>continent=Americas<br>lifeExp=%{x}<br>gdpPercap=%{y}<extra></extra>",
         "legendgroup": "Panama",
         "marker": {
          "color": "#FF97FF",
          "symbol": "circle"
         },
         "mode": "markers",
         "name": "Panama",
         "orientation": "v",
         "showlegend": true,
         "type": "scatter",
         "x": [
          75.53699999999998
         ],
         "xaxis": "x",
         "y": [
          9809.185636
         ],
         "yaxis": "y"
        },
        {
         "hovertemplate": "country=Paraguay<br>continent=Americas<br>lifeExp=%{x}<br>gdpPercap=%{y}<extra></extra>",
         "legendgroup": "Paraguay",
         "marker": {
          "color": "#FECB52",
          "symbol": "circle"
         },
         "mode": "markers",
         "name": "Paraguay",
         "orientation": "v",
         "showlegend": true,
         "type": "scatter",
         "x": [
          71.752
         ],
         "xaxis": "x",
         "y": [
          4172.838464
         ],
         "yaxis": "y"
        },
        {
         "hovertemplate": "country=Peru<br>continent=Americas<br>lifeExp=%{x}<br>gdpPercap=%{y}<extra></extra>",
         "legendgroup": "Peru",
         "marker": {
          "color": "#636efa",
          "symbol": "circle"
         },
         "mode": "markers",
         "name": "Peru",
         "orientation": "v",
         "showlegend": true,
         "type": "scatter",
         "x": [
          71.421
         ],
         "xaxis": "x",
         "y": [
          7408.905561
         ],
         "yaxis": "y"
        },
        {
         "hovertemplate": "country=Philippines<br>continent=Asia<br>lifeExp=%{x}<br>gdpPercap=%{y}<extra></extra>",
         "legendgroup": "Philippines",
         "marker": {
          "color": "#EF553B",
          "symbol": "circle"
         },
         "mode": "markers",
         "name": "Philippines",
         "orientation": "v",
         "showlegend": true,
         "type": "scatter",
         "x": [
          71.688
         ],
         "xaxis": "x4",
         "y": [
          3190.481016
         ],
         "yaxis": "y4"
        },
        {
         "hovertemplate": "country=Poland<br>continent=Europe<br>lifeExp=%{x}<br>gdpPercap=%{y}<extra></extra>",
         "legendgroup": "Poland",
         "marker": {
          "color": "#00cc96",
          "symbol": "circle"
         },
         "mode": "markers",
         "name": "Poland",
         "orientation": "v",
         "showlegend": true,
         "type": "scatter",
         "x": [
          75.563
         ],
         "xaxis": "x5",
         "y": [
          15389.924680000002
         ],
         "yaxis": "y5"
        },
        {
         "hovertemplate": "country=Portugal<br>continent=Europe<br>lifeExp=%{x}<br>gdpPercap=%{y}<extra></extra>",
         "legendgroup": "Portugal",
         "marker": {
          "color": "#ab63fa",
          "symbol": "circle"
         },
         "mode": "markers",
         "name": "Portugal",
         "orientation": "v",
         "showlegend": true,
         "type": "scatter",
         "x": [
          78.098
         ],
         "xaxis": "x5",
         "y": [
          20509.64777
         ],
         "yaxis": "y5"
        },
        {
         "hovertemplate": "country=Puerto Rico<br>continent=Americas<br>lifeExp=%{x}<br>gdpPercap=%{y}<extra></extra>",
         "legendgroup": "Puerto Rico",
         "marker": {
          "color": "#FFA15A",
          "symbol": "circle"
         },
         "mode": "markers",
         "name": "Puerto Rico",
         "orientation": "v",
         "showlegend": true,
         "type": "scatter",
         "x": [
          78.74600000000002
         ],
         "xaxis": "x",
         "y": [
          19328.70901
         ],
         "yaxis": "y"
        },
        {
         "hovertemplate": "country=Reunion<br>continent=Africa<br>lifeExp=%{x}<br>gdpPercap=%{y}<extra></extra>",
         "legendgroup": "Reunion",
         "marker": {
          "color": "#19d3f3",
          "symbol": "circle"
         },
         "mode": "markers",
         "name": "Reunion",
         "orientation": "v",
         "showlegend": true,
         "type": "scatter",
         "x": [
          76.442
         ],
         "xaxis": "x6",
         "y": [
          7670.122558
         ],
         "yaxis": "y6"
        },
        {
         "hovertemplate": "country=Romania<br>continent=Europe<br>lifeExp=%{x}<br>gdpPercap=%{y}<extra></extra>",
         "legendgroup": "Romania",
         "marker": {
          "color": "#FF6692",
          "symbol": "circle"
         },
         "mode": "markers",
         "name": "Romania",
         "orientation": "v",
         "showlegend": true,
         "type": "scatter",
         "x": [
          72.476
         ],
         "xaxis": "x5",
         "y": [
          10808.47561
         ],
         "yaxis": "y5"
        },
        {
         "hovertemplate": "country=Rwanda<br>continent=Africa<br>lifeExp=%{x}<br>gdpPercap=%{y}<extra></extra>",
         "legendgroup": "Rwanda",
         "marker": {
          "color": "#B6E880",
          "symbol": "circle"
         },
         "mode": "markers",
         "name": "Rwanda",
         "orientation": "v",
         "showlegend": true,
         "type": "scatter",
         "x": [
          46.242
         ],
         "xaxis": "x6",
         "y": [
          863.0884639000002
         ],
         "yaxis": "y6"
        },
        {
         "hovertemplate": "country=Sao Tome and Principe<br>continent=Africa<br>lifeExp=%{x}<br>gdpPercap=%{y}<extra></extra>",
         "legendgroup": "Sao Tome and Principe",
         "marker": {
          "color": "#FF97FF",
          "symbol": "circle"
         },
         "mode": "markers",
         "name": "Sao Tome and Principe",
         "orientation": "v",
         "showlegend": true,
         "type": "scatter",
         "x": [
          65.528
         ],
         "xaxis": "x6",
         "y": [
          1598.435089
         ],
         "yaxis": "y6"
        },
        {
         "hovertemplate": "country=Saudi Arabia<br>continent=Asia<br>lifeExp=%{x}<br>gdpPercap=%{y}<extra></extra>",
         "legendgroup": "Saudi Arabia",
         "marker": {
          "color": "#FECB52",
          "symbol": "circle"
         },
         "mode": "markers",
         "name": "Saudi Arabia",
         "orientation": "v",
         "showlegend": true,
         "type": "scatter",
         "x": [
          72.777
         ],
         "xaxis": "x4",
         "y": [
          21654.83194
         ],
         "yaxis": "y4"
        },
        {
         "hovertemplate": "country=Senegal<br>continent=Africa<br>lifeExp=%{x}<br>gdpPercap=%{y}<extra></extra>",
         "legendgroup": "Senegal",
         "marker": {
          "color": "#636efa",
          "symbol": "circle"
         },
         "mode": "markers",
         "name": "Senegal",
         "orientation": "v",
         "showlegend": true,
         "type": "scatter",
         "x": [
          63.062
         ],
         "xaxis": "x6",
         "y": [
          1712.472136
         ],
         "yaxis": "y6"
        },
        {
         "hovertemplate": "country=Serbia<br>continent=Europe<br>lifeExp=%{x}<br>gdpPercap=%{y}<extra></extra>",
         "legendgroup": "Serbia",
         "marker": {
          "color": "#EF553B",
          "symbol": "circle"
         },
         "mode": "markers",
         "name": "Serbia",
         "orientation": "v",
         "showlegend": true,
         "type": "scatter",
         "x": [
          74.002
         ],
         "xaxis": "x5",
         "y": [
          9786.534714
         ],
         "yaxis": "y5"
        },
        {
         "hovertemplate": "country=Sierra Leone<br>continent=Africa<br>lifeExp=%{x}<br>gdpPercap=%{y}<extra></extra>",
         "legendgroup": "Sierra Leone",
         "marker": {
          "color": "#00cc96",
          "symbol": "circle"
         },
         "mode": "markers",
         "name": "Sierra Leone",
         "orientation": "v",
         "showlegend": true,
         "type": "scatter",
         "x": [
          42.56800000000001
         ],
         "xaxis": "x6",
         "y": [
          862.5407561000002
         ],
         "yaxis": "y6"
        },
        {
         "hovertemplate": "country=Singapore<br>continent=Asia<br>lifeExp=%{x}<br>gdpPercap=%{y}<extra></extra>",
         "legendgroup": "Singapore",
         "marker": {
          "color": "#ab63fa",
          "symbol": "circle"
         },
         "mode": "markers",
         "name": "Singapore",
         "orientation": "v",
         "showlegend": true,
         "type": "scatter",
         "x": [
          79.972
         ],
         "xaxis": "x4",
         "y": [
          47143.17964
         ],
         "yaxis": "y4"
        },
        {
         "hovertemplate": "country=Slovak Republic<br>continent=Europe<br>lifeExp=%{x}<br>gdpPercap=%{y}<extra></extra>",
         "legendgroup": "Slovak Republic",
         "marker": {
          "color": "#FFA15A",
          "symbol": "circle"
         },
         "mode": "markers",
         "name": "Slovak Republic",
         "orientation": "v",
         "showlegend": true,
         "type": "scatter",
         "x": [
          74.663
         ],
         "xaxis": "x5",
         "y": [
          18678.31435
         ],
         "yaxis": "y5"
        },
        {
         "hovertemplate": "country=Slovenia<br>continent=Europe<br>lifeExp=%{x}<br>gdpPercap=%{y}<extra></extra>",
         "legendgroup": "Slovenia",
         "marker": {
          "color": "#19d3f3",
          "symbol": "circle"
         },
         "mode": "markers",
         "name": "Slovenia",
         "orientation": "v",
         "showlegend": true,
         "type": "scatter",
         "x": [
          77.926
         ],
         "xaxis": "x5",
         "y": [
          25768.25759
         ],
         "yaxis": "y5"
        },
        {
         "hovertemplate": "country=Somalia<br>continent=Africa<br>lifeExp=%{x}<br>gdpPercap=%{y}<extra></extra>",
         "legendgroup": "Somalia",
         "marker": {
          "color": "#FF6692",
          "symbol": "circle"
         },
         "mode": "markers",
         "name": "Somalia",
         "orientation": "v",
         "showlegend": true,
         "type": "scatter",
         "x": [
          48.159
         ],
         "xaxis": "x6",
         "y": [
          926.1410683
         ],
         "yaxis": "y6"
        },
        {
         "hovertemplate": "country=South Africa<br>continent=Africa<br>lifeExp=%{x}<br>gdpPercap=%{y}<extra></extra>",
         "legendgroup": "South Africa",
         "marker": {
          "color": "#B6E880",
          "symbol": "circle"
         },
         "mode": "markers",
         "name": "South Africa",
         "orientation": "v",
         "showlegend": true,
         "type": "scatter",
         "x": [
          49.339
         ],
         "xaxis": "x6",
         "y": [
          9269.657808
         ],
         "yaxis": "y6"
        },
        {
         "hovertemplate": "country=Spain<br>continent=Europe<br>lifeExp=%{x}<br>gdpPercap=%{y}<extra></extra>",
         "legendgroup": "Spain",
         "marker": {
          "color": "#FF97FF",
          "symbol": "circle"
         },
         "mode": "markers",
         "name": "Spain",
         "orientation": "v",
         "showlegend": true,
         "type": "scatter",
         "x": [
          80.941
         ],
         "xaxis": "x5",
         "y": [
          28821.0637
         ],
         "yaxis": "y5"
        },
        {
         "hovertemplate": "country=Sri Lanka<br>continent=Asia<br>lifeExp=%{x}<br>gdpPercap=%{y}<extra></extra>",
         "legendgroup": "Sri Lanka",
         "marker": {
          "color": "#FECB52",
          "symbol": "circle"
         },
         "mode": "markers",
         "name": "Sri Lanka",
         "orientation": "v",
         "showlegend": true,
         "type": "scatter",
         "x": [
          72.396
         ],
         "xaxis": "x4",
         "y": [
          3970.095407
         ],
         "yaxis": "y4"
        },
        {
         "hovertemplate": "country=Sudan<br>continent=Africa<br>lifeExp=%{x}<br>gdpPercap=%{y}<extra></extra>",
         "legendgroup": "Sudan",
         "marker": {
          "color": "#636efa",
          "symbol": "circle"
         },
         "mode": "markers",
         "name": "Sudan",
         "orientation": "v",
         "showlegend": true,
         "type": "scatter",
         "x": [
          58.556
         ],
         "xaxis": "x6",
         "y": [
          2602.394995
         ],
         "yaxis": "y6"
        },
        {
         "hovertemplate": "country=Swaziland<br>continent=Africa<br>lifeExp=%{x}<br>gdpPercap=%{y}<extra></extra>",
         "legendgroup": "Swaziland",
         "marker": {
          "color": "#EF553B",
          "symbol": "circle"
         },
         "mode": "markers",
         "name": "Swaziland",
         "orientation": "v",
         "showlegend": true,
         "type": "scatter",
         "x": [
          39.613
         ],
         "xaxis": "x6",
         "y": [
          4513.480643
         ],
         "yaxis": "y6"
        },
        {
         "hovertemplate": "country=Sweden<br>continent=Europe<br>lifeExp=%{x}<br>gdpPercap=%{y}<extra></extra>",
         "legendgroup": "Sweden",
         "marker": {
          "color": "#00cc96",
          "symbol": "circle"
         },
         "mode": "markers",
         "name": "Sweden",
         "orientation": "v",
         "showlegend": true,
         "type": "scatter",
         "x": [
          80.884
         ],
         "xaxis": "x5",
         "y": [
          33859.74835
         ],
         "yaxis": "y5"
        },
        {
         "hovertemplate": "country=Switzerland<br>continent=Europe<br>lifeExp=%{x}<br>gdpPercap=%{y}<extra></extra>",
         "legendgroup": "Switzerland",
         "marker": {
          "color": "#ab63fa",
          "symbol": "circle"
         },
         "mode": "markers",
         "name": "Switzerland",
         "orientation": "v",
         "showlegend": true,
         "type": "scatter",
         "x": [
          81.70100000000002
         ],
         "xaxis": "x5",
         "y": [
          37506.41907
         ],
         "yaxis": "y5"
        },
        {
         "hovertemplate": "country=Syria<br>continent=Asia<br>lifeExp=%{x}<br>gdpPercap=%{y}<extra></extra>",
         "legendgroup": "Syria",
         "marker": {
          "color": "#FFA15A",
          "symbol": "circle"
         },
         "mode": "markers",
         "name": "Syria",
         "orientation": "v",
         "showlegend": true,
         "type": "scatter",
         "x": [
          74.143
         ],
         "xaxis": "x4",
         "y": [
          4184.548089
         ],
         "yaxis": "y4"
        },
        {
         "hovertemplate": "country=Taiwan<br>continent=Asia<br>lifeExp=%{x}<br>gdpPercap=%{y}<extra></extra>",
         "legendgroup": "Taiwan",
         "marker": {
          "color": "#19d3f3",
          "symbol": "circle"
         },
         "mode": "markers",
         "name": "Taiwan",
         "orientation": "v",
         "showlegend": true,
         "type": "scatter",
         "x": [
          78.4
         ],
         "xaxis": "x4",
         "y": [
          28718.27684
         ],
         "yaxis": "y4"
        },
        {
         "hovertemplate": "country=Tanzania<br>continent=Africa<br>lifeExp=%{x}<br>gdpPercap=%{y}<extra></extra>",
         "legendgroup": "Tanzania",
         "marker": {
          "color": "#FF6692",
          "symbol": "circle"
         },
         "mode": "markers",
         "name": "Tanzania",
         "orientation": "v",
         "showlegend": true,
         "type": "scatter",
         "x": [
          52.517
         ],
         "xaxis": "x6",
         "y": [
          1107.482182
         ],
         "yaxis": "y6"
        },
        {
         "hovertemplate": "country=Thailand<br>continent=Asia<br>lifeExp=%{x}<br>gdpPercap=%{y}<extra></extra>",
         "legendgroup": "Thailand",
         "marker": {
          "color": "#B6E880",
          "symbol": "circle"
         },
         "mode": "markers",
         "name": "Thailand",
         "orientation": "v",
         "showlegend": true,
         "type": "scatter",
         "x": [
          70.616
         ],
         "xaxis": "x4",
         "y": [
          7458.396326999998
         ],
         "yaxis": "y4"
        },
        {
         "hovertemplate": "country=Togo<br>continent=Africa<br>lifeExp=%{x}<br>gdpPercap=%{y}<extra></extra>",
         "legendgroup": "Togo",
         "marker": {
          "color": "#FF97FF",
          "symbol": "circle"
         },
         "mode": "markers",
         "name": "Togo",
         "orientation": "v",
         "showlegend": true,
         "type": "scatter",
         "x": [
          58.42
         ],
         "xaxis": "x6",
         "y": [
          882.9699437999999
         ],
         "yaxis": "y6"
        },
        {
         "hovertemplate": "country=Trinidad and Tobago<br>continent=Americas<br>lifeExp=%{x}<br>gdpPercap=%{y}<extra></extra>",
         "legendgroup": "Trinidad and Tobago",
         "marker": {
          "color": "#FECB52",
          "symbol": "circle"
         },
         "mode": "markers",
         "name": "Trinidad and Tobago",
         "orientation": "v",
         "showlegend": true,
         "type": "scatter",
         "x": [
          69.819
         ],
         "xaxis": "x",
         "y": [
          18008.50924
         ],
         "yaxis": "y"
        },
        {
         "hovertemplate": "country=Tunisia<br>continent=Africa<br>lifeExp=%{x}<br>gdpPercap=%{y}<extra></extra>",
         "legendgroup": "Tunisia",
         "marker": {
          "color": "#636efa",
          "symbol": "circle"
         },
         "mode": "markers",
         "name": "Tunisia",
         "orientation": "v",
         "showlegend": true,
         "type": "scatter",
         "x": [
          73.923
         ],
         "xaxis": "x6",
         "y": [
          7092.923025
         ],
         "yaxis": "y6"
        },
        {
         "hovertemplate": "country=Turkey<br>continent=Europe<br>lifeExp=%{x}<br>gdpPercap=%{y}<extra></extra>",
         "legendgroup": "Turkey",
         "marker": {
          "color": "#EF553B",
          "symbol": "circle"
         },
         "mode": "markers",
         "name": "Turkey",
         "orientation": "v",
         "showlegend": true,
         "type": "scatter",
         "x": [
          71.777
         ],
         "xaxis": "x5",
         "y": [
          8458.276384
         ],
         "yaxis": "y5"
        },
        {
         "hovertemplate": "country=Uganda<br>continent=Africa<br>lifeExp=%{x}<br>gdpPercap=%{y}<extra></extra>",
         "legendgroup": "Uganda",
         "marker": {
          "color": "#00cc96",
          "symbol": "circle"
         },
         "mode": "markers",
         "name": "Uganda",
         "orientation": "v",
         "showlegend": true,
         "type": "scatter",
         "x": [
          51.542
         ],
         "xaxis": "x6",
         "y": [
          1056.380121
         ],
         "yaxis": "y6"
        },
        {
         "hovertemplate": "country=United Kingdom<br>continent=Europe<br>lifeExp=%{x}<br>gdpPercap=%{y}<extra></extra>",
         "legendgroup": "United Kingdom",
         "marker": {
          "color": "#ab63fa",
          "symbol": "circle"
         },
         "mode": "markers",
         "name": "United Kingdom",
         "orientation": "v",
         "showlegend": true,
         "type": "scatter",
         "x": [
          79.425
         ],
         "xaxis": "x5",
         "y": [
          33203.26128
         ],
         "yaxis": "y5"
        },
        {
         "hovertemplate": "country=United States<br>continent=Americas<br>lifeExp=%{x}<br>gdpPercap=%{y}<extra></extra>",
         "legendgroup": "United States",
         "marker": {
          "color": "#FFA15A",
          "symbol": "circle"
         },
         "mode": "markers",
         "name": "United States",
         "orientation": "v",
         "showlegend": true,
         "type": "scatter",
         "x": [
          78.242
         ],
         "xaxis": "x",
         "y": [
          42951.65309
         ],
         "yaxis": "y"
        },
        {
         "hovertemplate": "country=Uruguay<br>continent=Americas<br>lifeExp=%{x}<br>gdpPercap=%{y}<extra></extra>",
         "legendgroup": "Uruguay",
         "marker": {
          "color": "#19d3f3",
          "symbol": "circle"
         },
         "mode": "markers",
         "name": "Uruguay",
         "orientation": "v",
         "showlegend": true,
         "type": "scatter",
         "x": [
          76.384
         ],
         "xaxis": "x",
         "y": [
          10611.46299
         ],
         "yaxis": "y"
        },
        {
         "hovertemplate": "country=Venezuela<br>continent=Americas<br>lifeExp=%{x}<br>gdpPercap=%{y}<extra></extra>",
         "legendgroup": "Venezuela",
         "marker": {
          "color": "#FF6692",
          "symbol": "circle"
         },
         "mode": "markers",
         "name": "Venezuela",
         "orientation": "v",
         "showlegend": true,
         "type": "scatter",
         "x": [
          73.747
         ],
         "xaxis": "x",
         "y": [
          11415.80569
         ],
         "yaxis": "y"
        },
        {
         "hovertemplate": "country=Vietnam<br>continent=Asia<br>lifeExp=%{x}<br>gdpPercap=%{y}<extra></extra>",
         "legendgroup": "Vietnam",
         "marker": {
          "color": "#B6E880",
          "symbol": "circle"
         },
         "mode": "markers",
         "name": "Vietnam",
         "orientation": "v",
         "showlegend": true,
         "type": "scatter",
         "x": [
          74.249
         ],
         "xaxis": "x4",
         "y": [
          2441.576404
         ],
         "yaxis": "y4"
        },
        {
         "hovertemplate": "country=West Bank and Gaza<br>continent=Asia<br>lifeExp=%{x}<br>gdpPercap=%{y}<extra></extra>",
         "legendgroup": "West Bank and Gaza",
         "marker": {
          "color": "#FF97FF",
          "symbol": "circle"
         },
         "mode": "markers",
         "name": "West Bank and Gaza",
         "orientation": "v",
         "showlegend": true,
         "type": "scatter",
         "x": [
          73.422
         ],
         "xaxis": "x4",
         "y": [
          3025.349798
         ],
         "yaxis": "y4"
        },
        {
         "hovertemplate": "country=Yemen, Rep.<br>continent=Asia<br>lifeExp=%{x}<br>gdpPercap=%{y}<extra></extra>",
         "legendgroup": "Yemen, Rep.",
         "marker": {
          "color": "#FECB52",
          "symbol": "circle"
         },
         "mode": "markers",
         "name": "Yemen, Rep.",
         "orientation": "v",
         "showlegend": true,
         "type": "scatter",
         "x": [
          62.698
         ],
         "xaxis": "x4",
         "y": [
          2280.769906
         ],
         "yaxis": "y4"
        },
        {
         "hovertemplate": "country=Zambia<br>continent=Africa<br>lifeExp=%{x}<br>gdpPercap=%{y}<extra></extra>",
         "legendgroup": "Zambia",
         "marker": {
          "color": "#636efa",
          "symbol": "circle"
         },
         "mode": "markers",
         "name": "Zambia",
         "orientation": "v",
         "showlegend": true,
         "type": "scatter",
         "x": [
          42.38399999999999
         ],
         "xaxis": "x6",
         "y": [
          1271.211593
         ],
         "yaxis": "y6"
        },
        {
         "hovertemplate": "country=Zimbabwe<br>continent=Africa<br>lifeExp=%{x}<br>gdpPercap=%{y}<extra></extra>",
         "legendgroup": "Zimbabwe",
         "marker": {
          "color": "#EF553B",
          "symbol": "circle"
         },
         "mode": "markers",
         "name": "Zimbabwe",
         "orientation": "v",
         "showlegend": true,
         "type": "scatter",
         "x": [
          43.487
         ],
         "xaxis": "x6",
         "y": [
          469.70929810000007
         ],
         "yaxis": "y6"
        }
       ],
       "layout": {
        "annotations": [
         {
          "font": {},
          "showarrow": false,
          "text": "continent=Americas",
          "x": 0.15999999999999998,
          "xanchor": "center",
          "xref": "paper",
          "y": 0.46499999999999997,
          "yanchor": "bottom",
          "yref": "paper"
         },
         {
          "font": {},
          "showarrow": false,
          "text": "continent=Oceania",
          "x": 0.49999999999999994,
          "xanchor": "center",
          "xref": "paper",
          "y": 0.46499999999999997,
          "yanchor": "bottom",
          "yref": "paper"
         },
         {
          "font": {},
          "showarrow": false,
          "text": "continent=Asia",
          "x": 0.15999999999999998,
          "xanchor": "center",
          "xref": "paper",
          "y": 0.9999999999999999,
          "yanchor": "bottom",
          "yref": "paper"
         },
         {
          "font": {},
          "showarrow": false,
          "text": "continent=Europe",
          "x": 0.49999999999999994,
          "xanchor": "center",
          "xref": "paper",
          "y": 0.9999999999999999,
          "yanchor": "bottom",
          "yref": "paper"
         },
         {
          "font": {},
          "showarrow": false,
          "text": "continent=Africa",
          "x": 0.8399999999999999,
          "xanchor": "center",
          "xref": "paper",
          "y": 0.9999999999999999,
          "yanchor": "bottom",
          "yref": "paper"
         }
        ],
        "legend": {
         "title": {
          "text": "country"
         },
         "tracegroupgap": 0
        },
        "margin": {
         "t": 60
        },
        "template": {
         "data": {
          "bar": [
           {
            "error_x": {
             "color": "#2a3f5f"
            },
            "error_y": {
             "color": "#2a3f5f"
            },
            "marker": {
             "line": {
              "color": "#E5ECF6",
              "width": 0.5
             },
             "pattern": {
              "fillmode": "overlay",
              "size": 10,
              "solidity": 0.2
             }
            },
            "type": "bar"
           }
          ],
          "barpolar": [
           {
            "marker": {
             "line": {
              "color": "#E5ECF6",
              "width": 0.5
             },
             "pattern": {
              "fillmode": "overlay",
              "size": 10,
              "solidity": 0.2
             }
            },
            "type": "barpolar"
           }
          ],
          "carpet": [
           {
            "aaxis": {
             "endlinecolor": "#2a3f5f",
             "gridcolor": "white",
             "linecolor": "white",
             "minorgridcolor": "white",
             "startlinecolor": "#2a3f5f"
            },
            "baxis": {
             "endlinecolor": "#2a3f5f",
             "gridcolor": "white",
             "linecolor": "white",
             "minorgridcolor": "white",
             "startlinecolor": "#2a3f5f"
            },
            "type": "carpet"
           }
          ],
          "choropleth": [
           {
            "colorbar": {
             "outlinewidth": 0,
             "ticks": ""
            },
            "type": "choropleth"
           }
          ],
          "contour": [
           {
            "colorbar": {
             "outlinewidth": 0,
             "ticks": ""
            },
            "colorscale": [
             [
              0,
              "#0d0887"
             ],
             [
              0.1111111111111111,
              "#46039f"
             ],
             [
              0.2222222222222222,
              "#7201a8"
             ],
             [
              0.3333333333333333,
              "#9c179e"
             ],
             [
              0.4444444444444444,
              "#bd3786"
             ],
             [
              0.5555555555555556,
              "#d8576b"
             ],
             [
              0.6666666666666666,
              "#ed7953"
             ],
             [
              0.7777777777777778,
              "#fb9f3a"
             ],
             [
              0.8888888888888888,
              "#fdca26"
             ],
             [
              1,
              "#f0f921"
             ]
            ],
            "type": "contour"
           }
          ],
          "contourcarpet": [
           {
            "colorbar": {
             "outlinewidth": 0,
             "ticks": ""
            },
            "type": "contourcarpet"
           }
          ],
          "heatmap": [
           {
            "colorbar": {
             "outlinewidth": 0,
             "ticks": ""
            },
            "colorscale": [
             [
              0,
              "#0d0887"
             ],
             [
              0.1111111111111111,
              "#46039f"
             ],
             [
              0.2222222222222222,
              "#7201a8"
             ],
             [
              0.3333333333333333,
              "#9c179e"
             ],
             [
              0.4444444444444444,
              "#bd3786"
             ],
             [
              0.5555555555555556,
              "#d8576b"
             ],
             [
              0.6666666666666666,
              "#ed7953"
             ],
             [
              0.7777777777777778,
              "#fb9f3a"
             ],
             [
              0.8888888888888888,
              "#fdca26"
             ],
             [
              1,
              "#f0f921"
             ]
            ],
            "type": "heatmap"
           }
          ],
          "heatmapgl": [
           {
            "colorbar": {
             "outlinewidth": 0,
             "ticks": ""
            },
            "colorscale": [
             [
              0,
              "#0d0887"
             ],
             [
              0.1111111111111111,
              "#46039f"
             ],
             [
              0.2222222222222222,
              "#7201a8"
             ],
             [
              0.3333333333333333,
              "#9c179e"
             ],
             [
              0.4444444444444444,
              "#bd3786"
             ],
             [
              0.5555555555555556,
              "#d8576b"
             ],
             [
              0.6666666666666666,
              "#ed7953"
             ],
             [
              0.7777777777777778,
              "#fb9f3a"
             ],
             [
              0.8888888888888888,
              "#fdca26"
             ],
             [
              1,
              "#f0f921"
             ]
            ],
            "type": "heatmapgl"
           }
          ],
          "histogram": [
           {
            "marker": {
             "pattern": {
              "fillmode": "overlay",
              "size": 10,
              "solidity": 0.2
             }
            },
            "type": "histogram"
           }
          ],
          "histogram2d": [
           {
            "colorbar": {
             "outlinewidth": 0,
             "ticks": ""
            },
            "colorscale": [
             [
              0,
              "#0d0887"
             ],
             [
              0.1111111111111111,
              "#46039f"
             ],
             [
              0.2222222222222222,
              "#7201a8"
             ],
             [
              0.3333333333333333,
              "#9c179e"
             ],
             [
              0.4444444444444444,
              "#bd3786"
             ],
             [
              0.5555555555555556,
              "#d8576b"
             ],
             [
              0.6666666666666666,
              "#ed7953"
             ],
             [
              0.7777777777777778,
              "#fb9f3a"
             ],
             [
              0.8888888888888888,
              "#fdca26"
             ],
             [
              1,
              "#f0f921"
             ]
            ],
            "type": "histogram2d"
           }
          ],
          "histogram2dcontour": [
           {
            "colorbar": {
             "outlinewidth": 0,
             "ticks": ""
            },
            "colorscale": [
             [
              0,
              "#0d0887"
             ],
             [
              0.1111111111111111,
              "#46039f"
             ],
             [
              0.2222222222222222,
              "#7201a8"
             ],
             [
              0.3333333333333333,
              "#9c179e"
             ],
             [
              0.4444444444444444,
              "#bd3786"
             ],
             [
              0.5555555555555556,
              "#d8576b"
             ],
             [
              0.6666666666666666,
              "#ed7953"
             ],
             [
              0.7777777777777778,
              "#fb9f3a"
             ],
             [
              0.8888888888888888,
              "#fdca26"
             ],
             [
              1,
              "#f0f921"
             ]
            ],
            "type": "histogram2dcontour"
           }
          ],
          "mesh3d": [
           {
            "colorbar": {
             "outlinewidth": 0,
             "ticks": ""
            },
            "type": "mesh3d"
           }
          ],
          "parcoords": [
           {
            "line": {
             "colorbar": {
              "outlinewidth": 0,
              "ticks": ""
             }
            },
            "type": "parcoords"
           }
          ],
          "pie": [
           {
            "automargin": true,
            "type": "pie"
           }
          ],
          "scatter": [
           {
            "fillpattern": {
             "fillmode": "overlay",
             "size": 10,
             "solidity": 0.2
            },
            "type": "scatter"
           }
          ],
          "scatter3d": [
           {
            "line": {
             "colorbar": {
              "outlinewidth": 0,
              "ticks": ""
             }
            },
            "marker": {
             "colorbar": {
              "outlinewidth": 0,
              "ticks": ""
             }
            },
            "type": "scatter3d"
           }
          ],
          "scattercarpet": [
           {
            "marker": {
             "colorbar": {
              "outlinewidth": 0,
              "ticks": ""
             }
            },
            "type": "scattercarpet"
           }
          ],
          "scattergeo": [
           {
            "marker": {
             "colorbar": {
              "outlinewidth": 0,
              "ticks": ""
             }
            },
            "type": "scattergeo"
           }
          ],
          "scattergl": [
           {
            "marker": {
             "colorbar": {
              "outlinewidth": 0,
              "ticks": ""
             }
            },
            "type": "scattergl"
           }
          ],
          "scattermapbox": [
           {
            "marker": {
             "colorbar": {
              "outlinewidth": 0,
              "ticks": ""
             }
            },
            "type": "scattermapbox"
           }
          ],
          "scatterpolar": [
           {
            "marker": {
             "colorbar": {
              "outlinewidth": 0,
              "ticks": ""
             }
            },
            "type": "scatterpolar"
           }
          ],
          "scatterpolargl": [
           {
            "marker": {
             "colorbar": {
              "outlinewidth": 0,
              "ticks": ""
             }
            },
            "type": "scatterpolargl"
           }
          ],
          "scatterternary": [
           {
            "marker": {
             "colorbar": {
              "outlinewidth": 0,
              "ticks": ""
             }
            },
            "type": "scatterternary"
           }
          ],
          "surface": [
           {
            "colorbar": {
             "outlinewidth": 0,
             "ticks": ""
            },
            "colorscale": [
             [
              0,
              "#0d0887"
             ],
             [
              0.1111111111111111,
              "#46039f"
             ],
             [
              0.2222222222222222,
              "#7201a8"
             ],
             [
              0.3333333333333333,
              "#9c179e"
             ],
             [
              0.4444444444444444,
              "#bd3786"
             ],
             [
              0.5555555555555556,
              "#d8576b"
             ],
             [
              0.6666666666666666,
              "#ed7953"
             ],
             [
              0.7777777777777778,
              "#fb9f3a"
             ],
             [
              0.8888888888888888,
              "#fdca26"
             ],
             [
              1,
              "#f0f921"
             ]
            ],
            "type": "surface"
           }
          ],
          "table": [
           {
            "cells": {
             "fill": {
              "color": "#EBF0F8"
             },
             "line": {
              "color": "white"
             }
            },
            "header": {
             "fill": {
              "color": "#C8D4E3"
             },
             "line": {
              "color": "white"
             }
            },
            "type": "table"
           }
          ]
         },
         "layout": {
          "annotationdefaults": {
           "arrowcolor": "#2a3f5f",
           "arrowhead": 0,
           "arrowwidth": 1
          },
          "autotypenumbers": "strict",
          "coloraxis": {
           "colorbar": {
            "outlinewidth": 0,
            "ticks": ""
           }
          },
          "colorscale": {
           "diverging": [
            [
             0,
             "#8e0152"
            ],
            [
             0.1,
             "#c51b7d"
            ],
            [
             0.2,
             "#de77ae"
            ],
            [
             0.3,
             "#f1b6da"
            ],
            [
             0.4,
             "#fde0ef"
            ],
            [
             0.5,
             "#f7f7f7"
            ],
            [
             0.6,
             "#e6f5d0"
            ],
            [
             0.7,
             "#b8e186"
            ],
            [
             0.8,
             "#7fbc41"
            ],
            [
             0.9,
             "#4d9221"
            ],
            [
             1,
             "#276419"
            ]
           ],
           "sequential": [
            [
             0,
             "#0d0887"
            ],
            [
             0.1111111111111111,
             "#46039f"
            ],
            [
             0.2222222222222222,
             "#7201a8"
            ],
            [
             0.3333333333333333,
             "#9c179e"
            ],
            [
             0.4444444444444444,
             "#bd3786"
            ],
            [
             0.5555555555555556,
             "#d8576b"
            ],
            [
             0.6666666666666666,
             "#ed7953"
            ],
            [
             0.7777777777777778,
             "#fb9f3a"
            ],
            [
             0.8888888888888888,
             "#fdca26"
            ],
            [
             1,
             "#f0f921"
            ]
           ],
           "sequentialminus": [
            [
             0,
             "#0d0887"
            ],
            [
             0.1111111111111111,
             "#46039f"
            ],
            [
             0.2222222222222222,
             "#7201a8"
            ],
            [
             0.3333333333333333,
             "#9c179e"
            ],
            [
             0.4444444444444444,
             "#bd3786"
            ],
            [
             0.5555555555555556,
             "#d8576b"
            ],
            [
             0.6666666666666666,
             "#ed7953"
            ],
            [
             0.7777777777777778,
             "#fb9f3a"
            ],
            [
             0.8888888888888888,
             "#fdca26"
            ],
            [
             1,
             "#f0f921"
            ]
           ]
          },
          "colorway": [
           "#636efa",
           "#EF553B",
           "#00cc96",
           "#ab63fa",
           "#FFA15A",
           "#19d3f3",
           "#FF6692",
           "#B6E880",
           "#FF97FF",
           "#FECB52"
          ],
          "font": {
           "color": "#2a3f5f"
          },
          "geo": {
           "bgcolor": "white",
           "lakecolor": "white",
           "landcolor": "#E5ECF6",
           "showlakes": true,
           "showland": true,
           "subunitcolor": "white"
          },
          "hoverlabel": {
           "align": "left"
          },
          "hovermode": "closest",
          "mapbox": {
           "style": "light"
          },
          "paper_bgcolor": "white",
          "plot_bgcolor": "#E5ECF6",
          "polar": {
           "angularaxis": {
            "gridcolor": "white",
            "linecolor": "white",
            "ticks": ""
           },
           "bgcolor": "#E5ECF6",
           "radialaxis": {
            "gridcolor": "white",
            "linecolor": "white",
            "ticks": ""
           }
          },
          "scene": {
           "xaxis": {
            "backgroundcolor": "#E5ECF6",
            "gridcolor": "white",
            "gridwidth": 2,
            "linecolor": "white",
            "showbackground": true,
            "ticks": "",
            "zerolinecolor": "white"
           },
           "yaxis": {
            "backgroundcolor": "#E5ECF6",
            "gridcolor": "white",
            "gridwidth": 2,
            "linecolor": "white",
            "showbackground": true,
            "ticks": "",
            "zerolinecolor": "white"
           },
           "zaxis": {
            "backgroundcolor": "#E5ECF6",
            "gridcolor": "white",
            "gridwidth": 2,
            "linecolor": "white",
            "showbackground": true,
            "ticks": "",
            "zerolinecolor": "white"
           }
          },
          "shapedefaults": {
           "line": {
            "color": "#2a3f5f"
           }
          },
          "ternary": {
           "aaxis": {
            "gridcolor": "white",
            "linecolor": "white",
            "ticks": ""
           },
           "baxis": {
            "gridcolor": "white",
            "linecolor": "white",
            "ticks": ""
           },
           "bgcolor": "#E5ECF6",
           "caxis": {
            "gridcolor": "white",
            "linecolor": "white",
            "ticks": ""
           }
          },
          "title": {
           "x": 0.05
          },
          "xaxis": {
           "automargin": true,
           "gridcolor": "white",
           "linecolor": "white",
           "ticks": "",
           "title": {
            "standoff": 15
           },
           "zerolinecolor": "white",
           "zerolinewidth": 2
          },
          "yaxis": {
           "automargin": true,
           "gridcolor": "white",
           "linecolor": "white",
           "ticks": "",
           "title": {
            "standoff": 15
           },
           "zerolinecolor": "white",
           "zerolinewidth": 2
          }
         }
        },
        "xaxis": {
         "anchor": "y",
         "domain": [
          0,
          0.31999999999999995
         ],
         "title": {
          "text": "lifeExp"
         }
        },
        "xaxis2": {
         "anchor": "y2",
         "domain": [
          0.33999999999999997,
          0.6599999999999999
         ],
         "matches": "x",
         "title": {
          "text": "lifeExp"
         }
        },
        "xaxis3": {
         "anchor": "y3",
         "domain": [
          0.6799999999999999,
          0.9999999999999999
         ],
         "matches": "x",
         "title": {
          "text": "lifeExp"
         }
        },
        "xaxis4": {
         "anchor": "y4",
         "domain": [
          0,
          0.31999999999999995
         ],
         "matches": "x",
         "showticklabels": false
        },
        "xaxis5": {
         "anchor": "y5",
         "domain": [
          0.33999999999999997,
          0.6599999999999999
         ],
         "matches": "x",
         "showticklabels": false
        },
        "xaxis6": {
         "anchor": "y6",
         "domain": [
          0.6799999999999999,
          0.9999999999999999
         ],
         "matches": "x",
         "showticklabels": false
        },
        "yaxis": {
         "anchor": "x",
         "domain": [
          0,
          0.46499999999999997
         ],
         "title": {
          "text": "gdpPercap"
         }
        },
        "yaxis2": {
         "anchor": "x2",
         "domain": [
          0,
          0.46499999999999997
         ],
         "matches": "y",
         "showticklabels": false
        },
        "yaxis3": {
         "anchor": "x3",
         "domain": [
          0,
          0.46499999999999997
         ],
         "matches": "y",
         "showticklabels": false
        },
        "yaxis4": {
         "anchor": "x4",
         "domain": [
          0.5349999999999999,
          0.9999999999999999
         ],
         "matches": "y",
         "title": {
          "text": "gdpPercap"
         }
        },
        "yaxis5": {
         "anchor": "x5",
         "domain": [
          0.5349999999999999,
          0.9999999999999999
         ],
         "matches": "y",
         "showticklabels": false
        },
        "yaxis6": {
         "anchor": "x6",
         "domain": [
          0.5349999999999999,
          0.9999999999999999
         ],
         "matches": "y",
         "showticklabels": false
        }
       }
      },
      "text/html": [
       "<div>                            <div id=\"5c3a5e84-be71-48a5-9174-35117f6cd098\" class=\"plotly-graph-div\" style=\"height:525px; width:100%;\"></div>            <script type=\"text/javascript\">                require([\"plotly\"], function(Plotly) {                    window.PLOTLYENV=window.PLOTLYENV || {};                                    if (document.getElementById(\"5c3a5e84-be71-48a5-9174-35117f6cd098\")) {                    Plotly.newPlot(                        \"5c3a5e84-be71-48a5-9174-35117f6cd098\",                        [{\"hovertemplate\":\"country=Afghanistan<br>continent=Asia<br>lifeExp=%{x}<br>gdpPercap=%{y}<extra></extra>\",\"legendgroup\":\"Afghanistan\",\"marker\":{\"color\":\"#636efa\",\"symbol\":\"circle\"},\"mode\":\"markers\",\"name\":\"Afghanistan\",\"orientation\":\"v\",\"showlegend\":true,\"x\":[43.828],\"xaxis\":\"x4\",\"y\":[974.5803384],\"yaxis\":\"y4\",\"type\":\"scatter\"},{\"hovertemplate\":\"country=Albania<br>continent=Europe<br>lifeExp=%{x}<br>gdpPercap=%{y}<extra></extra>\",\"legendgroup\":\"Albania\",\"marker\":{\"color\":\"#EF553B\",\"symbol\":\"circle\"},\"mode\":\"markers\",\"name\":\"Albania\",\"orientation\":\"v\",\"showlegend\":true,\"x\":[76.423],\"xaxis\":\"x5\",\"y\":[5937.029525999998],\"yaxis\":\"y5\",\"type\":\"scatter\"},{\"hovertemplate\":\"country=Algeria<br>continent=Africa<br>lifeExp=%{x}<br>gdpPercap=%{y}<extra></extra>\",\"legendgroup\":\"Algeria\",\"marker\":{\"color\":\"#00cc96\",\"symbol\":\"circle\"},\"mode\":\"markers\",\"name\":\"Algeria\",\"orientation\":\"v\",\"showlegend\":true,\"x\":[72.301],\"xaxis\":\"x6\",\"y\":[6223.367465],\"yaxis\":\"y6\",\"type\":\"scatter\"},{\"hovertemplate\":\"country=Angola<br>continent=Africa<br>lifeExp=%{x}<br>gdpPercap=%{y}<extra></extra>\",\"legendgroup\":\"Angola\",\"marker\":{\"color\":\"#ab63fa\",\"symbol\":\"circle\"},\"mode\":\"markers\",\"name\":\"Angola\",\"orientation\":\"v\",\"showlegend\":true,\"x\":[42.731],\"xaxis\":\"x6\",\"y\":[4797.231267],\"yaxis\":\"y6\",\"type\":\"scatter\"},{\"hovertemplate\":\"country=Argentina<br>continent=Americas<br>lifeExp=%{x}<br>gdpPercap=%{y}<extra></extra>\",\"legendgroup\":\"Argentina\",\"marker\":{\"color\":\"#FFA15A\",\"symbol\":\"circle\"},\"mode\":\"markers\",\"name\":\"Argentina\",\"orientation\":\"v\",\"showlegend\":true,\"x\":[75.32],\"xaxis\":\"x\",\"y\":[12779.37964],\"yaxis\":\"y\",\"type\":\"scatter\"},{\"hovertemplate\":\"country=Australia<br>continent=Oceania<br>lifeExp=%{x}<br>gdpPercap=%{y}<extra></extra>\",\"legendgroup\":\"Australia\",\"marker\":{\"color\":\"#19d3f3\",\"symbol\":\"circle\"},\"mode\":\"markers\",\"name\":\"Australia\",\"orientation\":\"v\",\"showlegend\":true,\"x\":[81.235],\"xaxis\":\"x2\",\"y\":[34435.367439999995],\"yaxis\":\"y2\",\"type\":\"scatter\"},{\"hovertemplate\":\"country=Austria<br>continent=Europe<br>lifeExp=%{x}<br>gdpPercap=%{y}<extra></extra>\",\"legendgroup\":\"Austria\",\"marker\":{\"color\":\"#FF6692\",\"symbol\":\"circle\"},\"mode\":\"markers\",\"name\":\"Austria\",\"orientation\":\"v\",\"showlegend\":true,\"x\":[79.829],\"xaxis\":\"x5\",\"y\":[36126.4927],\"yaxis\":\"y5\",\"type\":\"scatter\"},{\"hovertemplate\":\"country=Bahrain<br>continent=Asia<br>lifeExp=%{x}<br>gdpPercap=%{y}<extra></extra>\",\"legendgroup\":\"Bahrain\",\"marker\":{\"color\":\"#B6E880\",\"symbol\":\"circle\"},\"mode\":\"markers\",\"name\":\"Bahrain\",\"orientation\":\"v\",\"showlegend\":true,\"x\":[75.635],\"xaxis\":\"x4\",\"y\":[29796.04834],\"yaxis\":\"y4\",\"type\":\"scatter\"},{\"hovertemplate\":\"country=Bangladesh<br>continent=Asia<br>lifeExp=%{x}<br>gdpPercap=%{y}<extra></extra>\",\"legendgroup\":\"Bangladesh\",\"marker\":{\"color\":\"#FF97FF\",\"symbol\":\"circle\"},\"mode\":\"markers\",\"name\":\"Bangladesh\",\"orientation\":\"v\",\"showlegend\":true,\"x\":[64.062],\"xaxis\":\"x4\",\"y\":[1391.253792],\"yaxis\":\"y4\",\"type\":\"scatter\"},{\"hovertemplate\":\"country=Belgium<br>continent=Europe<br>lifeExp=%{x}<br>gdpPercap=%{y}<extra></extra>\",\"legendgroup\":\"Belgium\",\"marker\":{\"color\":\"#FECB52\",\"symbol\":\"circle\"},\"mode\":\"markers\",\"name\":\"Belgium\",\"orientation\":\"v\",\"showlegend\":true,\"x\":[79.441],\"xaxis\":\"x5\",\"y\":[33692.60508],\"yaxis\":\"y5\",\"type\":\"scatter\"},{\"hovertemplate\":\"country=Benin<br>continent=Africa<br>lifeExp=%{x}<br>gdpPercap=%{y}<extra></extra>\",\"legendgroup\":\"Benin\",\"marker\":{\"color\":\"#636efa\",\"symbol\":\"circle\"},\"mode\":\"markers\",\"name\":\"Benin\",\"orientation\":\"v\",\"showlegend\":true,\"x\":[56.728],\"xaxis\":\"x6\",\"y\":[1441.284873],\"yaxis\":\"y6\",\"type\":\"scatter\"},{\"hovertemplate\":\"country=Bolivia<br>continent=Americas<br>lifeExp=%{x}<br>gdpPercap=%{y}<extra></extra>\",\"legendgroup\":\"Bolivia\",\"marker\":{\"color\":\"#EF553B\",\"symbol\":\"circle\"},\"mode\":\"markers\",\"name\":\"Bolivia\",\"orientation\":\"v\",\"showlegend\":true,\"x\":[65.554],\"xaxis\":\"x\",\"y\":[3822.137084],\"yaxis\":\"y\",\"type\":\"scatter\"},{\"hovertemplate\":\"country=Bosnia and Herzegovina<br>continent=Europe<br>lifeExp=%{x}<br>gdpPercap=%{y}<extra></extra>\",\"legendgroup\":\"Bosnia and Herzegovina\",\"marker\":{\"color\":\"#00cc96\",\"symbol\":\"circle\"},\"mode\":\"markers\",\"name\":\"Bosnia and Herzegovina\",\"orientation\":\"v\",\"showlegend\":true,\"x\":[74.852],\"xaxis\":\"x5\",\"y\":[7446.298803],\"yaxis\":\"y5\",\"type\":\"scatter\"},{\"hovertemplate\":\"country=Botswana<br>continent=Africa<br>lifeExp=%{x}<br>gdpPercap=%{y}<extra></extra>\",\"legendgroup\":\"Botswana\",\"marker\":{\"color\":\"#ab63fa\",\"symbol\":\"circle\"},\"mode\":\"markers\",\"name\":\"Botswana\",\"orientation\":\"v\",\"showlegend\":true,\"x\":[50.728],\"xaxis\":\"x6\",\"y\":[12569.85177],\"yaxis\":\"y6\",\"type\":\"scatter\"},{\"hovertemplate\":\"country=Brazil<br>continent=Americas<br>lifeExp=%{x}<br>gdpPercap=%{y}<extra></extra>\",\"legendgroup\":\"Brazil\",\"marker\":{\"color\":\"#FFA15A\",\"symbol\":\"circle\"},\"mode\":\"markers\",\"name\":\"Brazil\",\"orientation\":\"v\",\"showlegend\":true,\"x\":[72.39],\"xaxis\":\"x\",\"y\":[9065.800825],\"yaxis\":\"y\",\"type\":\"scatter\"},{\"hovertemplate\":\"country=Bulgaria<br>continent=Europe<br>lifeExp=%{x}<br>gdpPercap=%{y}<extra></extra>\",\"legendgroup\":\"Bulgaria\",\"marker\":{\"color\":\"#19d3f3\",\"symbol\":\"circle\"},\"mode\":\"markers\",\"name\":\"Bulgaria\",\"orientation\":\"v\",\"showlegend\":true,\"x\":[73.005],\"xaxis\":\"x5\",\"y\":[10680.79282],\"yaxis\":\"y5\",\"type\":\"scatter\"},{\"hovertemplate\":\"country=Burkina Faso<br>continent=Africa<br>lifeExp=%{x}<br>gdpPercap=%{y}<extra></extra>\",\"legendgroup\":\"Burkina Faso\",\"marker\":{\"color\":\"#FF6692\",\"symbol\":\"circle\"},\"mode\":\"markers\",\"name\":\"Burkina Faso\",\"orientation\":\"v\",\"showlegend\":true,\"x\":[52.295],\"xaxis\":\"x6\",\"y\":[1217.032994],\"yaxis\":\"y6\",\"type\":\"scatter\"},{\"hovertemplate\":\"country=Burundi<br>continent=Africa<br>lifeExp=%{x}<br>gdpPercap=%{y}<extra></extra>\",\"legendgroup\":\"Burundi\",\"marker\":{\"color\":\"#B6E880\",\"symbol\":\"circle\"},\"mode\":\"markers\",\"name\":\"Burundi\",\"orientation\":\"v\",\"showlegend\":true,\"x\":[49.58],\"xaxis\":\"x6\",\"y\":[430.0706916],\"yaxis\":\"y6\",\"type\":\"scatter\"},{\"hovertemplate\":\"country=Cambodia<br>continent=Asia<br>lifeExp=%{x}<br>gdpPercap=%{y}<extra></extra>\",\"legendgroup\":\"Cambodia\",\"marker\":{\"color\":\"#FF97FF\",\"symbol\":\"circle\"},\"mode\":\"markers\",\"name\":\"Cambodia\",\"orientation\":\"v\",\"showlegend\":true,\"x\":[59.723],\"xaxis\":\"x4\",\"y\":[1713.778686],\"yaxis\":\"y4\",\"type\":\"scatter\"},{\"hovertemplate\":\"country=Cameroon<br>continent=Africa<br>lifeExp=%{x}<br>gdpPercap=%{y}<extra></extra>\",\"legendgroup\":\"Cameroon\",\"marker\":{\"color\":\"#FECB52\",\"symbol\":\"circle\"},\"mode\":\"markers\",\"name\":\"Cameroon\",\"orientation\":\"v\",\"showlegend\":true,\"x\":[50.43],\"xaxis\":\"x6\",\"y\":[2042.09524],\"yaxis\":\"y6\",\"type\":\"scatter\"},{\"hovertemplate\":\"country=Canada<br>continent=Americas<br>lifeExp=%{x}<br>gdpPercap=%{y}<extra></extra>\",\"legendgroup\":\"Canada\",\"marker\":{\"color\":\"#636efa\",\"symbol\":\"circle\"},\"mode\":\"markers\",\"name\":\"Canada\",\"orientation\":\"v\",\"showlegend\":true,\"x\":[80.653],\"xaxis\":\"x\",\"y\":[36319.23501],\"yaxis\":\"y\",\"type\":\"scatter\"},{\"hovertemplate\":\"country=Central African Republic<br>continent=Africa<br>lifeExp=%{x}<br>gdpPercap=%{y}<extra></extra>\",\"legendgroup\":\"Central African Republic\",\"marker\":{\"color\":\"#EF553B\",\"symbol\":\"circle\"},\"mode\":\"markers\",\"name\":\"Central African Republic\",\"orientation\":\"v\",\"showlegend\":true,\"x\":[44.74100000000001],\"xaxis\":\"x6\",\"y\":[706.016537],\"yaxis\":\"y6\",\"type\":\"scatter\"},{\"hovertemplate\":\"country=Chad<br>continent=Africa<br>lifeExp=%{x}<br>gdpPercap=%{y}<extra></extra>\",\"legendgroup\":\"Chad\",\"marker\":{\"color\":\"#00cc96\",\"symbol\":\"circle\"},\"mode\":\"markers\",\"name\":\"Chad\",\"orientation\":\"v\",\"showlegend\":true,\"x\":[50.651],\"xaxis\":\"x6\",\"y\":[1704.063724],\"yaxis\":\"y6\",\"type\":\"scatter\"},{\"hovertemplate\":\"country=Chile<br>continent=Americas<br>lifeExp=%{x}<br>gdpPercap=%{y}<extra></extra>\",\"legendgroup\":\"Chile\",\"marker\":{\"color\":\"#ab63fa\",\"symbol\":\"circle\"},\"mode\":\"markers\",\"name\":\"Chile\",\"orientation\":\"v\",\"showlegend\":true,\"x\":[78.553],\"xaxis\":\"x\",\"y\":[13171.63885],\"yaxis\":\"y\",\"type\":\"scatter\"},{\"hovertemplate\":\"country=China<br>continent=Asia<br>lifeExp=%{x}<br>gdpPercap=%{y}<extra></extra>\",\"legendgroup\":\"China\",\"marker\":{\"color\":\"#FFA15A\",\"symbol\":\"circle\"},\"mode\":\"markers\",\"name\":\"China\",\"orientation\":\"v\",\"showlegend\":true,\"x\":[72.961],\"xaxis\":\"x4\",\"y\":[4959.114854],\"yaxis\":\"y4\",\"type\":\"scatter\"},{\"hovertemplate\":\"country=Colombia<br>continent=Americas<br>lifeExp=%{x}<br>gdpPercap=%{y}<extra></extra>\",\"legendgroup\":\"Colombia\",\"marker\":{\"color\":\"#19d3f3\",\"symbol\":\"circle\"},\"mode\":\"markers\",\"name\":\"Colombia\",\"orientation\":\"v\",\"showlegend\":true,\"x\":[72.889],\"xaxis\":\"x\",\"y\":[7006.580419],\"yaxis\":\"y\",\"type\":\"scatter\"},{\"hovertemplate\":\"country=Comoros<br>continent=Africa<br>lifeExp=%{x}<br>gdpPercap=%{y}<extra></extra>\",\"legendgroup\":\"Comoros\",\"marker\":{\"color\":\"#FF6692\",\"symbol\":\"circle\"},\"mode\":\"markers\",\"name\":\"Comoros\",\"orientation\":\"v\",\"showlegend\":true,\"x\":[65.152],\"xaxis\":\"x6\",\"y\":[986.1478792],\"yaxis\":\"y6\",\"type\":\"scatter\"},{\"hovertemplate\":\"country=Congo, Dem. Rep.<br>continent=Africa<br>lifeExp=%{x}<br>gdpPercap=%{y}<extra></extra>\",\"legendgroup\":\"Congo, Dem. Rep.\",\"marker\":{\"color\":\"#B6E880\",\"symbol\":\"circle\"},\"mode\":\"markers\",\"name\":\"Congo, Dem. Rep.\",\"orientation\":\"v\",\"showlegend\":true,\"x\":[46.462],\"xaxis\":\"x6\",\"y\":[277.5518587],\"yaxis\":\"y6\",\"type\":\"scatter\"},{\"hovertemplate\":\"country=Congo, Rep.<br>continent=Africa<br>lifeExp=%{x}<br>gdpPercap=%{y}<extra></extra>\",\"legendgroup\":\"Congo, Rep.\",\"marker\":{\"color\":\"#FF97FF\",\"symbol\":\"circle\"},\"mode\":\"markers\",\"name\":\"Congo, Rep.\",\"orientation\":\"v\",\"showlegend\":true,\"x\":[55.322],\"xaxis\":\"x6\",\"y\":[3632.557798],\"yaxis\":\"y6\",\"type\":\"scatter\"},{\"hovertemplate\":\"country=Costa Rica<br>continent=Americas<br>lifeExp=%{x}<br>gdpPercap=%{y}<extra></extra>\",\"legendgroup\":\"Costa Rica\",\"marker\":{\"color\":\"#FECB52\",\"symbol\":\"circle\"},\"mode\":\"markers\",\"name\":\"Costa Rica\",\"orientation\":\"v\",\"showlegend\":true,\"x\":[78.782],\"xaxis\":\"x\",\"y\":[9645.06142],\"yaxis\":\"y\",\"type\":\"scatter\"},{\"hovertemplate\":\"country=Cote d'Ivoire<br>continent=Africa<br>lifeExp=%{x}<br>gdpPercap=%{y}<extra></extra>\",\"legendgroup\":\"Cote d'Ivoire\",\"marker\":{\"color\":\"#636efa\",\"symbol\":\"circle\"},\"mode\":\"markers\",\"name\":\"Cote d'Ivoire\",\"orientation\":\"v\",\"showlegend\":true,\"x\":[48.328],\"xaxis\":\"x6\",\"y\":[1544.750112],\"yaxis\":\"y6\",\"type\":\"scatter\"},{\"hovertemplate\":\"country=Croatia<br>continent=Europe<br>lifeExp=%{x}<br>gdpPercap=%{y}<extra></extra>\",\"legendgroup\":\"Croatia\",\"marker\":{\"color\":\"#EF553B\",\"symbol\":\"circle\"},\"mode\":\"markers\",\"name\":\"Croatia\",\"orientation\":\"v\",\"showlegend\":true,\"x\":[75.748],\"xaxis\":\"x5\",\"y\":[14619.222719999998],\"yaxis\":\"y5\",\"type\":\"scatter\"},{\"hovertemplate\":\"country=Cuba<br>continent=Americas<br>lifeExp=%{x}<br>gdpPercap=%{y}<extra></extra>\",\"legendgroup\":\"Cuba\",\"marker\":{\"color\":\"#00cc96\",\"symbol\":\"circle\"},\"mode\":\"markers\",\"name\":\"Cuba\",\"orientation\":\"v\",\"showlegend\":true,\"x\":[78.273],\"xaxis\":\"x\",\"y\":[8948.102923],\"yaxis\":\"y\",\"type\":\"scatter\"},{\"hovertemplate\":\"country=Czech Republic<br>continent=Europe<br>lifeExp=%{x}<br>gdpPercap=%{y}<extra></extra>\",\"legendgroup\":\"Czech Republic\",\"marker\":{\"color\":\"#ab63fa\",\"symbol\":\"circle\"},\"mode\":\"markers\",\"name\":\"Czech Republic\",\"orientation\":\"v\",\"showlegend\":true,\"x\":[76.486],\"xaxis\":\"x5\",\"y\":[22833.30851],\"yaxis\":\"y5\",\"type\":\"scatter\"},{\"hovertemplate\":\"country=Denmark<br>continent=Europe<br>lifeExp=%{x}<br>gdpPercap=%{y}<extra></extra>\",\"legendgroup\":\"Denmark\",\"marker\":{\"color\":\"#FFA15A\",\"symbol\":\"circle\"},\"mode\":\"markers\",\"name\":\"Denmark\",\"orientation\":\"v\",\"showlegend\":true,\"x\":[78.332],\"xaxis\":\"x5\",\"y\":[35278.41874],\"yaxis\":\"y5\",\"type\":\"scatter\"},{\"hovertemplate\":\"country=Djibouti<br>continent=Africa<br>lifeExp=%{x}<br>gdpPercap=%{y}<extra></extra>\",\"legendgroup\":\"Djibouti\",\"marker\":{\"color\":\"#19d3f3\",\"symbol\":\"circle\"},\"mode\":\"markers\",\"name\":\"Djibouti\",\"orientation\":\"v\",\"showlegend\":true,\"x\":[54.791],\"xaxis\":\"x6\",\"y\":[2082.4815670000007],\"yaxis\":\"y6\",\"type\":\"scatter\"},{\"hovertemplate\":\"country=Dominican Republic<br>continent=Americas<br>lifeExp=%{x}<br>gdpPercap=%{y}<extra></extra>\",\"legendgroup\":\"Dominican Republic\",\"marker\":{\"color\":\"#FF6692\",\"symbol\":\"circle\"},\"mode\":\"markers\",\"name\":\"Dominican Republic\",\"orientation\":\"v\",\"showlegend\":true,\"x\":[72.235],\"xaxis\":\"x\",\"y\":[6025.3747520000015],\"yaxis\":\"y\",\"type\":\"scatter\"},{\"hovertemplate\":\"country=Ecuador<br>continent=Americas<br>lifeExp=%{x}<br>gdpPercap=%{y}<extra></extra>\",\"legendgroup\":\"Ecuador\",\"marker\":{\"color\":\"#B6E880\",\"symbol\":\"circle\"},\"mode\":\"markers\",\"name\":\"Ecuador\",\"orientation\":\"v\",\"showlegend\":true,\"x\":[74.994],\"xaxis\":\"x\",\"y\":[6873.262326000001],\"yaxis\":\"y\",\"type\":\"scatter\"},{\"hovertemplate\":\"country=Egypt<br>continent=Africa<br>lifeExp=%{x}<br>gdpPercap=%{y}<extra></extra>\",\"legendgroup\":\"Egypt\",\"marker\":{\"color\":\"#FF97FF\",\"symbol\":\"circle\"},\"mode\":\"markers\",\"name\":\"Egypt\",\"orientation\":\"v\",\"showlegend\":true,\"x\":[71.33800000000002],\"xaxis\":\"x6\",\"y\":[5581.180998],\"yaxis\":\"y6\",\"type\":\"scatter\"},{\"hovertemplate\":\"country=El Salvador<br>continent=Americas<br>lifeExp=%{x}<br>gdpPercap=%{y}<extra></extra>\",\"legendgroup\":\"El Salvador\",\"marker\":{\"color\":\"#FECB52\",\"symbol\":\"circle\"},\"mode\":\"markers\",\"name\":\"El Salvador\",\"orientation\":\"v\",\"showlegend\":true,\"x\":[71.878],\"xaxis\":\"x\",\"y\":[5728.353514],\"yaxis\":\"y\",\"type\":\"scatter\"},{\"hovertemplate\":\"country=Equatorial Guinea<br>continent=Africa<br>lifeExp=%{x}<br>gdpPercap=%{y}<extra></extra>\",\"legendgroup\":\"Equatorial Guinea\",\"marker\":{\"color\":\"#636efa\",\"symbol\":\"circle\"},\"mode\":\"markers\",\"name\":\"Equatorial Guinea\",\"orientation\":\"v\",\"showlegend\":true,\"x\":[51.57899999999999],\"xaxis\":\"x6\",\"y\":[12154.08975],\"yaxis\":\"y6\",\"type\":\"scatter\"},{\"hovertemplate\":\"country=Eritrea<br>continent=Africa<br>lifeExp=%{x}<br>gdpPercap=%{y}<extra></extra>\",\"legendgroup\":\"Eritrea\",\"marker\":{\"color\":\"#EF553B\",\"symbol\":\"circle\"},\"mode\":\"markers\",\"name\":\"Eritrea\",\"orientation\":\"v\",\"showlegend\":true,\"x\":[58.04],\"xaxis\":\"x6\",\"y\":[641.3695236000002],\"yaxis\":\"y6\",\"type\":\"scatter\"},{\"hovertemplate\":\"country=Ethiopia<br>continent=Africa<br>lifeExp=%{x}<br>gdpPercap=%{y}<extra></extra>\",\"legendgroup\":\"Ethiopia\",\"marker\":{\"color\":\"#00cc96\",\"symbol\":\"circle\"},\"mode\":\"markers\",\"name\":\"Ethiopia\",\"orientation\":\"v\",\"showlegend\":true,\"x\":[52.947],\"xaxis\":\"x6\",\"y\":[690.8055759],\"yaxis\":\"y6\",\"type\":\"scatter\"},{\"hovertemplate\":\"country=Finland<br>continent=Europe<br>lifeExp=%{x}<br>gdpPercap=%{y}<extra></extra>\",\"legendgroup\":\"Finland\",\"marker\":{\"color\":\"#ab63fa\",\"symbol\":\"circle\"},\"mode\":\"markers\",\"name\":\"Finland\",\"orientation\":\"v\",\"showlegend\":true,\"x\":[79.313],\"xaxis\":\"x5\",\"y\":[33207.0844],\"yaxis\":\"y5\",\"type\":\"scatter\"},{\"hovertemplate\":\"country=France<br>continent=Europe<br>lifeExp=%{x}<br>gdpPercap=%{y}<extra></extra>\",\"legendgroup\":\"France\",\"marker\":{\"color\":\"#FFA15A\",\"symbol\":\"circle\"},\"mode\":\"markers\",\"name\":\"France\",\"orientation\":\"v\",\"showlegend\":true,\"x\":[80.657],\"xaxis\":\"x5\",\"y\":[30470.0167],\"yaxis\":\"y5\",\"type\":\"scatter\"},{\"hovertemplate\":\"country=Gabon<br>continent=Africa<br>lifeExp=%{x}<br>gdpPercap=%{y}<extra></extra>\",\"legendgroup\":\"Gabon\",\"marker\":{\"color\":\"#19d3f3\",\"symbol\":\"circle\"},\"mode\":\"markers\",\"name\":\"Gabon\",\"orientation\":\"v\",\"showlegend\":true,\"x\":[56.735],\"xaxis\":\"x6\",\"y\":[13206.48452],\"yaxis\":\"y6\",\"type\":\"scatter\"},{\"hovertemplate\":\"country=Gambia<br>continent=Africa<br>lifeExp=%{x}<br>gdpPercap=%{y}<extra></extra>\",\"legendgroup\":\"Gambia\",\"marker\":{\"color\":\"#FF6692\",\"symbol\":\"circle\"},\"mode\":\"markers\",\"name\":\"Gambia\",\"orientation\":\"v\",\"showlegend\":true,\"x\":[59.448],\"xaxis\":\"x6\",\"y\":[752.7497265],\"yaxis\":\"y6\",\"type\":\"scatter\"},{\"hovertemplate\":\"country=Germany<br>continent=Europe<br>lifeExp=%{x}<br>gdpPercap=%{y}<extra></extra>\",\"legendgroup\":\"Germany\",\"marker\":{\"color\":\"#B6E880\",\"symbol\":\"circle\"},\"mode\":\"markers\",\"name\":\"Germany\",\"orientation\":\"v\",\"showlegend\":true,\"x\":[79.406],\"xaxis\":\"x5\",\"y\":[32170.37442],\"yaxis\":\"y5\",\"type\":\"scatter\"},{\"hovertemplate\":\"country=Ghana<br>continent=Africa<br>lifeExp=%{x}<br>gdpPercap=%{y}<extra></extra>\",\"legendgroup\":\"Ghana\",\"marker\":{\"color\":\"#FF97FF\",\"symbol\":\"circle\"},\"mode\":\"markers\",\"name\":\"Ghana\",\"orientation\":\"v\",\"showlegend\":true,\"x\":[60.022],\"xaxis\":\"x6\",\"y\":[1327.60891],\"yaxis\":\"y6\",\"type\":\"scatter\"},{\"hovertemplate\":\"country=Greece<br>continent=Europe<br>lifeExp=%{x}<br>gdpPercap=%{y}<extra></extra>\",\"legendgroup\":\"Greece\",\"marker\":{\"color\":\"#FECB52\",\"symbol\":\"circle\"},\"mode\":\"markers\",\"name\":\"Greece\",\"orientation\":\"v\",\"showlegend\":true,\"x\":[79.483],\"xaxis\":\"x5\",\"y\":[27538.41188],\"yaxis\":\"y5\",\"type\":\"scatter\"},{\"hovertemplate\":\"country=Guatemala<br>continent=Americas<br>lifeExp=%{x}<br>gdpPercap=%{y}<extra></extra>\",\"legendgroup\":\"Guatemala\",\"marker\":{\"color\":\"#636efa\",\"symbol\":\"circle\"},\"mode\":\"markers\",\"name\":\"Guatemala\",\"orientation\":\"v\",\"showlegend\":true,\"x\":[70.259],\"xaxis\":\"x\",\"y\":[5186.050003],\"yaxis\":\"y\",\"type\":\"scatter\"},{\"hovertemplate\":\"country=Guinea<br>continent=Africa<br>lifeExp=%{x}<br>gdpPercap=%{y}<extra></extra>\",\"legendgroup\":\"Guinea\",\"marker\":{\"color\":\"#EF553B\",\"symbol\":\"circle\"},\"mode\":\"markers\",\"name\":\"Guinea\",\"orientation\":\"v\",\"showlegend\":true,\"x\":[56.007],\"xaxis\":\"x6\",\"y\":[942.6542111],\"yaxis\":\"y6\",\"type\":\"scatter\"},{\"hovertemplate\":\"country=Guinea-Bissau<br>continent=Africa<br>lifeExp=%{x}<br>gdpPercap=%{y}<extra></extra>\",\"legendgroup\":\"Guinea-Bissau\",\"marker\":{\"color\":\"#00cc96\",\"symbol\":\"circle\"},\"mode\":\"markers\",\"name\":\"Guinea-Bissau\",\"orientation\":\"v\",\"showlegend\":true,\"x\":[46.38800000000001],\"xaxis\":\"x6\",\"y\":[579.2317429999998],\"yaxis\":\"y6\",\"type\":\"scatter\"},{\"hovertemplate\":\"country=Haiti<br>continent=Americas<br>lifeExp=%{x}<br>gdpPercap=%{y}<extra></extra>\",\"legendgroup\":\"Haiti\",\"marker\":{\"color\":\"#ab63fa\",\"symbol\":\"circle\"},\"mode\":\"markers\",\"name\":\"Haiti\",\"orientation\":\"v\",\"showlegend\":true,\"x\":[60.916],\"xaxis\":\"x\",\"y\":[1201.637154],\"yaxis\":\"y\",\"type\":\"scatter\"},{\"hovertemplate\":\"country=Honduras<br>continent=Americas<br>lifeExp=%{x}<br>gdpPercap=%{y}<extra></extra>\",\"legendgroup\":\"Honduras\",\"marker\":{\"color\":\"#FFA15A\",\"symbol\":\"circle\"},\"mode\":\"markers\",\"name\":\"Honduras\",\"orientation\":\"v\",\"showlegend\":true,\"x\":[70.19800000000001],\"xaxis\":\"x\",\"y\":[3548.3308460000007],\"yaxis\":\"y\",\"type\":\"scatter\"},{\"hovertemplate\":\"country=Hong Kong, China<br>continent=Asia<br>lifeExp=%{x}<br>gdpPercap=%{y}<extra></extra>\",\"legendgroup\":\"Hong Kong, China\",\"marker\":{\"color\":\"#19d3f3\",\"symbol\":\"circle\"},\"mode\":\"markers\",\"name\":\"Hong Kong, China\",\"orientation\":\"v\",\"showlegend\":true,\"x\":[82.208],\"xaxis\":\"x4\",\"y\":[39724.97867],\"yaxis\":\"y4\",\"type\":\"scatter\"},{\"hovertemplate\":\"country=Hungary<br>continent=Europe<br>lifeExp=%{x}<br>gdpPercap=%{y}<extra></extra>\",\"legendgroup\":\"Hungary\",\"marker\":{\"color\":\"#FF6692\",\"symbol\":\"circle\"},\"mode\":\"markers\",\"name\":\"Hungary\",\"orientation\":\"v\",\"showlegend\":true,\"x\":[73.33800000000002],\"xaxis\":\"x5\",\"y\":[18008.94444],\"yaxis\":\"y5\",\"type\":\"scatter\"},{\"hovertemplate\":\"country=Iceland<br>continent=Europe<br>lifeExp=%{x}<br>gdpPercap=%{y}<extra></extra>\",\"legendgroup\":\"Iceland\",\"marker\":{\"color\":\"#B6E880\",\"symbol\":\"circle\"},\"mode\":\"markers\",\"name\":\"Iceland\",\"orientation\":\"v\",\"showlegend\":true,\"x\":[81.757],\"xaxis\":\"x5\",\"y\":[36180.78919],\"yaxis\":\"y5\",\"type\":\"scatter\"},{\"hovertemplate\":\"country=India<br>continent=Asia<br>lifeExp=%{x}<br>gdpPercap=%{y}<extra></extra>\",\"legendgroup\":\"India\",\"marker\":{\"color\":\"#FF97FF\",\"symbol\":\"circle\"},\"mode\":\"markers\",\"name\":\"India\",\"orientation\":\"v\",\"showlegend\":true,\"x\":[64.69800000000001],\"xaxis\":\"x4\",\"y\":[2452.210407],\"yaxis\":\"y4\",\"type\":\"scatter\"},{\"hovertemplate\":\"country=Indonesia<br>continent=Asia<br>lifeExp=%{x}<br>gdpPercap=%{y}<extra></extra>\",\"legendgroup\":\"Indonesia\",\"marker\":{\"color\":\"#FECB52\",\"symbol\":\"circle\"},\"mode\":\"markers\",\"name\":\"Indonesia\",\"orientation\":\"v\",\"showlegend\":true,\"x\":[70.65],\"xaxis\":\"x4\",\"y\":[3540.651564],\"yaxis\":\"y4\",\"type\":\"scatter\"},{\"hovertemplate\":\"country=Iran<br>continent=Asia<br>lifeExp=%{x}<br>gdpPercap=%{y}<extra></extra>\",\"legendgroup\":\"Iran\",\"marker\":{\"color\":\"#636efa\",\"symbol\":\"circle\"},\"mode\":\"markers\",\"name\":\"Iran\",\"orientation\":\"v\",\"showlegend\":true,\"x\":[70.964],\"xaxis\":\"x4\",\"y\":[11605.71449],\"yaxis\":\"y4\",\"type\":\"scatter\"},{\"hovertemplate\":\"country=Iraq<br>continent=Asia<br>lifeExp=%{x}<br>gdpPercap=%{y}<extra></extra>\",\"legendgroup\":\"Iraq\",\"marker\":{\"color\":\"#EF553B\",\"symbol\":\"circle\"},\"mode\":\"markers\",\"name\":\"Iraq\",\"orientation\":\"v\",\"showlegend\":true,\"x\":[59.545],\"xaxis\":\"x4\",\"y\":[4471.061906],\"yaxis\":\"y4\",\"type\":\"scatter\"},{\"hovertemplate\":\"country=Ireland<br>continent=Europe<br>lifeExp=%{x}<br>gdpPercap=%{y}<extra></extra>\",\"legendgroup\":\"Ireland\",\"marker\":{\"color\":\"#00cc96\",\"symbol\":\"circle\"},\"mode\":\"markers\",\"name\":\"Ireland\",\"orientation\":\"v\",\"showlegend\":true,\"x\":[78.885],\"xaxis\":\"x5\",\"y\":[40675.99635],\"yaxis\":\"y5\",\"type\":\"scatter\"},{\"hovertemplate\":\"country=Israel<br>continent=Asia<br>lifeExp=%{x}<br>gdpPercap=%{y}<extra></extra>\",\"legendgroup\":\"Israel\",\"marker\":{\"color\":\"#ab63fa\",\"symbol\":\"circle\"},\"mode\":\"markers\",\"name\":\"Israel\",\"orientation\":\"v\",\"showlegend\":true,\"x\":[80.745],\"xaxis\":\"x4\",\"y\":[25523.2771],\"yaxis\":\"y4\",\"type\":\"scatter\"},{\"hovertemplate\":\"country=Italy<br>continent=Europe<br>lifeExp=%{x}<br>gdpPercap=%{y}<extra></extra>\",\"legendgroup\":\"Italy\",\"marker\":{\"color\":\"#FFA15A\",\"symbol\":\"circle\"},\"mode\":\"markers\",\"name\":\"Italy\",\"orientation\":\"v\",\"showlegend\":true,\"x\":[80.546],\"xaxis\":\"x5\",\"y\":[28569.7197],\"yaxis\":\"y5\",\"type\":\"scatter\"},{\"hovertemplate\":\"country=Jamaica<br>continent=Americas<br>lifeExp=%{x}<br>gdpPercap=%{y}<extra></extra>\",\"legendgroup\":\"Jamaica\",\"marker\":{\"color\":\"#19d3f3\",\"symbol\":\"circle\"},\"mode\":\"markers\",\"name\":\"Jamaica\",\"orientation\":\"v\",\"showlegend\":true,\"x\":[72.567],\"xaxis\":\"x\",\"y\":[7320.8802620000015],\"yaxis\":\"y\",\"type\":\"scatter\"},{\"hovertemplate\":\"country=Japan<br>continent=Asia<br>lifeExp=%{x}<br>gdpPercap=%{y}<extra></extra>\",\"legendgroup\":\"Japan\",\"marker\":{\"color\":\"#FF6692\",\"symbol\":\"circle\"},\"mode\":\"markers\",\"name\":\"Japan\",\"orientation\":\"v\",\"showlegend\":true,\"x\":[82.603],\"xaxis\":\"x4\",\"y\":[31656.06806],\"yaxis\":\"y4\",\"type\":\"scatter\"},{\"hovertemplate\":\"country=Jordan<br>continent=Asia<br>lifeExp=%{x}<br>gdpPercap=%{y}<extra></extra>\",\"legendgroup\":\"Jordan\",\"marker\":{\"color\":\"#B6E880\",\"symbol\":\"circle\"},\"mode\":\"markers\",\"name\":\"Jordan\",\"orientation\":\"v\",\"showlegend\":true,\"x\":[72.535],\"xaxis\":\"x4\",\"y\":[4519.461171],\"yaxis\":\"y4\",\"type\":\"scatter\"},{\"hovertemplate\":\"country=Kenya<br>continent=Africa<br>lifeExp=%{x}<br>gdpPercap=%{y}<extra></extra>\",\"legendgroup\":\"Kenya\",\"marker\":{\"color\":\"#FF97FF\",\"symbol\":\"circle\"},\"mode\":\"markers\",\"name\":\"Kenya\",\"orientation\":\"v\",\"showlegend\":true,\"x\":[54.11],\"xaxis\":\"x6\",\"y\":[1463.249282],\"yaxis\":\"y6\",\"type\":\"scatter\"},{\"hovertemplate\":\"country=Korea, Dem. Rep.<br>continent=Asia<br>lifeExp=%{x}<br>gdpPercap=%{y}<extra></extra>\",\"legendgroup\":\"Korea, Dem. Rep.\",\"marker\":{\"color\":\"#FECB52\",\"symbol\":\"circle\"},\"mode\":\"markers\",\"name\":\"Korea, Dem. Rep.\",\"orientation\":\"v\",\"showlegend\":true,\"x\":[67.297],\"xaxis\":\"x4\",\"y\":[1593.06548],\"yaxis\":\"y4\",\"type\":\"scatter\"},{\"hovertemplate\":\"country=Korea, Rep.<br>continent=Asia<br>lifeExp=%{x}<br>gdpPercap=%{y}<extra></extra>\",\"legendgroup\":\"Korea, Rep.\",\"marker\":{\"color\":\"#636efa\",\"symbol\":\"circle\"},\"mode\":\"markers\",\"name\":\"Korea, Rep.\",\"orientation\":\"v\",\"showlegend\":true,\"x\":[78.623],\"xaxis\":\"x4\",\"y\":[23348.139730000006],\"yaxis\":\"y4\",\"type\":\"scatter\"},{\"hovertemplate\":\"country=Kuwait<br>continent=Asia<br>lifeExp=%{x}<br>gdpPercap=%{y}<extra></extra>\",\"legendgroup\":\"Kuwait\",\"marker\":{\"color\":\"#EF553B\",\"symbol\":\"circle\"},\"mode\":\"markers\",\"name\":\"Kuwait\",\"orientation\":\"v\",\"showlegend\":true,\"x\":[77.58800000000002],\"xaxis\":\"x4\",\"y\":[47306.98978],\"yaxis\":\"y4\",\"type\":\"scatter\"},{\"hovertemplate\":\"country=Lebanon<br>continent=Asia<br>lifeExp=%{x}<br>gdpPercap=%{y}<extra></extra>\",\"legendgroup\":\"Lebanon\",\"marker\":{\"color\":\"#00cc96\",\"symbol\":\"circle\"},\"mode\":\"markers\",\"name\":\"Lebanon\",\"orientation\":\"v\",\"showlegend\":true,\"x\":[71.993],\"xaxis\":\"x4\",\"y\":[10461.05868],\"yaxis\":\"y4\",\"type\":\"scatter\"},{\"hovertemplate\":\"country=Lesotho<br>continent=Africa<br>lifeExp=%{x}<br>gdpPercap=%{y}<extra></extra>\",\"legendgroup\":\"Lesotho\",\"marker\":{\"color\":\"#ab63fa\",\"symbol\":\"circle\"},\"mode\":\"markers\",\"name\":\"Lesotho\",\"orientation\":\"v\",\"showlegend\":true,\"x\":[42.592],\"xaxis\":\"x6\",\"y\":[1569.331442],\"yaxis\":\"y6\",\"type\":\"scatter\"},{\"hovertemplate\":\"country=Liberia<br>continent=Africa<br>lifeExp=%{x}<br>gdpPercap=%{y}<extra></extra>\",\"legendgroup\":\"Liberia\",\"marker\":{\"color\":\"#FFA15A\",\"symbol\":\"circle\"},\"mode\":\"markers\",\"name\":\"Liberia\",\"orientation\":\"v\",\"showlegend\":true,\"x\":[45.678],\"xaxis\":\"x6\",\"y\":[414.5073415],\"yaxis\":\"y6\",\"type\":\"scatter\"},{\"hovertemplate\":\"country=Libya<br>continent=Africa<br>lifeExp=%{x}<br>gdpPercap=%{y}<extra></extra>\",\"legendgroup\":\"Libya\",\"marker\":{\"color\":\"#19d3f3\",\"symbol\":\"circle\"},\"mode\":\"markers\",\"name\":\"Libya\",\"orientation\":\"v\",\"showlegend\":true,\"x\":[73.952],\"xaxis\":\"x6\",\"y\":[12057.49928],\"yaxis\":\"y6\",\"type\":\"scatter\"},{\"hovertemplate\":\"country=Madagascar<br>continent=Africa<br>lifeExp=%{x}<br>gdpPercap=%{y}<extra></extra>\",\"legendgroup\":\"Madagascar\",\"marker\":{\"color\":\"#FF6692\",\"symbol\":\"circle\"},\"mode\":\"markers\",\"name\":\"Madagascar\",\"orientation\":\"v\",\"showlegend\":true,\"x\":[59.44300000000001],\"xaxis\":\"x6\",\"y\":[1044.770126],\"yaxis\":\"y6\",\"type\":\"scatter\"},{\"hovertemplate\":\"country=Malawi<br>continent=Africa<br>lifeExp=%{x}<br>gdpPercap=%{y}<extra></extra>\",\"legendgroup\":\"Malawi\",\"marker\":{\"color\":\"#B6E880\",\"symbol\":\"circle\"},\"mode\":\"markers\",\"name\":\"Malawi\",\"orientation\":\"v\",\"showlegend\":true,\"x\":[48.303],\"xaxis\":\"x6\",\"y\":[759.3499101],\"yaxis\":\"y6\",\"type\":\"scatter\"},{\"hovertemplate\":\"country=Malaysia<br>continent=Asia<br>lifeExp=%{x}<br>gdpPercap=%{y}<extra></extra>\",\"legendgroup\":\"Malaysia\",\"marker\":{\"color\":\"#FF97FF\",\"symbol\":\"circle\"},\"mode\":\"markers\",\"name\":\"Malaysia\",\"orientation\":\"v\",\"showlegend\":true,\"x\":[74.241],\"xaxis\":\"x4\",\"y\":[12451.6558],\"yaxis\":\"y4\",\"type\":\"scatter\"},{\"hovertemplate\":\"country=Mali<br>continent=Africa<br>lifeExp=%{x}<br>gdpPercap=%{y}<extra></extra>\",\"legendgroup\":\"Mali\",\"marker\":{\"color\":\"#FECB52\",\"symbol\":\"circle\"},\"mode\":\"markers\",\"name\":\"Mali\",\"orientation\":\"v\",\"showlegend\":true,\"x\":[54.467],\"xaxis\":\"x6\",\"y\":[1042.581557],\"yaxis\":\"y6\",\"type\":\"scatter\"},{\"hovertemplate\":\"country=Mauritania<br>continent=Africa<br>lifeExp=%{x}<br>gdpPercap=%{y}<extra></extra>\",\"legendgroup\":\"Mauritania\",\"marker\":{\"color\":\"#636efa\",\"symbol\":\"circle\"},\"mode\":\"markers\",\"name\":\"Mauritania\",\"orientation\":\"v\",\"showlegend\":true,\"x\":[64.164],\"xaxis\":\"x6\",\"y\":[1803.151496],\"yaxis\":\"y6\",\"type\":\"scatter\"},{\"hovertemplate\":\"country=Mauritius<br>continent=Africa<br>lifeExp=%{x}<br>gdpPercap=%{y}<extra></extra>\",\"legendgroup\":\"Mauritius\",\"marker\":{\"color\":\"#EF553B\",\"symbol\":\"circle\"},\"mode\":\"markers\",\"name\":\"Mauritius\",\"orientation\":\"v\",\"showlegend\":true,\"x\":[72.801],\"xaxis\":\"x6\",\"y\":[10956.99112],\"yaxis\":\"y6\",\"type\":\"scatter\"},{\"hovertemplate\":\"country=Mexico<br>continent=Americas<br>lifeExp=%{x}<br>gdpPercap=%{y}<extra></extra>\",\"legendgroup\":\"Mexico\",\"marker\":{\"color\":\"#00cc96\",\"symbol\":\"circle\"},\"mode\":\"markers\",\"name\":\"Mexico\",\"orientation\":\"v\",\"showlegend\":true,\"x\":[76.195],\"xaxis\":\"x\",\"y\":[11977.57496],\"yaxis\":\"y\",\"type\":\"scatter\"},{\"hovertemplate\":\"country=Mongolia<br>continent=Asia<br>lifeExp=%{x}<br>gdpPercap=%{y}<extra></extra>\",\"legendgroup\":\"Mongolia\",\"marker\":{\"color\":\"#ab63fa\",\"symbol\":\"circle\"},\"mode\":\"markers\",\"name\":\"Mongolia\",\"orientation\":\"v\",\"showlegend\":true,\"x\":[66.803],\"xaxis\":\"x4\",\"y\":[3095.7722710000007],\"yaxis\":\"y4\",\"type\":\"scatter\"},{\"hovertemplate\":\"country=Montenegro<br>continent=Europe<br>lifeExp=%{x}<br>gdpPercap=%{y}<extra></extra>\",\"legendgroup\":\"Montenegro\",\"marker\":{\"color\":\"#FFA15A\",\"symbol\":\"circle\"},\"mode\":\"markers\",\"name\":\"Montenegro\",\"orientation\":\"v\",\"showlegend\":true,\"x\":[74.543],\"xaxis\":\"x5\",\"y\":[9253.896111],\"yaxis\":\"y5\",\"type\":\"scatter\"},{\"hovertemplate\":\"country=Morocco<br>continent=Africa<br>lifeExp=%{x}<br>gdpPercap=%{y}<extra></extra>\",\"legendgroup\":\"Morocco\",\"marker\":{\"color\":\"#19d3f3\",\"symbol\":\"circle\"},\"mode\":\"markers\",\"name\":\"Morocco\",\"orientation\":\"v\",\"showlegend\":true,\"x\":[71.164],\"xaxis\":\"x6\",\"y\":[3820.17523],\"yaxis\":\"y6\",\"type\":\"scatter\"},{\"hovertemplate\":\"country=Mozambique<br>continent=Africa<br>lifeExp=%{x}<br>gdpPercap=%{y}<extra></extra>\",\"legendgroup\":\"Mozambique\",\"marker\":{\"color\":\"#FF6692\",\"symbol\":\"circle\"},\"mode\":\"markers\",\"name\":\"Mozambique\",\"orientation\":\"v\",\"showlegend\":true,\"x\":[42.082],\"xaxis\":\"x6\",\"y\":[823.6856205],\"yaxis\":\"y6\",\"type\":\"scatter\"},{\"hovertemplate\":\"country=Myanmar<br>continent=Asia<br>lifeExp=%{x}<br>gdpPercap=%{y}<extra></extra>\",\"legendgroup\":\"Myanmar\",\"marker\":{\"color\":\"#B6E880\",\"symbol\":\"circle\"},\"mode\":\"markers\",\"name\":\"Myanmar\",\"orientation\":\"v\",\"showlegend\":true,\"x\":[62.069],\"xaxis\":\"x4\",\"y\":[944.0],\"yaxis\":\"y4\",\"type\":\"scatter\"},{\"hovertemplate\":\"country=Namibia<br>continent=Africa<br>lifeExp=%{x}<br>gdpPercap=%{y}<extra></extra>\",\"legendgroup\":\"Namibia\",\"marker\":{\"color\":\"#FF97FF\",\"symbol\":\"circle\"},\"mode\":\"markers\",\"name\":\"Namibia\",\"orientation\":\"v\",\"showlegend\":true,\"x\":[52.90600000000001],\"xaxis\":\"x6\",\"y\":[4811.060429],\"yaxis\":\"y6\",\"type\":\"scatter\"},{\"hovertemplate\":\"country=Nepal<br>continent=Asia<br>lifeExp=%{x}<br>gdpPercap=%{y}<extra></extra>\",\"legendgroup\":\"Nepal\",\"marker\":{\"color\":\"#FECB52\",\"symbol\":\"circle\"},\"mode\":\"markers\",\"name\":\"Nepal\",\"orientation\":\"v\",\"showlegend\":true,\"x\":[63.785],\"xaxis\":\"x4\",\"y\":[1091.359778],\"yaxis\":\"y4\",\"type\":\"scatter\"},{\"hovertemplate\":\"country=Netherlands<br>continent=Europe<br>lifeExp=%{x}<br>gdpPercap=%{y}<extra></extra>\",\"legendgroup\":\"Netherlands\",\"marker\":{\"color\":\"#636efa\",\"symbol\":\"circle\"},\"mode\":\"markers\",\"name\":\"Netherlands\",\"orientation\":\"v\",\"showlegend\":true,\"x\":[79.762],\"xaxis\":\"x5\",\"y\":[36797.93332],\"yaxis\":\"y5\",\"type\":\"scatter\"},{\"hovertemplate\":\"country=New Zealand<br>continent=Oceania<br>lifeExp=%{x}<br>gdpPercap=%{y}<extra></extra>\",\"legendgroup\":\"New Zealand\",\"marker\":{\"color\":\"#EF553B\",\"symbol\":\"circle\"},\"mode\":\"markers\",\"name\":\"New Zealand\",\"orientation\":\"v\",\"showlegend\":true,\"x\":[80.204],\"xaxis\":\"x2\",\"y\":[25185.00911],\"yaxis\":\"y2\",\"type\":\"scatter\"},{\"hovertemplate\":\"country=Nicaragua<br>continent=Americas<br>lifeExp=%{x}<br>gdpPercap=%{y}<extra></extra>\",\"legendgroup\":\"Nicaragua\",\"marker\":{\"color\":\"#00cc96\",\"symbol\":\"circle\"},\"mode\":\"markers\",\"name\":\"Nicaragua\",\"orientation\":\"v\",\"showlegend\":true,\"x\":[72.899],\"xaxis\":\"x\",\"y\":[2749.320965],\"yaxis\":\"y\",\"type\":\"scatter\"},{\"hovertemplate\":\"country=Niger<br>continent=Africa<br>lifeExp=%{x}<br>gdpPercap=%{y}<extra></extra>\",\"legendgroup\":\"Niger\",\"marker\":{\"color\":\"#ab63fa\",\"symbol\":\"circle\"},\"mode\":\"markers\",\"name\":\"Niger\",\"orientation\":\"v\",\"showlegend\":true,\"x\":[56.867],\"xaxis\":\"x6\",\"y\":[619.6768923999998],\"yaxis\":\"y6\",\"type\":\"scatter\"},{\"hovertemplate\":\"country=Nigeria<br>continent=Africa<br>lifeExp=%{x}<br>gdpPercap=%{y}<extra></extra>\",\"legendgroup\":\"Nigeria\",\"marker\":{\"color\":\"#FFA15A\",\"symbol\":\"circle\"},\"mode\":\"markers\",\"name\":\"Nigeria\",\"orientation\":\"v\",\"showlegend\":true,\"x\":[46.859],\"xaxis\":\"x6\",\"y\":[2013.977305],\"yaxis\":\"y6\",\"type\":\"scatter\"},{\"hovertemplate\":\"country=Norway<br>continent=Europe<br>lifeExp=%{x}<br>gdpPercap=%{y}<extra></extra>\",\"legendgroup\":\"Norway\",\"marker\":{\"color\":\"#19d3f3\",\"symbol\":\"circle\"},\"mode\":\"markers\",\"name\":\"Norway\",\"orientation\":\"v\",\"showlegend\":true,\"x\":[80.196],\"xaxis\":\"x5\",\"y\":[49357.19017],\"yaxis\":\"y5\",\"type\":\"scatter\"},{\"hovertemplate\":\"country=Oman<br>continent=Asia<br>lifeExp=%{x}<br>gdpPercap=%{y}<extra></extra>\",\"legendgroup\":\"Oman\",\"marker\":{\"color\":\"#FF6692\",\"symbol\":\"circle\"},\"mode\":\"markers\",\"name\":\"Oman\",\"orientation\":\"v\",\"showlegend\":true,\"x\":[75.64],\"xaxis\":\"x4\",\"y\":[22316.19287],\"yaxis\":\"y4\",\"type\":\"scatter\"},{\"hovertemplate\":\"country=Pakistan<br>continent=Asia<br>lifeExp=%{x}<br>gdpPercap=%{y}<extra></extra>\",\"legendgroup\":\"Pakistan\",\"marker\":{\"color\":\"#B6E880\",\"symbol\":\"circle\"},\"mode\":\"markers\",\"name\":\"Pakistan\",\"orientation\":\"v\",\"showlegend\":true,\"x\":[65.483],\"xaxis\":\"x4\",\"y\":[2605.94758],\"yaxis\":\"y4\",\"type\":\"scatter\"},{\"hovertemplate\":\"country=Panama<br>continent=Americas<br>lifeExp=%{x}<br>gdpPercap=%{y}<extra></extra>\",\"legendgroup\":\"Panama\",\"marker\":{\"color\":\"#FF97FF\",\"symbol\":\"circle\"},\"mode\":\"markers\",\"name\":\"Panama\",\"orientation\":\"v\",\"showlegend\":true,\"x\":[75.53699999999998],\"xaxis\":\"x\",\"y\":[9809.185636],\"yaxis\":\"y\",\"type\":\"scatter\"},{\"hovertemplate\":\"country=Paraguay<br>continent=Americas<br>lifeExp=%{x}<br>gdpPercap=%{y}<extra></extra>\",\"legendgroup\":\"Paraguay\",\"marker\":{\"color\":\"#FECB52\",\"symbol\":\"circle\"},\"mode\":\"markers\",\"name\":\"Paraguay\",\"orientation\":\"v\",\"showlegend\":true,\"x\":[71.752],\"xaxis\":\"x\",\"y\":[4172.838464],\"yaxis\":\"y\",\"type\":\"scatter\"},{\"hovertemplate\":\"country=Peru<br>continent=Americas<br>lifeExp=%{x}<br>gdpPercap=%{y}<extra></extra>\",\"legendgroup\":\"Peru\",\"marker\":{\"color\":\"#636efa\",\"symbol\":\"circle\"},\"mode\":\"markers\",\"name\":\"Peru\",\"orientation\":\"v\",\"showlegend\":true,\"x\":[71.421],\"xaxis\":\"x\",\"y\":[7408.905561],\"yaxis\":\"y\",\"type\":\"scatter\"},{\"hovertemplate\":\"country=Philippines<br>continent=Asia<br>lifeExp=%{x}<br>gdpPercap=%{y}<extra></extra>\",\"legendgroup\":\"Philippines\",\"marker\":{\"color\":\"#EF553B\",\"symbol\":\"circle\"},\"mode\":\"markers\",\"name\":\"Philippines\",\"orientation\":\"v\",\"showlegend\":true,\"x\":[71.688],\"xaxis\":\"x4\",\"y\":[3190.481016],\"yaxis\":\"y4\",\"type\":\"scatter\"},{\"hovertemplate\":\"country=Poland<br>continent=Europe<br>lifeExp=%{x}<br>gdpPercap=%{y}<extra></extra>\",\"legendgroup\":\"Poland\",\"marker\":{\"color\":\"#00cc96\",\"symbol\":\"circle\"},\"mode\":\"markers\",\"name\":\"Poland\",\"orientation\":\"v\",\"showlegend\":true,\"x\":[75.563],\"xaxis\":\"x5\",\"y\":[15389.924680000002],\"yaxis\":\"y5\",\"type\":\"scatter\"},{\"hovertemplate\":\"country=Portugal<br>continent=Europe<br>lifeExp=%{x}<br>gdpPercap=%{y}<extra></extra>\",\"legendgroup\":\"Portugal\",\"marker\":{\"color\":\"#ab63fa\",\"symbol\":\"circle\"},\"mode\":\"markers\",\"name\":\"Portugal\",\"orientation\":\"v\",\"showlegend\":true,\"x\":[78.098],\"xaxis\":\"x5\",\"y\":[20509.64777],\"yaxis\":\"y5\",\"type\":\"scatter\"},{\"hovertemplate\":\"country=Puerto Rico<br>continent=Americas<br>lifeExp=%{x}<br>gdpPercap=%{y}<extra></extra>\",\"legendgroup\":\"Puerto Rico\",\"marker\":{\"color\":\"#FFA15A\",\"symbol\":\"circle\"},\"mode\":\"markers\",\"name\":\"Puerto Rico\",\"orientation\":\"v\",\"showlegend\":true,\"x\":[78.74600000000002],\"xaxis\":\"x\",\"y\":[19328.70901],\"yaxis\":\"y\",\"type\":\"scatter\"},{\"hovertemplate\":\"country=Reunion<br>continent=Africa<br>lifeExp=%{x}<br>gdpPercap=%{y}<extra></extra>\",\"legendgroup\":\"Reunion\",\"marker\":{\"color\":\"#19d3f3\",\"symbol\":\"circle\"},\"mode\":\"markers\",\"name\":\"Reunion\",\"orientation\":\"v\",\"showlegend\":true,\"x\":[76.442],\"xaxis\":\"x6\",\"y\":[7670.122558],\"yaxis\":\"y6\",\"type\":\"scatter\"},{\"hovertemplate\":\"country=Romania<br>continent=Europe<br>lifeExp=%{x}<br>gdpPercap=%{y}<extra></extra>\",\"legendgroup\":\"Romania\",\"marker\":{\"color\":\"#FF6692\",\"symbol\":\"circle\"},\"mode\":\"markers\",\"name\":\"Romania\",\"orientation\":\"v\",\"showlegend\":true,\"x\":[72.476],\"xaxis\":\"x5\",\"y\":[10808.47561],\"yaxis\":\"y5\",\"type\":\"scatter\"},{\"hovertemplate\":\"country=Rwanda<br>continent=Africa<br>lifeExp=%{x}<br>gdpPercap=%{y}<extra></extra>\",\"legendgroup\":\"Rwanda\",\"marker\":{\"color\":\"#B6E880\",\"symbol\":\"circle\"},\"mode\":\"markers\",\"name\":\"Rwanda\",\"orientation\":\"v\",\"showlegend\":true,\"x\":[46.242],\"xaxis\":\"x6\",\"y\":[863.0884639000002],\"yaxis\":\"y6\",\"type\":\"scatter\"},{\"hovertemplate\":\"country=Sao Tome and Principe<br>continent=Africa<br>lifeExp=%{x}<br>gdpPercap=%{y}<extra></extra>\",\"legendgroup\":\"Sao Tome and Principe\",\"marker\":{\"color\":\"#FF97FF\",\"symbol\":\"circle\"},\"mode\":\"markers\",\"name\":\"Sao Tome and Principe\",\"orientation\":\"v\",\"showlegend\":true,\"x\":[65.528],\"xaxis\":\"x6\",\"y\":[1598.435089],\"yaxis\":\"y6\",\"type\":\"scatter\"},{\"hovertemplate\":\"country=Saudi Arabia<br>continent=Asia<br>lifeExp=%{x}<br>gdpPercap=%{y}<extra></extra>\",\"legendgroup\":\"Saudi Arabia\",\"marker\":{\"color\":\"#FECB52\",\"symbol\":\"circle\"},\"mode\":\"markers\",\"name\":\"Saudi Arabia\",\"orientation\":\"v\",\"showlegend\":true,\"x\":[72.777],\"xaxis\":\"x4\",\"y\":[21654.83194],\"yaxis\":\"y4\",\"type\":\"scatter\"},{\"hovertemplate\":\"country=Senegal<br>continent=Africa<br>lifeExp=%{x}<br>gdpPercap=%{y}<extra></extra>\",\"legendgroup\":\"Senegal\",\"marker\":{\"color\":\"#636efa\",\"symbol\":\"circle\"},\"mode\":\"markers\",\"name\":\"Senegal\",\"orientation\":\"v\",\"showlegend\":true,\"x\":[63.062],\"xaxis\":\"x6\",\"y\":[1712.472136],\"yaxis\":\"y6\",\"type\":\"scatter\"},{\"hovertemplate\":\"country=Serbia<br>continent=Europe<br>lifeExp=%{x}<br>gdpPercap=%{y}<extra></extra>\",\"legendgroup\":\"Serbia\",\"marker\":{\"color\":\"#EF553B\",\"symbol\":\"circle\"},\"mode\":\"markers\",\"name\":\"Serbia\",\"orientation\":\"v\",\"showlegend\":true,\"x\":[74.002],\"xaxis\":\"x5\",\"y\":[9786.534714],\"yaxis\":\"y5\",\"type\":\"scatter\"},{\"hovertemplate\":\"country=Sierra Leone<br>continent=Africa<br>lifeExp=%{x}<br>gdpPercap=%{y}<extra></extra>\",\"legendgroup\":\"Sierra Leone\",\"marker\":{\"color\":\"#00cc96\",\"symbol\":\"circle\"},\"mode\":\"markers\",\"name\":\"Sierra Leone\",\"orientation\":\"v\",\"showlegend\":true,\"x\":[42.56800000000001],\"xaxis\":\"x6\",\"y\":[862.5407561000002],\"yaxis\":\"y6\",\"type\":\"scatter\"},{\"hovertemplate\":\"country=Singapore<br>continent=Asia<br>lifeExp=%{x}<br>gdpPercap=%{y}<extra></extra>\",\"legendgroup\":\"Singapore\",\"marker\":{\"color\":\"#ab63fa\",\"symbol\":\"circle\"},\"mode\":\"markers\",\"name\":\"Singapore\",\"orientation\":\"v\",\"showlegend\":true,\"x\":[79.972],\"xaxis\":\"x4\",\"y\":[47143.17964],\"yaxis\":\"y4\",\"type\":\"scatter\"},{\"hovertemplate\":\"country=Slovak Republic<br>continent=Europe<br>lifeExp=%{x}<br>gdpPercap=%{y}<extra></extra>\",\"legendgroup\":\"Slovak Republic\",\"marker\":{\"color\":\"#FFA15A\",\"symbol\":\"circle\"},\"mode\":\"markers\",\"name\":\"Slovak Republic\",\"orientation\":\"v\",\"showlegend\":true,\"x\":[74.663],\"xaxis\":\"x5\",\"y\":[18678.31435],\"yaxis\":\"y5\",\"type\":\"scatter\"},{\"hovertemplate\":\"country=Slovenia<br>continent=Europe<br>lifeExp=%{x}<br>gdpPercap=%{y}<extra></extra>\",\"legendgroup\":\"Slovenia\",\"marker\":{\"color\":\"#19d3f3\",\"symbol\":\"circle\"},\"mode\":\"markers\",\"name\":\"Slovenia\",\"orientation\":\"v\",\"showlegend\":true,\"x\":[77.926],\"xaxis\":\"x5\",\"y\":[25768.25759],\"yaxis\":\"y5\",\"type\":\"scatter\"},{\"hovertemplate\":\"country=Somalia<br>continent=Africa<br>lifeExp=%{x}<br>gdpPercap=%{y}<extra></extra>\",\"legendgroup\":\"Somalia\",\"marker\":{\"color\":\"#FF6692\",\"symbol\":\"circle\"},\"mode\":\"markers\",\"name\":\"Somalia\",\"orientation\":\"v\",\"showlegend\":true,\"x\":[48.159],\"xaxis\":\"x6\",\"y\":[926.1410683],\"yaxis\":\"y6\",\"type\":\"scatter\"},{\"hovertemplate\":\"country=South Africa<br>continent=Africa<br>lifeExp=%{x}<br>gdpPercap=%{y}<extra></extra>\",\"legendgroup\":\"South Africa\",\"marker\":{\"color\":\"#B6E880\",\"symbol\":\"circle\"},\"mode\":\"markers\",\"name\":\"South Africa\",\"orientation\":\"v\",\"showlegend\":true,\"x\":[49.339],\"xaxis\":\"x6\",\"y\":[9269.657808],\"yaxis\":\"y6\",\"type\":\"scatter\"},{\"hovertemplate\":\"country=Spain<br>continent=Europe<br>lifeExp=%{x}<br>gdpPercap=%{y}<extra></extra>\",\"legendgroup\":\"Spain\",\"marker\":{\"color\":\"#FF97FF\",\"symbol\":\"circle\"},\"mode\":\"markers\",\"name\":\"Spain\",\"orientation\":\"v\",\"showlegend\":true,\"x\":[80.941],\"xaxis\":\"x5\",\"y\":[28821.0637],\"yaxis\":\"y5\",\"type\":\"scatter\"},{\"hovertemplate\":\"country=Sri Lanka<br>continent=Asia<br>lifeExp=%{x}<br>gdpPercap=%{y}<extra></extra>\",\"legendgroup\":\"Sri Lanka\",\"marker\":{\"color\":\"#FECB52\",\"symbol\":\"circle\"},\"mode\":\"markers\",\"name\":\"Sri Lanka\",\"orientation\":\"v\",\"showlegend\":true,\"x\":[72.396],\"xaxis\":\"x4\",\"y\":[3970.095407],\"yaxis\":\"y4\",\"type\":\"scatter\"},{\"hovertemplate\":\"country=Sudan<br>continent=Africa<br>lifeExp=%{x}<br>gdpPercap=%{y}<extra></extra>\",\"legendgroup\":\"Sudan\",\"marker\":{\"color\":\"#636efa\",\"symbol\":\"circle\"},\"mode\":\"markers\",\"name\":\"Sudan\",\"orientation\":\"v\",\"showlegend\":true,\"x\":[58.556],\"xaxis\":\"x6\",\"y\":[2602.394995],\"yaxis\":\"y6\",\"type\":\"scatter\"},{\"hovertemplate\":\"country=Swaziland<br>continent=Africa<br>lifeExp=%{x}<br>gdpPercap=%{y}<extra></extra>\",\"legendgroup\":\"Swaziland\",\"marker\":{\"color\":\"#EF553B\",\"symbol\":\"circle\"},\"mode\":\"markers\",\"name\":\"Swaziland\",\"orientation\":\"v\",\"showlegend\":true,\"x\":[39.613],\"xaxis\":\"x6\",\"y\":[4513.480643],\"yaxis\":\"y6\",\"type\":\"scatter\"},{\"hovertemplate\":\"country=Sweden<br>continent=Europe<br>lifeExp=%{x}<br>gdpPercap=%{y}<extra></extra>\",\"legendgroup\":\"Sweden\",\"marker\":{\"color\":\"#00cc96\",\"symbol\":\"circle\"},\"mode\":\"markers\",\"name\":\"Sweden\",\"orientation\":\"v\",\"showlegend\":true,\"x\":[80.884],\"xaxis\":\"x5\",\"y\":[33859.74835],\"yaxis\":\"y5\",\"type\":\"scatter\"},{\"hovertemplate\":\"country=Switzerland<br>continent=Europe<br>lifeExp=%{x}<br>gdpPercap=%{y}<extra></extra>\",\"legendgroup\":\"Switzerland\",\"marker\":{\"color\":\"#ab63fa\",\"symbol\":\"circle\"},\"mode\":\"markers\",\"name\":\"Switzerland\",\"orientation\":\"v\",\"showlegend\":true,\"x\":[81.70100000000002],\"xaxis\":\"x5\",\"y\":[37506.41907],\"yaxis\":\"y5\",\"type\":\"scatter\"},{\"hovertemplate\":\"country=Syria<br>continent=Asia<br>lifeExp=%{x}<br>gdpPercap=%{y}<extra></extra>\",\"legendgroup\":\"Syria\",\"marker\":{\"color\":\"#FFA15A\",\"symbol\":\"circle\"},\"mode\":\"markers\",\"name\":\"Syria\",\"orientation\":\"v\",\"showlegend\":true,\"x\":[74.143],\"xaxis\":\"x4\",\"y\":[4184.548089],\"yaxis\":\"y4\",\"type\":\"scatter\"},{\"hovertemplate\":\"country=Taiwan<br>continent=Asia<br>lifeExp=%{x}<br>gdpPercap=%{y}<extra></extra>\",\"legendgroup\":\"Taiwan\",\"marker\":{\"color\":\"#19d3f3\",\"symbol\":\"circle\"},\"mode\":\"markers\",\"name\":\"Taiwan\",\"orientation\":\"v\",\"showlegend\":true,\"x\":[78.4],\"xaxis\":\"x4\",\"y\":[28718.27684],\"yaxis\":\"y4\",\"type\":\"scatter\"},{\"hovertemplate\":\"country=Tanzania<br>continent=Africa<br>lifeExp=%{x}<br>gdpPercap=%{y}<extra></extra>\",\"legendgroup\":\"Tanzania\",\"marker\":{\"color\":\"#FF6692\",\"symbol\":\"circle\"},\"mode\":\"markers\",\"name\":\"Tanzania\",\"orientation\":\"v\",\"showlegend\":true,\"x\":[52.517],\"xaxis\":\"x6\",\"y\":[1107.482182],\"yaxis\":\"y6\",\"type\":\"scatter\"},{\"hovertemplate\":\"country=Thailand<br>continent=Asia<br>lifeExp=%{x}<br>gdpPercap=%{y}<extra></extra>\",\"legendgroup\":\"Thailand\",\"marker\":{\"color\":\"#B6E880\",\"symbol\":\"circle\"},\"mode\":\"markers\",\"name\":\"Thailand\",\"orientation\":\"v\",\"showlegend\":true,\"x\":[70.616],\"xaxis\":\"x4\",\"y\":[7458.396326999998],\"yaxis\":\"y4\",\"type\":\"scatter\"},{\"hovertemplate\":\"country=Togo<br>continent=Africa<br>lifeExp=%{x}<br>gdpPercap=%{y}<extra></extra>\",\"legendgroup\":\"Togo\",\"marker\":{\"color\":\"#FF97FF\",\"symbol\":\"circle\"},\"mode\":\"markers\",\"name\":\"Togo\",\"orientation\":\"v\",\"showlegend\":true,\"x\":[58.42],\"xaxis\":\"x6\",\"y\":[882.9699437999999],\"yaxis\":\"y6\",\"type\":\"scatter\"},{\"hovertemplate\":\"country=Trinidad and Tobago<br>continent=Americas<br>lifeExp=%{x}<br>gdpPercap=%{y}<extra></extra>\",\"legendgroup\":\"Trinidad and Tobago\",\"marker\":{\"color\":\"#FECB52\",\"symbol\":\"circle\"},\"mode\":\"markers\",\"name\":\"Trinidad and Tobago\",\"orientation\":\"v\",\"showlegend\":true,\"x\":[69.819],\"xaxis\":\"x\",\"y\":[18008.50924],\"yaxis\":\"y\",\"type\":\"scatter\"},{\"hovertemplate\":\"country=Tunisia<br>continent=Africa<br>lifeExp=%{x}<br>gdpPercap=%{y}<extra></extra>\",\"legendgroup\":\"Tunisia\",\"marker\":{\"color\":\"#636efa\",\"symbol\":\"circle\"},\"mode\":\"markers\",\"name\":\"Tunisia\",\"orientation\":\"v\",\"showlegend\":true,\"x\":[73.923],\"xaxis\":\"x6\",\"y\":[7092.923025],\"yaxis\":\"y6\",\"type\":\"scatter\"},{\"hovertemplate\":\"country=Turkey<br>continent=Europe<br>lifeExp=%{x}<br>gdpPercap=%{y}<extra></extra>\",\"legendgroup\":\"Turkey\",\"marker\":{\"color\":\"#EF553B\",\"symbol\":\"circle\"},\"mode\":\"markers\",\"name\":\"Turkey\",\"orientation\":\"v\",\"showlegend\":true,\"x\":[71.777],\"xaxis\":\"x5\",\"y\":[8458.276384],\"yaxis\":\"y5\",\"type\":\"scatter\"},{\"hovertemplate\":\"country=Uganda<br>continent=Africa<br>lifeExp=%{x}<br>gdpPercap=%{y}<extra></extra>\",\"legendgroup\":\"Uganda\",\"marker\":{\"color\":\"#00cc96\",\"symbol\":\"circle\"},\"mode\":\"markers\",\"name\":\"Uganda\",\"orientation\":\"v\",\"showlegend\":true,\"x\":[51.542],\"xaxis\":\"x6\",\"y\":[1056.380121],\"yaxis\":\"y6\",\"type\":\"scatter\"},{\"hovertemplate\":\"country=United Kingdom<br>continent=Europe<br>lifeExp=%{x}<br>gdpPercap=%{y}<extra></extra>\",\"legendgroup\":\"United Kingdom\",\"marker\":{\"color\":\"#ab63fa\",\"symbol\":\"circle\"},\"mode\":\"markers\",\"name\":\"United Kingdom\",\"orientation\":\"v\",\"showlegend\":true,\"x\":[79.425],\"xaxis\":\"x5\",\"y\":[33203.26128],\"yaxis\":\"y5\",\"type\":\"scatter\"},{\"hovertemplate\":\"country=United States<br>continent=Americas<br>lifeExp=%{x}<br>gdpPercap=%{y}<extra></extra>\",\"legendgroup\":\"United States\",\"marker\":{\"color\":\"#FFA15A\",\"symbol\":\"circle\"},\"mode\":\"markers\",\"name\":\"United States\",\"orientation\":\"v\",\"showlegend\":true,\"x\":[78.242],\"xaxis\":\"x\",\"y\":[42951.65309],\"yaxis\":\"y\",\"type\":\"scatter\"},{\"hovertemplate\":\"country=Uruguay<br>continent=Americas<br>lifeExp=%{x}<br>gdpPercap=%{y}<extra></extra>\",\"legendgroup\":\"Uruguay\",\"marker\":{\"color\":\"#19d3f3\",\"symbol\":\"circle\"},\"mode\":\"markers\",\"name\":\"Uruguay\",\"orientation\":\"v\",\"showlegend\":true,\"x\":[76.384],\"xaxis\":\"x\",\"y\":[10611.46299],\"yaxis\":\"y\",\"type\":\"scatter\"},{\"hovertemplate\":\"country=Venezuela<br>continent=Americas<br>lifeExp=%{x}<br>gdpPercap=%{y}<extra></extra>\",\"legendgroup\":\"Venezuela\",\"marker\":{\"color\":\"#FF6692\",\"symbol\":\"circle\"},\"mode\":\"markers\",\"name\":\"Venezuela\",\"orientation\":\"v\",\"showlegend\":true,\"x\":[73.747],\"xaxis\":\"x\",\"y\":[11415.80569],\"yaxis\":\"y\",\"type\":\"scatter\"},{\"hovertemplate\":\"country=Vietnam<br>continent=Asia<br>lifeExp=%{x}<br>gdpPercap=%{y}<extra></extra>\",\"legendgroup\":\"Vietnam\",\"marker\":{\"color\":\"#B6E880\",\"symbol\":\"circle\"},\"mode\":\"markers\",\"name\":\"Vietnam\",\"orientation\":\"v\",\"showlegend\":true,\"x\":[74.249],\"xaxis\":\"x4\",\"y\":[2441.576404],\"yaxis\":\"y4\",\"type\":\"scatter\"},{\"hovertemplate\":\"country=West Bank and Gaza<br>continent=Asia<br>lifeExp=%{x}<br>gdpPercap=%{y}<extra></extra>\",\"legendgroup\":\"West Bank and Gaza\",\"marker\":{\"color\":\"#FF97FF\",\"symbol\":\"circle\"},\"mode\":\"markers\",\"name\":\"West Bank and Gaza\",\"orientation\":\"v\",\"showlegend\":true,\"x\":[73.422],\"xaxis\":\"x4\",\"y\":[3025.349798],\"yaxis\":\"y4\",\"type\":\"scatter\"},{\"hovertemplate\":\"country=Yemen, Rep.<br>continent=Asia<br>lifeExp=%{x}<br>gdpPercap=%{y}<extra></extra>\",\"legendgroup\":\"Yemen, Rep.\",\"marker\":{\"color\":\"#FECB52\",\"symbol\":\"circle\"},\"mode\":\"markers\",\"name\":\"Yemen, Rep.\",\"orientation\":\"v\",\"showlegend\":true,\"x\":[62.698],\"xaxis\":\"x4\",\"y\":[2280.769906],\"yaxis\":\"y4\",\"type\":\"scatter\"},{\"hovertemplate\":\"country=Zambia<br>continent=Africa<br>lifeExp=%{x}<br>gdpPercap=%{y}<extra></extra>\",\"legendgroup\":\"Zambia\",\"marker\":{\"color\":\"#636efa\",\"symbol\":\"circle\"},\"mode\":\"markers\",\"name\":\"Zambia\",\"orientation\":\"v\",\"showlegend\":true,\"x\":[42.38399999999999],\"xaxis\":\"x6\",\"y\":[1271.211593],\"yaxis\":\"y6\",\"type\":\"scatter\"},{\"hovertemplate\":\"country=Zimbabwe<br>continent=Africa<br>lifeExp=%{x}<br>gdpPercap=%{y}<extra></extra>\",\"legendgroup\":\"Zimbabwe\",\"marker\":{\"color\":\"#EF553B\",\"symbol\":\"circle\"},\"mode\":\"markers\",\"name\":\"Zimbabwe\",\"orientation\":\"v\",\"showlegend\":true,\"x\":[43.487],\"xaxis\":\"x6\",\"y\":[469.70929810000007],\"yaxis\":\"y6\",\"type\":\"scatter\"}],                        {\"template\":{\"data\":{\"histogram2dcontour\":[{\"type\":\"histogram2dcontour\",\"colorbar\":{\"outlinewidth\":0,\"ticks\":\"\"},\"colorscale\":[[0.0,\"#0d0887\"],[0.1111111111111111,\"#46039f\"],[0.2222222222222222,\"#7201a8\"],[0.3333333333333333,\"#9c179e\"],[0.4444444444444444,\"#bd3786\"],[0.5555555555555556,\"#d8576b\"],[0.6666666666666666,\"#ed7953\"],[0.7777777777777778,\"#fb9f3a\"],[0.8888888888888888,\"#fdca26\"],[1.0,\"#f0f921\"]]}],\"choropleth\":[{\"type\":\"choropleth\",\"colorbar\":{\"outlinewidth\":0,\"ticks\":\"\"}}],\"histogram2d\":[{\"type\":\"histogram2d\",\"colorbar\":{\"outlinewidth\":0,\"ticks\":\"\"},\"colorscale\":[[0.0,\"#0d0887\"],[0.1111111111111111,\"#46039f\"],[0.2222222222222222,\"#7201a8\"],[0.3333333333333333,\"#9c179e\"],[0.4444444444444444,\"#bd3786\"],[0.5555555555555556,\"#d8576b\"],[0.6666666666666666,\"#ed7953\"],[0.7777777777777778,\"#fb9f3a\"],[0.8888888888888888,\"#fdca26\"],[1.0,\"#f0f921\"]]}],\"heatmap\":[{\"type\":\"heatmap\",\"colorbar\":{\"outlinewidth\":0,\"ticks\":\"\"},\"colorscale\":[[0.0,\"#0d0887\"],[0.1111111111111111,\"#46039f\"],[0.2222222222222222,\"#7201a8\"],[0.3333333333333333,\"#9c179e\"],[0.4444444444444444,\"#bd3786\"],[0.5555555555555556,\"#d8576b\"],[0.6666666666666666,\"#ed7953\"],[0.7777777777777778,\"#fb9f3a\"],[0.8888888888888888,\"#fdca26\"],[1.0,\"#f0f921\"]]}],\"heatmapgl\":[{\"type\":\"heatmapgl\",\"colorbar\":{\"outlinewidth\":0,\"ticks\":\"\"},\"colorscale\":[[0.0,\"#0d0887\"],[0.1111111111111111,\"#46039f\"],[0.2222222222222222,\"#7201a8\"],[0.3333333333333333,\"#9c179e\"],[0.4444444444444444,\"#bd3786\"],[0.5555555555555556,\"#d8576b\"],[0.6666666666666666,\"#ed7953\"],[0.7777777777777778,\"#fb9f3a\"],[0.8888888888888888,\"#fdca26\"],[1.0,\"#f0f921\"]]}],\"contourcarpet\":[{\"type\":\"contourcarpet\",\"colorbar\":{\"outlinewidth\":0,\"ticks\":\"\"}}],\"contour\":[{\"type\":\"contour\",\"colorbar\":{\"outlinewidth\":0,\"ticks\":\"\"},\"colorscale\":[[0.0,\"#0d0887\"],[0.1111111111111111,\"#46039f\"],[0.2222222222222222,\"#7201a8\"],[0.3333333333333333,\"#9c179e\"],[0.4444444444444444,\"#bd3786\"],[0.5555555555555556,\"#d8576b\"],[0.6666666666666666,\"#ed7953\"],[0.7777777777777778,\"#fb9f3a\"],[0.8888888888888888,\"#fdca26\"],[1.0,\"#f0f921\"]]}],\"surface\":[{\"type\":\"surface\",\"colorbar\":{\"outlinewidth\":0,\"ticks\":\"\"},\"colorscale\":[[0.0,\"#0d0887\"],[0.1111111111111111,\"#46039f\"],[0.2222222222222222,\"#7201a8\"],[0.3333333333333333,\"#9c179e\"],[0.4444444444444444,\"#bd3786\"],[0.5555555555555556,\"#d8576b\"],[0.6666666666666666,\"#ed7953\"],[0.7777777777777778,\"#fb9f3a\"],[0.8888888888888888,\"#fdca26\"],[1.0,\"#f0f921\"]]}],\"mesh3d\":[{\"type\":\"mesh3d\",\"colorbar\":{\"outlinewidth\":0,\"ticks\":\"\"}}],\"scatter\":[{\"fillpattern\":{\"fillmode\":\"overlay\",\"size\":10,\"solidity\":0.2},\"type\":\"scatter\"}],\"parcoords\":[{\"type\":\"parcoords\",\"line\":{\"colorbar\":{\"outlinewidth\":0,\"ticks\":\"\"}}}],\"scatterpolargl\":[{\"type\":\"scatterpolargl\",\"marker\":{\"colorbar\":{\"outlinewidth\":0,\"ticks\":\"\"}}}],\"bar\":[{\"error_x\":{\"color\":\"#2a3f5f\"},\"error_y\":{\"color\":\"#2a3f5f\"},\"marker\":{\"line\":{\"color\":\"#E5ECF6\",\"width\":0.5},\"pattern\":{\"fillmode\":\"overlay\",\"size\":10,\"solidity\":0.2}},\"type\":\"bar\"}],\"scattergeo\":[{\"type\":\"scattergeo\",\"marker\":{\"colorbar\":{\"outlinewidth\":0,\"ticks\":\"\"}}}],\"scatterpolar\":[{\"type\":\"scatterpolar\",\"marker\":{\"colorbar\":{\"outlinewidth\":0,\"ticks\":\"\"}}}],\"histogram\":[{\"marker\":{\"pattern\":{\"fillmode\":\"overlay\",\"size\":10,\"solidity\":0.2}},\"type\":\"histogram\"}],\"scattergl\":[{\"type\":\"scattergl\",\"marker\":{\"colorbar\":{\"outlinewidth\":0,\"ticks\":\"\"}}}],\"scatter3d\":[{\"type\":\"scatter3d\",\"line\":{\"colorbar\":{\"outlinewidth\":0,\"ticks\":\"\"}},\"marker\":{\"colorbar\":{\"outlinewidth\":0,\"ticks\":\"\"}}}],\"scattermapbox\":[{\"type\":\"scattermapbox\",\"marker\":{\"colorbar\":{\"outlinewidth\":0,\"ticks\":\"\"}}}],\"scatterternary\":[{\"type\":\"scatterternary\",\"marker\":{\"colorbar\":{\"outlinewidth\":0,\"ticks\":\"\"}}}],\"scattercarpet\":[{\"type\":\"scattercarpet\",\"marker\":{\"colorbar\":{\"outlinewidth\":0,\"ticks\":\"\"}}}],\"carpet\":[{\"aaxis\":{\"endlinecolor\":\"#2a3f5f\",\"gridcolor\":\"white\",\"linecolor\":\"white\",\"minorgridcolor\":\"white\",\"startlinecolor\":\"#2a3f5f\"},\"baxis\":{\"endlinecolor\":\"#2a3f5f\",\"gridcolor\":\"white\",\"linecolor\":\"white\",\"minorgridcolor\":\"white\",\"startlinecolor\":\"#2a3f5f\"},\"type\":\"carpet\"}],\"table\":[{\"cells\":{\"fill\":{\"color\":\"#EBF0F8\"},\"line\":{\"color\":\"white\"}},\"header\":{\"fill\":{\"color\":\"#C8D4E3\"},\"line\":{\"color\":\"white\"}},\"type\":\"table\"}],\"barpolar\":[{\"marker\":{\"line\":{\"color\":\"#E5ECF6\",\"width\":0.5},\"pattern\":{\"fillmode\":\"overlay\",\"size\":10,\"solidity\":0.2}},\"type\":\"barpolar\"}],\"pie\":[{\"automargin\":true,\"type\":\"pie\"}]},\"layout\":{\"autotypenumbers\":\"strict\",\"colorway\":[\"#636efa\",\"#EF553B\",\"#00cc96\",\"#ab63fa\",\"#FFA15A\",\"#19d3f3\",\"#FF6692\",\"#B6E880\",\"#FF97FF\",\"#FECB52\"],\"font\":{\"color\":\"#2a3f5f\"},\"hovermode\":\"closest\",\"hoverlabel\":{\"align\":\"left\"},\"paper_bgcolor\":\"white\",\"plot_bgcolor\":\"#E5ECF6\",\"polar\":{\"bgcolor\":\"#E5ECF6\",\"angularaxis\":{\"gridcolor\":\"white\",\"linecolor\":\"white\",\"ticks\":\"\"},\"radialaxis\":{\"gridcolor\":\"white\",\"linecolor\":\"white\",\"ticks\":\"\"}},\"ternary\":{\"bgcolor\":\"#E5ECF6\",\"aaxis\":{\"gridcolor\":\"white\",\"linecolor\":\"white\",\"ticks\":\"\"},\"baxis\":{\"gridcolor\":\"white\",\"linecolor\":\"white\",\"ticks\":\"\"},\"caxis\":{\"gridcolor\":\"white\",\"linecolor\":\"white\",\"ticks\":\"\"}},\"coloraxis\":{\"colorbar\":{\"outlinewidth\":0,\"ticks\":\"\"}},\"colorscale\":{\"sequential\":[[0.0,\"#0d0887\"],[0.1111111111111111,\"#46039f\"],[0.2222222222222222,\"#7201a8\"],[0.3333333333333333,\"#9c179e\"],[0.4444444444444444,\"#bd3786\"],[0.5555555555555556,\"#d8576b\"],[0.6666666666666666,\"#ed7953\"],[0.7777777777777778,\"#fb9f3a\"],[0.8888888888888888,\"#fdca26\"],[1.0,\"#f0f921\"]],\"sequentialminus\":[[0.0,\"#0d0887\"],[0.1111111111111111,\"#46039f\"],[0.2222222222222222,\"#7201a8\"],[0.3333333333333333,\"#9c179e\"],[0.4444444444444444,\"#bd3786\"],[0.5555555555555556,\"#d8576b\"],[0.6666666666666666,\"#ed7953\"],[0.7777777777777778,\"#fb9f3a\"],[0.8888888888888888,\"#fdca26\"],[1.0,\"#f0f921\"]],\"diverging\":[[0,\"#8e0152\"],[0.1,\"#c51b7d\"],[0.2,\"#de77ae\"],[0.3,\"#f1b6da\"],[0.4,\"#fde0ef\"],[0.5,\"#f7f7f7\"],[0.6,\"#e6f5d0\"],[0.7,\"#b8e186\"],[0.8,\"#7fbc41\"],[0.9,\"#4d9221\"],[1,\"#276419\"]]},\"xaxis\":{\"gridcolor\":\"white\",\"linecolor\":\"white\",\"ticks\":\"\",\"title\":{\"standoff\":15},\"zerolinecolor\":\"white\",\"automargin\":true,\"zerolinewidth\":2},\"yaxis\":{\"gridcolor\":\"white\",\"linecolor\":\"white\",\"ticks\":\"\",\"title\":{\"standoff\":15},\"zerolinecolor\":\"white\",\"automargin\":true,\"zerolinewidth\":2},\"scene\":{\"xaxis\":{\"backgroundcolor\":\"#E5ECF6\",\"gridcolor\":\"white\",\"linecolor\":\"white\",\"showbackground\":true,\"ticks\":\"\",\"zerolinecolor\":\"white\",\"gridwidth\":2},\"yaxis\":{\"backgroundcolor\":\"#E5ECF6\",\"gridcolor\":\"white\",\"linecolor\":\"white\",\"showbackground\":true,\"ticks\":\"\",\"zerolinecolor\":\"white\",\"gridwidth\":2},\"zaxis\":{\"backgroundcolor\":\"#E5ECF6\",\"gridcolor\":\"white\",\"linecolor\":\"white\",\"showbackground\":true,\"ticks\":\"\",\"zerolinecolor\":\"white\",\"gridwidth\":2}},\"shapedefaults\":{\"line\":{\"color\":\"#2a3f5f\"}},\"annotationdefaults\":{\"arrowcolor\":\"#2a3f5f\",\"arrowhead\":0,\"arrowwidth\":1},\"geo\":{\"bgcolor\":\"white\",\"landcolor\":\"#E5ECF6\",\"subunitcolor\":\"white\",\"showland\":true,\"showlakes\":true,\"lakecolor\":\"white\"},\"title\":{\"x\":0.05},\"mapbox\":{\"style\":\"light\"}}},\"xaxis\":{\"anchor\":\"y\",\"domain\":[0.0,0.31999999999999995],\"title\":{\"text\":\"lifeExp\"}},\"yaxis\":{\"anchor\":\"x\",\"domain\":[0.0,0.46499999999999997],\"title\":{\"text\":\"gdpPercap\"}},\"xaxis2\":{\"anchor\":\"y2\",\"domain\":[0.33999999999999997,0.6599999999999999],\"matches\":\"x\",\"title\":{\"text\":\"lifeExp\"}},\"yaxis2\":{\"anchor\":\"x2\",\"domain\":[0.0,0.46499999999999997],\"matches\":\"y\",\"showticklabels\":false},\"xaxis3\":{\"anchor\":\"y3\",\"domain\":[0.6799999999999999,0.9999999999999999],\"matches\":\"x\",\"title\":{\"text\":\"lifeExp\"}},\"yaxis3\":{\"anchor\":\"x3\",\"domain\":[0.0,0.46499999999999997],\"matches\":\"y\",\"showticklabels\":false},\"xaxis4\":{\"anchor\":\"y4\",\"domain\":[0.0,0.31999999999999995],\"matches\":\"x\",\"showticklabels\":false},\"yaxis4\":{\"anchor\":\"x4\",\"domain\":[0.5349999999999999,0.9999999999999999],\"matches\":\"y\",\"title\":{\"text\":\"gdpPercap\"}},\"xaxis5\":{\"anchor\":\"y5\",\"domain\":[0.33999999999999997,0.6599999999999999],\"matches\":\"x\",\"showticklabels\":false},\"yaxis5\":{\"anchor\":\"x5\",\"domain\":[0.5349999999999999,0.9999999999999999],\"matches\":\"y\",\"showticklabels\":false},\"xaxis6\":{\"anchor\":\"y6\",\"domain\":[0.6799999999999999,0.9999999999999999],\"matches\":\"x\",\"showticklabels\":false},\"yaxis6\":{\"anchor\":\"x6\",\"domain\":[0.5349999999999999,0.9999999999999999],\"matches\":\"y\",\"showticklabels\":false},\"annotations\":[{\"font\":{},\"showarrow\":false,\"text\":\"continent=Americas\",\"x\":0.15999999999999998,\"xanchor\":\"center\",\"xref\":\"paper\",\"y\":0.46499999999999997,\"yanchor\":\"bottom\",\"yref\":\"paper\"},{\"font\":{},\"showarrow\":false,\"text\":\"continent=Oceania\",\"x\":0.49999999999999994,\"xanchor\":\"center\",\"xref\":\"paper\",\"y\":0.46499999999999997,\"yanchor\":\"bottom\",\"yref\":\"paper\"},{\"font\":{},\"showarrow\":false,\"text\":\"continent=Asia\",\"x\":0.15999999999999998,\"xanchor\":\"center\",\"xref\":\"paper\",\"y\":0.9999999999999999,\"yanchor\":\"bottom\",\"yref\":\"paper\"},{\"font\":{},\"showarrow\":false,\"text\":\"continent=Europe\",\"x\":0.49999999999999994,\"xanchor\":\"center\",\"xref\":\"paper\",\"y\":0.9999999999999999,\"yanchor\":\"bottom\",\"yref\":\"paper\"},{\"font\":{},\"showarrow\":false,\"text\":\"continent=Africa\",\"x\":0.8399999999999999,\"xanchor\":\"center\",\"xref\":\"paper\",\"y\":0.9999999999999999,\"yanchor\":\"bottom\",\"yref\":\"paper\"}],\"legend\":{\"title\":{\"text\":\"country\"},\"tracegroupgap\":0},\"margin\":{\"t\":60}},                        {\"responsive\": true}                    ).then(function(){\n",
       "                            \n",
       "var gd = document.getElementById('5c3a5e84-be71-48a5-9174-35117f6cd098');\n",
       "var x = new MutationObserver(function (mutations, observer) {{\n",
       "        var display = window.getComputedStyle(gd).display;\n",
       "        if (!display || display === 'none') {{\n",
       "            console.log([gd, 'removed!']);\n",
       "            Plotly.purge(gd);\n",
       "            observer.disconnect();\n",
       "        }}\n",
       "}});\n",
       "\n",
       "// Listen for the removal of the full notebook cells\n",
       "var notebookContainer = gd.closest('#notebook-container');\n",
       "if (notebookContainer) {{\n",
       "    x.observe(notebookContainer, {childList: true});\n",
       "}}\n",
       "\n",
       "// Listen for the clearing of the current output cell\n",
       "var outputEl = gd.closest('.output');\n",
       "if (outputEl) {{\n",
       "    x.observe(outputEl, {childList: true});\n",
       "}}\n",
       "\n",
       "                        })                };                });            </script>        </div>"
      ]
     },
     "metadata": {},
     "output_type": "display_data"
    }
   ],
   "source": [
    "fig = px.scatter(data, \n",
    "                x = 'lifeExp', \n",
    "                y = 'gdpPercap', \n",
    "                color = 'country', \n",
    "                facet_col = 'continent', \n",
    "                facet_col_wrap = 3)\n",
    "fig.show()"
   ]
  },
  {
   "cell_type": "code",
   "execution_count": 20,
   "id": "8381285a",
   "metadata": {},
   "outputs": [
    {
     "data": {
      "text/html": [
       "<div>\n",
       "<style scoped>\n",
       "    .dataframe tbody tr th:only-of-type {\n",
       "        vertical-align: middle;\n",
       "    }\n",
       "\n",
       "    .dataframe tbody tr th {\n",
       "        vertical-align: top;\n",
       "    }\n",
       "\n",
       "    .dataframe thead th {\n",
       "        text-align: right;\n",
       "    }\n",
       "</style>\n",
       "<table border=\"1\" class=\"dataframe\">\n",
       "  <thead>\n",
       "    <tr style=\"text-align: right;\">\n",
       "      <th></th>\n",
       "      <th>country</th>\n",
       "      <th>continent</th>\n",
       "      <th>year</th>\n",
       "      <th>lifeExp</th>\n",
       "      <th>pop</th>\n",
       "      <th>gdpPercap</th>\n",
       "      <th>iso_alpha</th>\n",
       "      <th>iso_num</th>\n",
       "    </tr>\n",
       "  </thead>\n",
       "  <tbody>\n",
       "    <tr>\n",
       "      <th>60</th>\n",
       "      <td>Australia</td>\n",
       "      <td>Oceania</td>\n",
       "      <td>1952</td>\n",
       "      <td>69.120</td>\n",
       "      <td>8691212</td>\n",
       "      <td>10039.59564</td>\n",
       "      <td>AUS</td>\n",
       "      <td>36</td>\n",
       "    </tr>\n",
       "    <tr>\n",
       "      <th>61</th>\n",
       "      <td>Australia</td>\n",
       "      <td>Oceania</td>\n",
       "      <td>1957</td>\n",
       "      <td>70.330</td>\n",
       "      <td>9712569</td>\n",
       "      <td>10949.64959</td>\n",
       "      <td>AUS</td>\n",
       "      <td>36</td>\n",
       "    </tr>\n",
       "    <tr>\n",
       "      <th>62</th>\n",
       "      <td>Australia</td>\n",
       "      <td>Oceania</td>\n",
       "      <td>1962</td>\n",
       "      <td>70.930</td>\n",
       "      <td>10794968</td>\n",
       "      <td>12217.22686</td>\n",
       "      <td>AUS</td>\n",
       "      <td>36</td>\n",
       "    </tr>\n",
       "    <tr>\n",
       "      <th>63</th>\n",
       "      <td>Australia</td>\n",
       "      <td>Oceania</td>\n",
       "      <td>1967</td>\n",
       "      <td>71.100</td>\n",
       "      <td>11872264</td>\n",
       "      <td>14526.12465</td>\n",
       "      <td>AUS</td>\n",
       "      <td>36</td>\n",
       "    </tr>\n",
       "    <tr>\n",
       "      <th>64</th>\n",
       "      <td>Australia</td>\n",
       "      <td>Oceania</td>\n",
       "      <td>1972</td>\n",
       "      <td>71.930</td>\n",
       "      <td>13177000</td>\n",
       "      <td>16788.62948</td>\n",
       "      <td>AUS</td>\n",
       "      <td>36</td>\n",
       "    </tr>\n",
       "    <tr>\n",
       "      <th>65</th>\n",
       "      <td>Australia</td>\n",
       "      <td>Oceania</td>\n",
       "      <td>1977</td>\n",
       "      <td>73.490</td>\n",
       "      <td>14074100</td>\n",
       "      <td>18334.19751</td>\n",
       "      <td>AUS</td>\n",
       "      <td>36</td>\n",
       "    </tr>\n",
       "    <tr>\n",
       "      <th>66</th>\n",
       "      <td>Australia</td>\n",
       "      <td>Oceania</td>\n",
       "      <td>1982</td>\n",
       "      <td>74.740</td>\n",
       "      <td>15184200</td>\n",
       "      <td>19477.00928</td>\n",
       "      <td>AUS</td>\n",
       "      <td>36</td>\n",
       "    </tr>\n",
       "    <tr>\n",
       "      <th>67</th>\n",
       "      <td>Australia</td>\n",
       "      <td>Oceania</td>\n",
       "      <td>1987</td>\n",
       "      <td>76.320</td>\n",
       "      <td>16257249</td>\n",
       "      <td>21888.88903</td>\n",
       "      <td>AUS</td>\n",
       "      <td>36</td>\n",
       "    </tr>\n",
       "    <tr>\n",
       "      <th>68</th>\n",
       "      <td>Australia</td>\n",
       "      <td>Oceania</td>\n",
       "      <td>1992</td>\n",
       "      <td>77.560</td>\n",
       "      <td>17481977</td>\n",
       "      <td>23424.76683</td>\n",
       "      <td>AUS</td>\n",
       "      <td>36</td>\n",
       "    </tr>\n",
       "    <tr>\n",
       "      <th>69</th>\n",
       "      <td>Australia</td>\n",
       "      <td>Oceania</td>\n",
       "      <td>1997</td>\n",
       "      <td>78.830</td>\n",
       "      <td>18565243</td>\n",
       "      <td>26997.93657</td>\n",
       "      <td>AUS</td>\n",
       "      <td>36</td>\n",
       "    </tr>\n",
       "    <tr>\n",
       "      <th>70</th>\n",
       "      <td>Australia</td>\n",
       "      <td>Oceania</td>\n",
       "      <td>2002</td>\n",
       "      <td>80.370</td>\n",
       "      <td>19546792</td>\n",
       "      <td>30687.75473</td>\n",
       "      <td>AUS</td>\n",
       "      <td>36</td>\n",
       "    </tr>\n",
       "    <tr>\n",
       "      <th>71</th>\n",
       "      <td>Australia</td>\n",
       "      <td>Oceania</td>\n",
       "      <td>2007</td>\n",
       "      <td>81.235</td>\n",
       "      <td>20434176</td>\n",
       "      <td>34435.36744</td>\n",
       "      <td>AUS</td>\n",
       "      <td>36</td>\n",
       "    </tr>\n",
       "    <tr>\n",
       "      <th>1092</th>\n",
       "      <td>New Zealand</td>\n",
       "      <td>Oceania</td>\n",
       "      <td>1952</td>\n",
       "      <td>69.390</td>\n",
       "      <td>1994794</td>\n",
       "      <td>10556.57566</td>\n",
       "      <td>NZL</td>\n",
       "      <td>554</td>\n",
       "    </tr>\n",
       "    <tr>\n",
       "      <th>1093</th>\n",
       "      <td>New Zealand</td>\n",
       "      <td>Oceania</td>\n",
       "      <td>1957</td>\n",
       "      <td>70.260</td>\n",
       "      <td>2229407</td>\n",
       "      <td>12247.39532</td>\n",
       "      <td>NZL</td>\n",
       "      <td>554</td>\n",
       "    </tr>\n",
       "    <tr>\n",
       "      <th>1094</th>\n",
       "      <td>New Zealand</td>\n",
       "      <td>Oceania</td>\n",
       "      <td>1962</td>\n",
       "      <td>71.240</td>\n",
       "      <td>2488550</td>\n",
       "      <td>13175.67800</td>\n",
       "      <td>NZL</td>\n",
       "      <td>554</td>\n",
       "    </tr>\n",
       "    <tr>\n",
       "      <th>1095</th>\n",
       "      <td>New Zealand</td>\n",
       "      <td>Oceania</td>\n",
       "      <td>1967</td>\n",
       "      <td>71.520</td>\n",
       "      <td>2728150</td>\n",
       "      <td>14463.91893</td>\n",
       "      <td>NZL</td>\n",
       "      <td>554</td>\n",
       "    </tr>\n",
       "    <tr>\n",
       "      <th>1096</th>\n",
       "      <td>New Zealand</td>\n",
       "      <td>Oceania</td>\n",
       "      <td>1972</td>\n",
       "      <td>71.890</td>\n",
       "      <td>2929100</td>\n",
       "      <td>16046.03728</td>\n",
       "      <td>NZL</td>\n",
       "      <td>554</td>\n",
       "    </tr>\n",
       "    <tr>\n",
       "      <th>1097</th>\n",
       "      <td>New Zealand</td>\n",
       "      <td>Oceania</td>\n",
       "      <td>1977</td>\n",
       "      <td>72.220</td>\n",
       "      <td>3164900</td>\n",
       "      <td>16233.71770</td>\n",
       "      <td>NZL</td>\n",
       "      <td>554</td>\n",
       "    </tr>\n",
       "    <tr>\n",
       "      <th>1098</th>\n",
       "      <td>New Zealand</td>\n",
       "      <td>Oceania</td>\n",
       "      <td>1982</td>\n",
       "      <td>73.840</td>\n",
       "      <td>3210650</td>\n",
       "      <td>17632.41040</td>\n",
       "      <td>NZL</td>\n",
       "      <td>554</td>\n",
       "    </tr>\n",
       "    <tr>\n",
       "      <th>1099</th>\n",
       "      <td>New Zealand</td>\n",
       "      <td>Oceania</td>\n",
       "      <td>1987</td>\n",
       "      <td>74.320</td>\n",
       "      <td>3317166</td>\n",
       "      <td>19007.19129</td>\n",
       "      <td>NZL</td>\n",
       "      <td>554</td>\n",
       "    </tr>\n",
       "    <tr>\n",
       "      <th>1100</th>\n",
       "      <td>New Zealand</td>\n",
       "      <td>Oceania</td>\n",
       "      <td>1992</td>\n",
       "      <td>76.330</td>\n",
       "      <td>3437674</td>\n",
       "      <td>18363.32494</td>\n",
       "      <td>NZL</td>\n",
       "      <td>554</td>\n",
       "    </tr>\n",
       "    <tr>\n",
       "      <th>1101</th>\n",
       "      <td>New Zealand</td>\n",
       "      <td>Oceania</td>\n",
       "      <td>1997</td>\n",
       "      <td>77.550</td>\n",
       "      <td>3676187</td>\n",
       "      <td>21050.41377</td>\n",
       "      <td>NZL</td>\n",
       "      <td>554</td>\n",
       "    </tr>\n",
       "    <tr>\n",
       "      <th>1102</th>\n",
       "      <td>New Zealand</td>\n",
       "      <td>Oceania</td>\n",
       "      <td>2002</td>\n",
       "      <td>79.110</td>\n",
       "      <td>3908037</td>\n",
       "      <td>23189.80135</td>\n",
       "      <td>NZL</td>\n",
       "      <td>554</td>\n",
       "    </tr>\n",
       "    <tr>\n",
       "      <th>1103</th>\n",
       "      <td>New Zealand</td>\n",
       "      <td>Oceania</td>\n",
       "      <td>2007</td>\n",
       "      <td>80.204</td>\n",
       "      <td>4115771</td>\n",
       "      <td>25185.00911</td>\n",
       "      <td>NZL</td>\n",
       "      <td>554</td>\n",
       "    </tr>\n",
       "  </tbody>\n",
       "</table>\n",
       "</div>"
      ],
      "text/plain": [
       "          country continent  year  lifeExp       pop    gdpPercap iso_alpha  \\\n",
       "60      Australia   Oceania  1952   69.120   8691212  10039.59564       AUS   \n",
       "61      Australia   Oceania  1957   70.330   9712569  10949.64959       AUS   \n",
       "62      Australia   Oceania  1962   70.930  10794968  12217.22686       AUS   \n",
       "63      Australia   Oceania  1967   71.100  11872264  14526.12465       AUS   \n",
       "64      Australia   Oceania  1972   71.930  13177000  16788.62948       AUS   \n",
       "65      Australia   Oceania  1977   73.490  14074100  18334.19751       AUS   \n",
       "66      Australia   Oceania  1982   74.740  15184200  19477.00928       AUS   \n",
       "67      Australia   Oceania  1987   76.320  16257249  21888.88903       AUS   \n",
       "68      Australia   Oceania  1992   77.560  17481977  23424.76683       AUS   \n",
       "69      Australia   Oceania  1997   78.830  18565243  26997.93657       AUS   \n",
       "70      Australia   Oceania  2002   80.370  19546792  30687.75473       AUS   \n",
       "71      Australia   Oceania  2007   81.235  20434176  34435.36744       AUS   \n",
       "1092  New Zealand   Oceania  1952   69.390   1994794  10556.57566       NZL   \n",
       "1093  New Zealand   Oceania  1957   70.260   2229407  12247.39532       NZL   \n",
       "1094  New Zealand   Oceania  1962   71.240   2488550  13175.67800       NZL   \n",
       "1095  New Zealand   Oceania  1967   71.520   2728150  14463.91893       NZL   \n",
       "1096  New Zealand   Oceania  1972   71.890   2929100  16046.03728       NZL   \n",
       "1097  New Zealand   Oceania  1977   72.220   3164900  16233.71770       NZL   \n",
       "1098  New Zealand   Oceania  1982   73.840   3210650  17632.41040       NZL   \n",
       "1099  New Zealand   Oceania  1987   74.320   3317166  19007.19129       NZL   \n",
       "1100  New Zealand   Oceania  1992   76.330   3437674  18363.32494       NZL   \n",
       "1101  New Zealand   Oceania  1997   77.550   3676187  21050.41377       NZL   \n",
       "1102  New Zealand   Oceania  2002   79.110   3908037  23189.80135       NZL   \n",
       "1103  New Zealand   Oceania  2007   80.204   4115771  25185.00911       NZL   \n",
       "\n",
       "      iso_num  \n",
       "60         36  \n",
       "61         36  \n",
       "62         36  \n",
       "63         36  \n",
       "64         36  \n",
       "65         36  \n",
       "66         36  \n",
       "67         36  \n",
       "68         36  \n",
       "69         36  \n",
       "70         36  \n",
       "71         36  \n",
       "1092      554  \n",
       "1093      554  \n",
       "1094      554  \n",
       "1095      554  \n",
       "1096      554  \n",
       "1097      554  \n",
       "1098      554  \n",
       "1099      554  \n",
       "1100      554  \n",
       "1101      554  \n",
       "1102      554  \n",
       "1103      554  "
      ]
     },
     "execution_count": 20,
     "metadata": {},
     "output_type": "execute_result"
    }
   ],
   "source": [
    "import plotly.graph_objects as go\n",
    "from plotly.subplots import make_subplots\n",
    "\n",
    "data = px.data.gapminder()\n",
    "data = data[data['continent'] == 'Oceania']\n",
    "data"
   ]
  },
  {
   "cell_type": "code",
   "execution_count": 37,
   "id": "86413307",
   "metadata": {},
   "outputs": [
    {
     "data": {
      "application/vnd.plotly.v1+json": {
       "config": {
        "plotlyServerURL": "https://plot.ly"
       },
       "data": [
        {
         "type": "bar",
         "x": [
          "New Zealand"
         ],
         "xaxis": "x",
         "y": [
          4115771
         ],
         "yaxis": "y"
        },
        {
         "type": "bar",
         "x": [
          "Australia"
         ],
         "xaxis": "x2",
         "y": [
          20434176
         ],
         "yaxis": "y2"
        },
        {
         "mode": "lines",
         "name": "lines",
         "type": "scatter",
         "x": [
          1952,
          1957,
          1962,
          1967,
          1972,
          1977,
          1982,
          1987,
          1992,
          1997,
          2002,
          2007
         ],
         "xaxis": "x",
         "y": [
          1994794,
          2229407,
          2488550,
          2728150,
          2929100,
          3164900,
          3210650,
          3317166,
          3437674,
          3676187,
          3908037,
          4115771
         ],
         "yaxis": "y"
        },
        {
         "mode": "lines",
         "name": "lines",
         "type": "scatter",
         "x": [
          1952,
          1957,
          1962,
          1967,
          1972,
          1977,
          1982,
          1987,
          1992,
          1997,
          2002,
          2007
         ],
         "xaxis": "x2",
         "y": [
          8691212,
          9712569,
          10794968,
          11872264,
          13177000,
          14074100,
          15184200,
          16257249,
          17481977,
          18565243,
          19546792,
          20434176
         ],
         "yaxis": "y2"
        }
       ],
       "layout": {
        "template": {
         "data": {
          "bar": [
           {
            "error_x": {
             "color": "#2a3f5f"
            },
            "error_y": {
             "color": "#2a3f5f"
            },
            "marker": {
             "line": {
              "color": "#E5ECF6",
              "width": 0.5
             },
             "pattern": {
              "fillmode": "overlay",
              "size": 10,
              "solidity": 0.2
             }
            },
            "type": "bar"
           }
          ],
          "barpolar": [
           {
            "marker": {
             "line": {
              "color": "#E5ECF6",
              "width": 0.5
             },
             "pattern": {
              "fillmode": "overlay",
              "size": 10,
              "solidity": 0.2
             }
            },
            "type": "barpolar"
           }
          ],
          "carpet": [
           {
            "aaxis": {
             "endlinecolor": "#2a3f5f",
             "gridcolor": "white",
             "linecolor": "white",
             "minorgridcolor": "white",
             "startlinecolor": "#2a3f5f"
            },
            "baxis": {
             "endlinecolor": "#2a3f5f",
             "gridcolor": "white",
             "linecolor": "white",
             "minorgridcolor": "white",
             "startlinecolor": "#2a3f5f"
            },
            "type": "carpet"
           }
          ],
          "choropleth": [
           {
            "colorbar": {
             "outlinewidth": 0,
             "ticks": ""
            },
            "type": "choropleth"
           }
          ],
          "contour": [
           {
            "colorbar": {
             "outlinewidth": 0,
             "ticks": ""
            },
            "colorscale": [
             [
              0,
              "#0d0887"
             ],
             [
              0.1111111111111111,
              "#46039f"
             ],
             [
              0.2222222222222222,
              "#7201a8"
             ],
             [
              0.3333333333333333,
              "#9c179e"
             ],
             [
              0.4444444444444444,
              "#bd3786"
             ],
             [
              0.5555555555555556,
              "#d8576b"
             ],
             [
              0.6666666666666666,
              "#ed7953"
             ],
             [
              0.7777777777777778,
              "#fb9f3a"
             ],
             [
              0.8888888888888888,
              "#fdca26"
             ],
             [
              1,
              "#f0f921"
             ]
            ],
            "type": "contour"
           }
          ],
          "contourcarpet": [
           {
            "colorbar": {
             "outlinewidth": 0,
             "ticks": ""
            },
            "type": "contourcarpet"
           }
          ],
          "heatmap": [
           {
            "colorbar": {
             "outlinewidth": 0,
             "ticks": ""
            },
            "colorscale": [
             [
              0,
              "#0d0887"
             ],
             [
              0.1111111111111111,
              "#46039f"
             ],
             [
              0.2222222222222222,
              "#7201a8"
             ],
             [
              0.3333333333333333,
              "#9c179e"
             ],
             [
              0.4444444444444444,
              "#bd3786"
             ],
             [
              0.5555555555555556,
              "#d8576b"
             ],
             [
              0.6666666666666666,
              "#ed7953"
             ],
             [
              0.7777777777777778,
              "#fb9f3a"
             ],
             [
              0.8888888888888888,
              "#fdca26"
             ],
             [
              1,
              "#f0f921"
             ]
            ],
            "type": "heatmap"
           }
          ],
          "heatmapgl": [
           {
            "colorbar": {
             "outlinewidth": 0,
             "ticks": ""
            },
            "colorscale": [
             [
              0,
              "#0d0887"
             ],
             [
              0.1111111111111111,
              "#46039f"
             ],
             [
              0.2222222222222222,
              "#7201a8"
             ],
             [
              0.3333333333333333,
              "#9c179e"
             ],
             [
              0.4444444444444444,
              "#bd3786"
             ],
             [
              0.5555555555555556,
              "#d8576b"
             ],
             [
              0.6666666666666666,
              "#ed7953"
             ],
             [
              0.7777777777777778,
              "#fb9f3a"
             ],
             [
              0.8888888888888888,
              "#fdca26"
             ],
             [
              1,
              "#f0f921"
             ]
            ],
            "type": "heatmapgl"
           }
          ],
          "histogram": [
           {
            "marker": {
             "pattern": {
              "fillmode": "overlay",
              "size": 10,
              "solidity": 0.2
             }
            },
            "type": "histogram"
           }
          ],
          "histogram2d": [
           {
            "colorbar": {
             "outlinewidth": 0,
             "ticks": ""
            },
            "colorscale": [
             [
              0,
              "#0d0887"
             ],
             [
              0.1111111111111111,
              "#46039f"
             ],
             [
              0.2222222222222222,
              "#7201a8"
             ],
             [
              0.3333333333333333,
              "#9c179e"
             ],
             [
              0.4444444444444444,
              "#bd3786"
             ],
             [
              0.5555555555555556,
              "#d8576b"
             ],
             [
              0.6666666666666666,
              "#ed7953"
             ],
             [
              0.7777777777777778,
              "#fb9f3a"
             ],
             [
              0.8888888888888888,
              "#fdca26"
             ],
             [
              1,
              "#f0f921"
             ]
            ],
            "type": "histogram2d"
           }
          ],
          "histogram2dcontour": [
           {
            "colorbar": {
             "outlinewidth": 0,
             "ticks": ""
            },
            "colorscale": [
             [
              0,
              "#0d0887"
             ],
             [
              0.1111111111111111,
              "#46039f"
             ],
             [
              0.2222222222222222,
              "#7201a8"
             ],
             [
              0.3333333333333333,
              "#9c179e"
             ],
             [
              0.4444444444444444,
              "#bd3786"
             ],
             [
              0.5555555555555556,
              "#d8576b"
             ],
             [
              0.6666666666666666,
              "#ed7953"
             ],
             [
              0.7777777777777778,
              "#fb9f3a"
             ],
             [
              0.8888888888888888,
              "#fdca26"
             ],
             [
              1,
              "#f0f921"
             ]
            ],
            "type": "histogram2dcontour"
           }
          ],
          "mesh3d": [
           {
            "colorbar": {
             "outlinewidth": 0,
             "ticks": ""
            },
            "type": "mesh3d"
           }
          ],
          "parcoords": [
           {
            "line": {
             "colorbar": {
              "outlinewidth": 0,
              "ticks": ""
             }
            },
            "type": "parcoords"
           }
          ],
          "pie": [
           {
            "automargin": true,
            "type": "pie"
           }
          ],
          "scatter": [
           {
            "fillpattern": {
             "fillmode": "overlay",
             "size": 10,
             "solidity": 0.2
            },
            "type": "scatter"
           }
          ],
          "scatter3d": [
           {
            "line": {
             "colorbar": {
              "outlinewidth": 0,
              "ticks": ""
             }
            },
            "marker": {
             "colorbar": {
              "outlinewidth": 0,
              "ticks": ""
             }
            },
            "type": "scatter3d"
           }
          ],
          "scattercarpet": [
           {
            "marker": {
             "colorbar": {
              "outlinewidth": 0,
              "ticks": ""
             }
            },
            "type": "scattercarpet"
           }
          ],
          "scattergeo": [
           {
            "marker": {
             "colorbar": {
              "outlinewidth": 0,
              "ticks": ""
             }
            },
            "type": "scattergeo"
           }
          ],
          "scattergl": [
           {
            "marker": {
             "colorbar": {
              "outlinewidth": 0,
              "ticks": ""
             }
            },
            "type": "scattergl"
           }
          ],
          "scattermapbox": [
           {
            "marker": {
             "colorbar": {
              "outlinewidth": 0,
              "ticks": ""
             }
            },
            "type": "scattermapbox"
           }
          ],
          "scatterpolar": [
           {
            "marker": {
             "colorbar": {
              "outlinewidth": 0,
              "ticks": ""
             }
            },
            "type": "scatterpolar"
           }
          ],
          "scatterpolargl": [
           {
            "marker": {
             "colorbar": {
              "outlinewidth": 0,
              "ticks": ""
             }
            },
            "type": "scatterpolargl"
           }
          ],
          "scatterternary": [
           {
            "marker": {
             "colorbar": {
              "outlinewidth": 0,
              "ticks": ""
             }
            },
            "type": "scatterternary"
           }
          ],
          "surface": [
           {
            "colorbar": {
             "outlinewidth": 0,
             "ticks": ""
            },
            "colorscale": [
             [
              0,
              "#0d0887"
             ],
             [
              0.1111111111111111,
              "#46039f"
             ],
             [
              0.2222222222222222,
              "#7201a8"
             ],
             [
              0.3333333333333333,
              "#9c179e"
             ],
             [
              0.4444444444444444,
              "#bd3786"
             ],
             [
              0.5555555555555556,
              "#d8576b"
             ],
             [
              0.6666666666666666,
              "#ed7953"
             ],
             [
              0.7777777777777778,
              "#fb9f3a"
             ],
             [
              0.8888888888888888,
              "#fdca26"
             ],
             [
              1,
              "#f0f921"
             ]
            ],
            "type": "surface"
           }
          ],
          "table": [
           {
            "cells": {
             "fill": {
              "color": "#EBF0F8"
             },
             "line": {
              "color": "white"
             }
            },
            "header": {
             "fill": {
              "color": "#C8D4E3"
             },
             "line": {
              "color": "white"
             }
            },
            "type": "table"
           }
          ]
         },
         "layout": {
          "annotationdefaults": {
           "arrowcolor": "#2a3f5f",
           "arrowhead": 0,
           "arrowwidth": 1
          },
          "autotypenumbers": "strict",
          "coloraxis": {
           "colorbar": {
            "outlinewidth": 0,
            "ticks": ""
           }
          },
          "colorscale": {
           "diverging": [
            [
             0,
             "#8e0152"
            ],
            [
             0.1,
             "#c51b7d"
            ],
            [
             0.2,
             "#de77ae"
            ],
            [
             0.3,
             "#f1b6da"
            ],
            [
             0.4,
             "#fde0ef"
            ],
            [
             0.5,
             "#f7f7f7"
            ],
            [
             0.6,
             "#e6f5d0"
            ],
            [
             0.7,
             "#b8e186"
            ],
            [
             0.8,
             "#7fbc41"
            ],
            [
             0.9,
             "#4d9221"
            ],
            [
             1,
             "#276419"
            ]
           ],
           "sequential": [
            [
             0,
             "#0d0887"
            ],
            [
             0.1111111111111111,
             "#46039f"
            ],
            [
             0.2222222222222222,
             "#7201a8"
            ],
            [
             0.3333333333333333,
             "#9c179e"
            ],
            [
             0.4444444444444444,
             "#bd3786"
            ],
            [
             0.5555555555555556,
             "#d8576b"
            ],
            [
             0.6666666666666666,
             "#ed7953"
            ],
            [
             0.7777777777777778,
             "#fb9f3a"
            ],
            [
             0.8888888888888888,
             "#fdca26"
            ],
            [
             1,
             "#f0f921"
            ]
           ],
           "sequentialminus": [
            [
             0,
             "#0d0887"
            ],
            [
             0.1111111111111111,
             "#46039f"
            ],
            [
             0.2222222222222222,
             "#7201a8"
            ],
            [
             0.3333333333333333,
             "#9c179e"
            ],
            [
             0.4444444444444444,
             "#bd3786"
            ],
            [
             0.5555555555555556,
             "#d8576b"
            ],
            [
             0.6666666666666666,
             "#ed7953"
            ],
            [
             0.7777777777777778,
             "#fb9f3a"
            ],
            [
             0.8888888888888888,
             "#fdca26"
            ],
            [
             1,
             "#f0f921"
            ]
           ]
          },
          "colorway": [
           "#636efa",
           "#EF553B",
           "#00cc96",
           "#ab63fa",
           "#FFA15A",
           "#19d3f3",
           "#FF6692",
           "#B6E880",
           "#FF97FF",
           "#FECB52"
          ],
          "font": {
           "color": "#2a3f5f"
          },
          "geo": {
           "bgcolor": "white",
           "lakecolor": "white",
           "landcolor": "#E5ECF6",
           "showlakes": true,
           "showland": true,
           "subunitcolor": "white"
          },
          "hoverlabel": {
           "align": "left"
          },
          "hovermode": "closest",
          "mapbox": {
           "style": "light"
          },
          "paper_bgcolor": "white",
          "plot_bgcolor": "#E5ECF6",
          "polar": {
           "angularaxis": {
            "gridcolor": "white",
            "linecolor": "white",
            "ticks": ""
           },
           "bgcolor": "#E5ECF6",
           "radialaxis": {
            "gridcolor": "white",
            "linecolor": "white",
            "ticks": ""
           }
          },
          "scene": {
           "xaxis": {
            "backgroundcolor": "#E5ECF6",
            "gridcolor": "white",
            "gridwidth": 2,
            "linecolor": "white",
            "showbackground": true,
            "ticks": "",
            "zerolinecolor": "white"
           },
           "yaxis": {
            "backgroundcolor": "#E5ECF6",
            "gridcolor": "white",
            "gridwidth": 2,
            "linecolor": "white",
            "showbackground": true,
            "ticks": "",
            "zerolinecolor": "white"
           },
           "zaxis": {
            "backgroundcolor": "#E5ECF6",
            "gridcolor": "white",
            "gridwidth": 2,
            "linecolor": "white",
            "showbackground": true,
            "ticks": "",
            "zerolinecolor": "white"
           }
          },
          "shapedefaults": {
           "line": {
            "color": "#2a3f5f"
           }
          },
          "ternary": {
           "aaxis": {
            "gridcolor": "white",
            "linecolor": "white",
            "ticks": ""
           },
           "baxis": {
            "gridcolor": "white",
            "linecolor": "white",
            "ticks": ""
           },
           "bgcolor": "#E5ECF6",
           "caxis": {
            "gridcolor": "white",
            "linecolor": "white",
            "ticks": ""
           }
          },
          "title": {
           "x": 0.05
          },
          "xaxis": {
           "automargin": true,
           "gridcolor": "white",
           "linecolor": "white",
           "ticks": "",
           "title": {
            "standoff": 15
           },
           "zerolinecolor": "white",
           "zerolinewidth": 2
          },
          "yaxis": {
           "automargin": true,
           "gridcolor": "white",
           "linecolor": "white",
           "ticks": "",
           "title": {
            "standoff": 15
           },
           "zerolinecolor": "white",
           "zerolinewidth": 2
          }
         }
        },
        "title": {
         "text": "Population of Oceania"
        },
        "xaxis": {
         "anchor": "y",
         "domain": [
          0,
          0.45
         ]
        },
        "xaxis2": {
         "anchor": "y2",
         "domain": [
          0.55,
          1
         ]
        },
        "yaxis": {
         "anchor": "x",
         "domain": [
          0,
          1
         ]
        },
        "yaxis2": {
         "anchor": "x2",
         "domain": [
          0,
          1
         ]
        }
       }
      },
      "text/html": [
       "<div>                            <div id=\"f3170e0e-3ab9-4eeb-a4e4-108a74a33543\" class=\"plotly-graph-div\" style=\"height:525px; width:100%;\"></div>            <script type=\"text/javascript\">                require([\"plotly\"], function(Plotly) {                    window.PLOTLYENV=window.PLOTLYENV || {};                                    if (document.getElementById(\"f3170e0e-3ab9-4eeb-a4e4-108a74a33543\")) {                    Plotly.newPlot(                        \"f3170e0e-3ab9-4eeb-a4e4-108a74a33543\",                        [{\"x\":[\"New Zealand\"],\"y\":[4115771],\"type\":\"bar\",\"xaxis\":\"x\",\"yaxis\":\"y\"},{\"x\":[\"Australia\"],\"y\":[20434176],\"type\":\"bar\",\"xaxis\":\"x2\",\"yaxis\":\"y2\"},{\"mode\":\"lines\",\"name\":\"lines\",\"x\":[1952,1957,1962,1967,1972,1977,1982,1987,1992,1997,2002,2007],\"y\":[1994794,2229407,2488550,2728150,2929100,3164900,3210650,3317166,3437674,3676187,3908037,4115771],\"type\":\"scatter\",\"xaxis\":\"x\",\"yaxis\":\"y\"},{\"mode\":\"lines\",\"name\":\"lines\",\"x\":[1952,1957,1962,1967,1972,1977,1982,1987,1992,1997,2002,2007],\"y\":[8691212,9712569,10794968,11872264,13177000,14074100,15184200,16257249,17481977,18565243,19546792,20434176],\"type\":\"scatter\",\"xaxis\":\"x2\",\"yaxis\":\"y2\"}],                        {\"template\":{\"data\":{\"histogram2dcontour\":[{\"type\":\"histogram2dcontour\",\"colorbar\":{\"outlinewidth\":0,\"ticks\":\"\"},\"colorscale\":[[0.0,\"#0d0887\"],[0.1111111111111111,\"#46039f\"],[0.2222222222222222,\"#7201a8\"],[0.3333333333333333,\"#9c179e\"],[0.4444444444444444,\"#bd3786\"],[0.5555555555555556,\"#d8576b\"],[0.6666666666666666,\"#ed7953\"],[0.7777777777777778,\"#fb9f3a\"],[0.8888888888888888,\"#fdca26\"],[1.0,\"#f0f921\"]]}],\"choropleth\":[{\"type\":\"choropleth\",\"colorbar\":{\"outlinewidth\":0,\"ticks\":\"\"}}],\"histogram2d\":[{\"type\":\"histogram2d\",\"colorbar\":{\"outlinewidth\":0,\"ticks\":\"\"},\"colorscale\":[[0.0,\"#0d0887\"],[0.1111111111111111,\"#46039f\"],[0.2222222222222222,\"#7201a8\"],[0.3333333333333333,\"#9c179e\"],[0.4444444444444444,\"#bd3786\"],[0.5555555555555556,\"#d8576b\"],[0.6666666666666666,\"#ed7953\"],[0.7777777777777778,\"#fb9f3a\"],[0.8888888888888888,\"#fdca26\"],[1.0,\"#f0f921\"]]}],\"heatmap\":[{\"type\":\"heatmap\",\"colorbar\":{\"outlinewidth\":0,\"ticks\":\"\"},\"colorscale\":[[0.0,\"#0d0887\"],[0.1111111111111111,\"#46039f\"],[0.2222222222222222,\"#7201a8\"],[0.3333333333333333,\"#9c179e\"],[0.4444444444444444,\"#bd3786\"],[0.5555555555555556,\"#d8576b\"],[0.6666666666666666,\"#ed7953\"],[0.7777777777777778,\"#fb9f3a\"],[0.8888888888888888,\"#fdca26\"],[1.0,\"#f0f921\"]]}],\"heatmapgl\":[{\"type\":\"heatmapgl\",\"colorbar\":{\"outlinewidth\":0,\"ticks\":\"\"},\"colorscale\":[[0.0,\"#0d0887\"],[0.1111111111111111,\"#46039f\"],[0.2222222222222222,\"#7201a8\"],[0.3333333333333333,\"#9c179e\"],[0.4444444444444444,\"#bd3786\"],[0.5555555555555556,\"#d8576b\"],[0.6666666666666666,\"#ed7953\"],[0.7777777777777778,\"#fb9f3a\"],[0.8888888888888888,\"#fdca26\"],[1.0,\"#f0f921\"]]}],\"contourcarpet\":[{\"type\":\"contourcarpet\",\"colorbar\":{\"outlinewidth\":0,\"ticks\":\"\"}}],\"contour\":[{\"type\":\"contour\",\"colorbar\":{\"outlinewidth\":0,\"ticks\":\"\"},\"colorscale\":[[0.0,\"#0d0887\"],[0.1111111111111111,\"#46039f\"],[0.2222222222222222,\"#7201a8\"],[0.3333333333333333,\"#9c179e\"],[0.4444444444444444,\"#bd3786\"],[0.5555555555555556,\"#d8576b\"],[0.6666666666666666,\"#ed7953\"],[0.7777777777777778,\"#fb9f3a\"],[0.8888888888888888,\"#fdca26\"],[1.0,\"#f0f921\"]]}],\"surface\":[{\"type\":\"surface\",\"colorbar\":{\"outlinewidth\":0,\"ticks\":\"\"},\"colorscale\":[[0.0,\"#0d0887\"],[0.1111111111111111,\"#46039f\"],[0.2222222222222222,\"#7201a8\"],[0.3333333333333333,\"#9c179e\"],[0.4444444444444444,\"#bd3786\"],[0.5555555555555556,\"#d8576b\"],[0.6666666666666666,\"#ed7953\"],[0.7777777777777778,\"#fb9f3a\"],[0.8888888888888888,\"#fdca26\"],[1.0,\"#f0f921\"]]}],\"mesh3d\":[{\"type\":\"mesh3d\",\"colorbar\":{\"outlinewidth\":0,\"ticks\":\"\"}}],\"scatter\":[{\"fillpattern\":{\"fillmode\":\"overlay\",\"size\":10,\"solidity\":0.2},\"type\":\"scatter\"}],\"parcoords\":[{\"type\":\"parcoords\",\"line\":{\"colorbar\":{\"outlinewidth\":0,\"ticks\":\"\"}}}],\"scatterpolargl\":[{\"type\":\"scatterpolargl\",\"marker\":{\"colorbar\":{\"outlinewidth\":0,\"ticks\":\"\"}}}],\"bar\":[{\"error_x\":{\"color\":\"#2a3f5f\"},\"error_y\":{\"color\":\"#2a3f5f\"},\"marker\":{\"line\":{\"color\":\"#E5ECF6\",\"width\":0.5},\"pattern\":{\"fillmode\":\"overlay\",\"size\":10,\"solidity\":0.2}},\"type\":\"bar\"}],\"scattergeo\":[{\"type\":\"scattergeo\",\"marker\":{\"colorbar\":{\"outlinewidth\":0,\"ticks\":\"\"}}}],\"scatterpolar\":[{\"type\":\"scatterpolar\",\"marker\":{\"colorbar\":{\"outlinewidth\":0,\"ticks\":\"\"}}}],\"histogram\":[{\"marker\":{\"pattern\":{\"fillmode\":\"overlay\",\"size\":10,\"solidity\":0.2}},\"type\":\"histogram\"}],\"scattergl\":[{\"type\":\"scattergl\",\"marker\":{\"colorbar\":{\"outlinewidth\":0,\"ticks\":\"\"}}}],\"scatter3d\":[{\"type\":\"scatter3d\",\"line\":{\"colorbar\":{\"outlinewidth\":0,\"ticks\":\"\"}},\"marker\":{\"colorbar\":{\"outlinewidth\":0,\"ticks\":\"\"}}}],\"scattermapbox\":[{\"type\":\"scattermapbox\",\"marker\":{\"colorbar\":{\"outlinewidth\":0,\"ticks\":\"\"}}}],\"scatterternary\":[{\"type\":\"scatterternary\",\"marker\":{\"colorbar\":{\"outlinewidth\":0,\"ticks\":\"\"}}}],\"scattercarpet\":[{\"type\":\"scattercarpet\",\"marker\":{\"colorbar\":{\"outlinewidth\":0,\"ticks\":\"\"}}}],\"carpet\":[{\"aaxis\":{\"endlinecolor\":\"#2a3f5f\",\"gridcolor\":\"white\",\"linecolor\":\"white\",\"minorgridcolor\":\"white\",\"startlinecolor\":\"#2a3f5f\"},\"baxis\":{\"endlinecolor\":\"#2a3f5f\",\"gridcolor\":\"white\",\"linecolor\":\"white\",\"minorgridcolor\":\"white\",\"startlinecolor\":\"#2a3f5f\"},\"type\":\"carpet\"}],\"table\":[{\"cells\":{\"fill\":{\"color\":\"#EBF0F8\"},\"line\":{\"color\":\"white\"}},\"header\":{\"fill\":{\"color\":\"#C8D4E3\"},\"line\":{\"color\":\"white\"}},\"type\":\"table\"}],\"barpolar\":[{\"marker\":{\"line\":{\"color\":\"#E5ECF6\",\"width\":0.5},\"pattern\":{\"fillmode\":\"overlay\",\"size\":10,\"solidity\":0.2}},\"type\":\"barpolar\"}],\"pie\":[{\"automargin\":true,\"type\":\"pie\"}]},\"layout\":{\"autotypenumbers\":\"strict\",\"colorway\":[\"#636efa\",\"#EF553B\",\"#00cc96\",\"#ab63fa\",\"#FFA15A\",\"#19d3f3\",\"#FF6692\",\"#B6E880\",\"#FF97FF\",\"#FECB52\"],\"font\":{\"color\":\"#2a3f5f\"},\"hovermode\":\"closest\",\"hoverlabel\":{\"align\":\"left\"},\"paper_bgcolor\":\"white\",\"plot_bgcolor\":\"#E5ECF6\",\"polar\":{\"bgcolor\":\"#E5ECF6\",\"angularaxis\":{\"gridcolor\":\"white\",\"linecolor\":\"white\",\"ticks\":\"\"},\"radialaxis\":{\"gridcolor\":\"white\",\"linecolor\":\"white\",\"ticks\":\"\"}},\"ternary\":{\"bgcolor\":\"#E5ECF6\",\"aaxis\":{\"gridcolor\":\"white\",\"linecolor\":\"white\",\"ticks\":\"\"},\"baxis\":{\"gridcolor\":\"white\",\"linecolor\":\"white\",\"ticks\":\"\"},\"caxis\":{\"gridcolor\":\"white\",\"linecolor\":\"white\",\"ticks\":\"\"}},\"coloraxis\":{\"colorbar\":{\"outlinewidth\":0,\"ticks\":\"\"}},\"colorscale\":{\"sequential\":[[0.0,\"#0d0887\"],[0.1111111111111111,\"#46039f\"],[0.2222222222222222,\"#7201a8\"],[0.3333333333333333,\"#9c179e\"],[0.4444444444444444,\"#bd3786\"],[0.5555555555555556,\"#d8576b\"],[0.6666666666666666,\"#ed7953\"],[0.7777777777777778,\"#fb9f3a\"],[0.8888888888888888,\"#fdca26\"],[1.0,\"#f0f921\"]],\"sequentialminus\":[[0.0,\"#0d0887\"],[0.1111111111111111,\"#46039f\"],[0.2222222222222222,\"#7201a8\"],[0.3333333333333333,\"#9c179e\"],[0.4444444444444444,\"#bd3786\"],[0.5555555555555556,\"#d8576b\"],[0.6666666666666666,\"#ed7953\"],[0.7777777777777778,\"#fb9f3a\"],[0.8888888888888888,\"#fdca26\"],[1.0,\"#f0f921\"]],\"diverging\":[[0,\"#8e0152\"],[0.1,\"#c51b7d\"],[0.2,\"#de77ae\"],[0.3,\"#f1b6da\"],[0.4,\"#fde0ef\"],[0.5,\"#f7f7f7\"],[0.6,\"#e6f5d0\"],[0.7,\"#b8e186\"],[0.8,\"#7fbc41\"],[0.9,\"#4d9221\"],[1,\"#276419\"]]},\"xaxis\":{\"gridcolor\":\"white\",\"linecolor\":\"white\",\"ticks\":\"\",\"title\":{\"standoff\":15},\"zerolinecolor\":\"white\",\"automargin\":true,\"zerolinewidth\":2},\"yaxis\":{\"gridcolor\":\"white\",\"linecolor\":\"white\",\"ticks\":\"\",\"title\":{\"standoff\":15},\"zerolinecolor\":\"white\",\"automargin\":true,\"zerolinewidth\":2},\"scene\":{\"xaxis\":{\"backgroundcolor\":\"#E5ECF6\",\"gridcolor\":\"white\",\"linecolor\":\"white\",\"showbackground\":true,\"ticks\":\"\",\"zerolinecolor\":\"white\",\"gridwidth\":2},\"yaxis\":{\"backgroundcolor\":\"#E5ECF6\",\"gridcolor\":\"white\",\"linecolor\":\"white\",\"showbackground\":true,\"ticks\":\"\",\"zerolinecolor\":\"white\",\"gridwidth\":2},\"zaxis\":{\"backgroundcolor\":\"#E5ECF6\",\"gridcolor\":\"white\",\"linecolor\":\"white\",\"showbackground\":true,\"ticks\":\"\",\"zerolinecolor\":\"white\",\"gridwidth\":2}},\"shapedefaults\":{\"line\":{\"color\":\"#2a3f5f\"}},\"annotationdefaults\":{\"arrowcolor\":\"#2a3f5f\",\"arrowhead\":0,\"arrowwidth\":1},\"geo\":{\"bgcolor\":\"white\",\"landcolor\":\"#E5ECF6\",\"subunitcolor\":\"white\",\"showland\":true,\"showlakes\":true,\"lakecolor\":\"white\"},\"title\":{\"x\":0.05},\"mapbox\":{\"style\":\"light\"}}},\"xaxis\":{\"anchor\":\"y\",\"domain\":[0.0,0.45]},\"yaxis\":{\"anchor\":\"x\",\"domain\":[0.0,1.0]},\"xaxis2\":{\"anchor\":\"y2\",\"domain\":[0.55,1.0]},\"yaxis2\":{\"anchor\":\"x2\",\"domain\":[0.0,1.0]},\"title\":{\"text\":\"Population of Oceania\"}},                        {\"responsive\": true}                    ).then(function(){\n",
       "                            \n",
       "var gd = document.getElementById('f3170e0e-3ab9-4eeb-a4e4-108a74a33543');\n",
       "var x = new MutationObserver(function (mutations, observer) {{\n",
       "        var display = window.getComputedStyle(gd).display;\n",
       "        if (!display || display === 'none') {{\n",
       "            console.log([gd, 'removed!']);\n",
       "            Plotly.purge(gd);\n",
       "            observer.disconnect();\n",
       "        }}\n",
       "}});\n",
       "\n",
       "// Listen for the removal of the full notebook cells\n",
       "var notebookContainer = gd.closest('#notebook-container');\n",
       "if (notebookContainer) {{\n",
       "    x.observe(notebookContainer, {childList: true});\n",
       "}}\n",
       "\n",
       "// Listen for the clearing of the current output cell\n",
       "var outputEl = gd.closest('.output');\n",
       "if (outputEl) {{\n",
       "    x.observe(outputEl, {childList: true});\n",
       "}}\n",
       "\n",
       "                        })                };                });            </script>        </div>"
      ]
     },
     "metadata": {},
     "output_type": "display_data"
    }
   ],
   "source": [
    "fig = make_subplots(\n",
    "        rows = 1, \n",
    "        cols = 2,\n",
    "        specs = [[{\"type\" : \"xy\"}, {\"type\" : \"xy\"}]]\n",
    ")\n",
    "\n",
    "fig.add_trace(\n",
    "    go.Bar(\n",
    "        x = data[(data['year'] == 2007) & (data['country'] == 'New Zealand')]['country'],\n",
    "        y = data[(data['year'] == 2007) & (data['country'] == 'New Zealand')]['pop'],\n",
    "    ),\n",
    "        row = 1,\n",
    "        col = 1)\n",
    "\n",
    "fig.add_trace(\n",
    "    go.Bar(\n",
    "        x = data[(data['year'] == 2007) & (data['country'] == 'Australia')]['country'],\n",
    "        y = data[(data['year'] == 2007) & (data['country'] == 'Australia')]['pop'],\n",
    "    ),\n",
    "        row = 1,\n",
    "        col = 2)\n",
    "\n",
    "fig.add_trace(\n",
    "    go.Scatter(\n",
    "        x = data[data['country'] == 'New Zealand']['year'],\n",
    "        y = data[data['country'] == 'New Zealand']['pop'],\n",
    "        mode = 'lines',\n",
    "        name = 'lines'\n",
    "    ),\n",
    "        row = 1,\n",
    "        col = 1)\n",
    "\n",
    "fig.add_trace(\n",
    "    go.Scatter(\n",
    "        x = data[data['country'] == 'Australia']['year'],\n",
    "        y = data[data['country'] == 'Australia']['pop'],\n",
    "        mode = 'lines',\n",
    "        name = 'lines'\n",
    "    ), \n",
    "        row = 1,\n",
    "        col = 2)\n",
    "\n",
    "fig.update_layout(title = 'Population of Oceania')\n",
    "\n",
    "fig.show()"
   ]
  }
 ],
 "metadata": {
  "kernelspec": {
   "display_name": "Python 3 (ipykernel)",
   "language": "python",
   "name": "python3"
  },
  "language_info": {
   "codemirror_mode": {
    "name": "ipython",
    "version": 3
   },
   "file_extension": ".py",
   "mimetype": "text/x-python",
   "name": "python",
   "nbconvert_exporter": "python",
   "pygments_lexer": "ipython3",
   "version": "3.9.16"
  }
 },
 "nbformat": 4,
 "nbformat_minor": 5
}
